{
 "cells": [
  {
   "cell_type": "markdown",
   "id": "783d4e20",
   "metadata": {},
   "source": [
    "All experiments were executed using Python 3.8.1"
   ]
  },
  {
   "cell_type": "markdown",
   "id": "2dbd38d0-fbf4-4e9d-8253-4f549f7e052e",
   "metadata": {},
   "source": [
    "# 1 Introduction\n",
    "## 1-1 Quantum State Preparation\n",
    "Quantum state preparation is fundamental to quantum computing. It lies at the heart of quantum algorithms, quantum machine learning, quantum error correction, and quantum physics research, but it can be very difficult to start from an initial state $|0\\dots 0 \\rangle$ and efficiently prepare an arbitrary state $|\\psi \\rangle$ with high fidelity. Your objective for this year's Open Science Prize is to significantly improve state-of-the-art state preparation in the context of the Variational Quantum Eigensolver (VQE) algorithm.\n",
    "\n",
    "The state you will prepare is the highly entangled ground state of a Heisenberg spin-1/2 model on a kagome lattice. That sentence is jam packed with physics jargon, but do not despair. Though the problem statement originates deep within quantum physics research, we will avoid jargon as much as possible. A deep dive into the physics literature (which is very fascinating) is left as an exercise for the reader.\n",
    "\n",
    "Why the ground state of a Heisenberg model? Well, the ground state of a system is it's lowest energy configuration, and the ground state tends to be where exciting and unexpected quantum affects flourish. For example, when the element Mercury is cooled down near its ground state (below 4 Kelvin), it has no electrical resistance. None. Zero! Near its thermal ground state, a chunk of Mercury is [a superconductor](https://en.wikipedia.org/wiki/History_of_superconductivity). Researchers have been trying to understand what materials exhibit superconductivity and how it's even possible ever since it was first discovered. If that isn't cool enough for you, consider the [Bose-Einstein condensate](https://en.wikipedia.org/wiki/Bose–Einstein_condensate). This is quantum phase of matter where a dilute gas of individual atoms (bosonic atoms such as [Rubidium](https://en.wikipedia.org/wiki/Rubidium))--when cooled to their ground state--effectively become one giant particle!\n",
    "\n",
    "A system's ground state determines important and fascinating physical properties (see the two examples highlighted above), yet some quantum systems have ground states (and their associated energies) which are difficult to make and measure in the lab as well as being intractable for classical computers to calculate. The Variational Quantum Eigensolver (VQE) is a promising quantum algorithm that could find these ground states and their energies.\n",
    "\n",
    "You will implement the VQE algorithm on [ibmq_guadalupe](https://quantum-computing.ibm.com/services/resources?system=ibmq_guadalupe) a 16 qubit [heavy-hex](https://research.ibm.com/blog/heavy-hex-lattice) device. This is the largest device used in an Open Science Prize to date. Working with more qubits presents its own challenges. Be mindful of how your solution scales as this will be part of the judging criteria this year.\n",
    "\n",
    "We'll get more into the principles of VQE later, but for now, remember that VQE relies on iterative cycles of quantum and classical computation. Fast iterations and fast communication between the classical and quantum computer are essential for a fast VQE, and [Qiskit runtime](https://github.com/Qiskit/qiskit-ibm-runtime) does just that. [Qiskit runtime](https://medium.com/qiskit/so-what-is-qiskit-runtime-anyway-c78aecf3742) is a programming model and containerized environment designed to reduce the computational cycle time between quantum and classical computers. Later in this notebook, we will demonstrate how to leverage the latest release of runtime for fast VQE.\n",
    "\n",
    "The notebook is organized as follows: Section 1 gives a brief introduction to the Heisenberg model, the kagome lattice, and VQE algorithm. It also provides a classical calculation of the ground state(s) energy. Section 2 introduces how to construct a VQE experiment and simulate it on your local computer. Section 3 introduces Qiskit runtime and how to run VQE on a cloud simulator or real backend. Finally, if you are feeling stuck, we've provided some questions to consider as you design and implement your solution.\n",
    "\n",
    "#### Objective\n",
    "**Your task is to use the VQE algorithm to compute the ground state of a Heisenberg spin-1/2 system on a kagome lattice unit cell with the lowest possible relative error of the measured state's energy expectation value wrt to the exact value.** There are actually two ground states in this specific case, and you may prepare any combination of the two including only one or the other.\n"
   ]
  },
  {
   "cell_type": "markdown",
   "id": "446e775d-5c57-447e-9c93-84c70509a64a",
   "metadata": {},
   "source": [
    "## 1-2 Heisenberg spin-1/2 model on the kagome lattice\n",
    "For the Open Science Prize, (get ready for some jargon) you will work with the antiferromagnetic $XXX$ Heisenberg model arranged on a kagome lattice. The $XXX$ Heisenberg model Hamiltonian for this Prize will be defined as\n",
    "$$\n",
    "\\begin{equation}\n",
    "H = \\sum_{\\langle i j \\rangle}^N X_i X_{i+1} + Y_i Y_{i+1} + Z_i Z_{i+1}\n",
    "\\end{equation}\n",
    "$$\n",
    "where $\\langle i j \\rangle$ is sum over neighboring spins and $X$, $Y$, and $Z$ are the usual Pauli matrices. The Heisenberg model hosts a wide variety of exotic quantum physics all of which heavily depend on the arrangement of the spins. The arrangement we are interested in is a kagome lattice.\n",
    "\n",
    "![title](images/kagome_unit_cell.png)\n",
    "\n",
    "The kagome lattice is a unique lattice structure made up of corner-sharing triangles (see the unit cell above). In general, the kagome lattice (i.e. many unit cells tiled together) is theorized to host a fascinating quantum phase of matter called a quantum spin liquid--a research topic at the forefront of quantum physics [1-3]. Additionally, excitations from that ground state are theorized to show exotic quantum behavior such a fractionalized particle excitations [1-3]. For those interested in a deeper dive into the physics check out Refs. [1-3] and other papers.\n",
    "\n",
    "This year's Prize will focus on a single unit cell (the base pattern shown above) which has 12 spin-1/2 particles represented in as blue dots in the image below. Each spin will be represented by a single qubit. The lines connecting the spin-1/2 particles called edges--borrowing a term from [graph theory](https://en.wikipedia.org/wiki/Graph_theory)--and they specify which spins are neighbors."
   ]
  },
  {
   "cell_type": "markdown",
   "id": "4af4910d-a71a-47ac-8953-20cda5d5c04f",
   "metadata": {},
   "source": [
    "## 1-3 VQE\n",
    "The Variational Quantum Eigensolver (VQE) is a quantum algorithm that can find the ground state(s) of a given Hamiltonian [5-7]. The VQE algorithm is based on the [variational principle](https://en.wikipedia.org/wiki/Variational_method_(quantum_mechanics)) of quantum mechanics and relies on both quantum and classical computations. Below, we briefly sketch out the main principles of VQE, and encourage you to review educational material and the research literature for details.\n",
    "\n",
    "Given a Hamiltonian $H$ and ground state $|\\psi_g \\rangle$, the variational principle says that even if we don't know the exact ground state an approximate ground state $|\\tilde{ \\psi}_g\\rangle \\approx |\\psi_g \\rangle$ can be found. To find the approximate ground state $|\\tilde{ \\psi}_g\\rangle$, we start with a parameterized state called an ansatz $|\\psi(\\boldsymbol{\\theta})\\rangle$ where $\\boldsymbol{\\theta} \\equiv (\\theta_1, \\theta_2,\\dots)$ are the parameters. In theory, there is a combination of parameter values where the anstaz approximates the ground state $|\\psi(\\boldsymbol{\\theta})\\rangle \\approx |\\psi_g\\rangle$, but we need a way to find those parameter values. This is done with a combination of quantum and classical computing.\n",
    "\n",
    "To optimize the parameters, many cycles of quantum and classical computing drive the ansatz toward the approximate ground state. The quantum computer computes the energy expectation value of Hamiltonian $H$ acting on the the parameterized anstaz for a given set of parameter values\n",
    "$$\n",
    "E(\\boldsymbol{\\theta}) = \\langle \\psi(\\boldsymbol{\\theta}) | H | \\psi(\\boldsymbol{\\theta}) \\rangle \\;.\n",
    "$$\n",
    "For those familiar with optimization terminology this is the cost function. A classical computer uses the measurement data from the quantum computer to determine how the parameters values should be adjusted to further minimize the energy $E(\\boldsymbol{\\theta})$. As the classical and quantum computer loop through many iterations, they search the parameter space and converge to the approximate ground state.\n",
    "\n",
    "How can we know the state that gives the minimum energy expectation value is the ground state? The variation principle guarantees that the minimal energy expectation value can only be achieved if the quantum state is the ground state. No other state can give a lower energy--hence the name ground state. In this way, we can be confident that minimizing $E(\\boldsymbol{\\theta})$ with respect to the parameters $\\boldsymbol{\\theta}$ will drive the ansatz toward an accurate approximation of the true ground state and not some other state.\n",
    "\n",
    "Of course, the actual implementation of the algorithm comes with challenges. The ansatz $|\\psi(\\boldsymbol{\\theta})\\rangle$ may never reach the ground state for any combination of parameters. The ansatz could have too many parameters and encounter a barren plateau during optimization. When implementing the VQE, it may take an unreasonable amount of time to execute the ansatz or measure the expectation value on quantum hardware. The quantum hardware may be too noisy. The classical optimizer may not pair well with the optimization landscape or the level of noise from the quantum measurements. Etc.\n",
    "\n",
    "To jump into more details about VQE, we included three review articles on the topic below. We encourage you to review additional educational material and research literature as you work out your solution."
   ]
  },
  {
   "cell_type": "code",
   "execution_count": 89,
   "id": "fb3b2e13-9651-49eb-9f8a-0012d3fb21ed",
   "metadata": {},
   "outputs": [],
   "source": [
    "import numpy as np\n",
    "from qiskit.utils import algorithm_globals\n",
    "from time import time\n",
    "import os\n",
    "import re\n",
    "\n",
    "seed = 170\n",
    "algorithm_globals.random_seed = seed\n",
    "\n",
    "import matplotlib.pyplot as plt\n",
    "plt.rcParams.update({\"font.size\": 16})  # enlarge matplotlib fonts"
   ]
  },
  {
   "cell_type": "markdown",
   "id": "23557032",
   "metadata": {},
   "source": [
    "## 1-4 Classical computation of ground state energy\n",
    "The twelve qubit state space isn't terribly large $2^{12} = 4096$, but it also isn't small. A classical computer can still diagonalize the Hamiltonian and thus compute the ground state and its associated energy. For the Open Science Prize, we don't need a full energy spectrum, just a calculation of the ground state energy. When working on your solution, remember that brute force approaches that work on 5 or 7-qubit devices may not work as well with ibmq_guadalupe's 16 qubits.\n",
    "\n",
    "Below is an example classical calculation of the ground state energy. It will be used as a reference to your VQE results. First, the kagome lattice is defined on a graph. Second, we built the Hamiltonian from the graph edges. Finally, the expected ground state energy is calculated.\n",
    "\n",
    "### Qiskit nature kagome unit cell\n",
    "Using Qiskit nature's [`Lattice` object](https://qiskit.org/documentation/nature/tutorials/10_lattice_models.html), we can represent any spin lattice as a graph. Here we construct the unit cell of a kagome lattice by defining a list of edges between the twelve sites. This `Lattice` representation will be convenient to use when defining the $XXX$ Hamiltonian terms."
   ]
  },
  {
   "cell_type": "code",
   "execution_count": 90,
   "id": "3565f61a-2fa8-4af8-83d9-5a8c8679ccf7",
   "metadata": {},
   "outputs": [],
   "source": [
    "from IPython.display import clear_output\n",
    "import rustworkx as rx\n",
    "from qiskit_nature.problems.second_quantization.lattice import Lattice\n",
    "\n",
    "# Custom Heisenberg couplings\n",
    "import sys\n",
    "sys.path.append(r'.')  # may be needed if running notebook on a cloud service\n",
    "from heisenberg_model import HeisenbergModel"
   ]
  },
  {
   "cell_type": "code",
   "execution_count": 91,
   "id": "5839d6d3-ee8a-4d01-9af4-e654ae915778",
   "metadata": {},
   "outputs": [
    {
     "data": {
      "image/png": "[encoded data removed]",
      "text/plain": [
       "<Figure size 640x480 with 1 Axes>"
      ]
     },
     "metadata": {},
     "output_type": "display_data"
    }
   ],
   "source": [
    "# Kagome unit cell\n",
    "num_sites = 12\n",
    "# Edge weight\n",
    "t = 1.0\n",
    "\n",
    "# Generate graph of kagome unit cell\n",
    "# Start by defining all the edges\n",
    "graph = rx.PyGraph(multigraph=False)\n",
    "graph.add_nodes_from(range(num_sites))\n",
    "edge_list = [\n",
    "    (0, 1, t),\n",
    "    (2, 3, t),\n",
    "    (4, 5, t),\n",
    "    (6, 7, t),\n",
    "    (8, 9, t),\n",
    "    (10, 11, t),\n",
    "    (0, 2, t),\n",
    "    (2, 4, t),\n",
    "    (4, 6, t),\n",
    "    (6, 8, t),\n",
    "    (8, 10, t),\n",
    "    (10, 0, t),\n",
    "    (2, 1, t),\n",
    "    (4, 3, t),\n",
    "    (6, 5, t),\n",
    "    (8, 7, t),\n",
    "    (10, 9, t),\n",
    "    (0, 11, t),\n",
    "]\n",
    "# Generate graph from the list of edges\n",
    "graph.add_edges_from(edge_list)\n",
    "\n",
    "# Make a Lattice from graph\n",
    "kagome_unit_cell = Lattice(graph)\n",
    "\n",
    "# Draw Lattice\n",
    "kagome_unit_cell.draw(style={'with_labels':True,'font_color':'white','node_color':'purple'})\n",
    "# plt.savefig('kagome_unit_cell.png')\n",
    "plt.show()"
   ]
  },
  {
   "cell_type": "markdown",
   "id": "77e7a794-04c3-48f7-aa62-1f020c241282",
   "metadata": {},
   "source": [
    "Now that we have the lattice geometry, we can place each term in the Hamiltonian on its corresponding edge. This is done by using the custom `HeisenbergModel` found in the heisenberg_model.py file. This model is based on Qiskit Nature's [`IsingModel` class](https://qiskit.org/documentation/nature/stubs/qiskit_nature.problems.second_quantization.lattice.IsingModel.html) . It places $XX + YY + ZZ$ on each edge of the lattice (per the Hamiltonian's definition).\n",
    "\n",
    "We will also need to specify how the spin-1/2 particles map to qubits. Using Qiskit nature's `LogarithmicMapper`, we can map each spin-1/2 site to a single qubit. For more information on Qiskit nature's spin mappings see [here]( https://qiskit.org/documentation/nature/stubs/qiskit_nature.mappers.second_quantization.SpinMapper.html#qiskit_nature.mappers.second_quantization.SpinMapper)."
   ]
  },
  {
   "cell_type": "code",
   "execution_count": 92,
   "id": "b63edd90-b02d-4c6b-8d9d-3692e05feec4",
   "metadata": {},
   "outputs": [],
   "source": [
    "from qiskit_nature.mappers.second_quantization import LogarithmicMapper"
   ]
  },
  {
   "cell_type": "code",
   "execution_count": 93,
   "id": "2d0f1fa1-ad52-4c82-bc10-b971b227b8ec",
   "metadata": {},
   "outputs": [
    {
     "data": {
      "text/plain": [
       "PauliSumOp(SparsePauliOp(['ZZIIIIIIIIII', 'IZZIIIIIIIII', 'IZIZIIIIIIII', 'IIZZIIIIIIII', 'IIIZZIIIIIII', 'IIIZIZIIIIII', 'IIIIZZIIIIII', 'IIIIIZZIIIII', 'IIIIIZIZIIII', 'IIIIIIZZIIII', 'IIIIIIIZZIII', 'IIIIIIIZIZII', 'IIIIIIIIZZII', 'IIIIIIIIIZZI', 'ZIIIIIIIIIIZ', 'IZIIIIIIIIIZ', 'IIIIIIIIIZIZ', 'IIIIIIIIIIZZ', 'YYIIIIIIIIII', 'IYYIIIIIIIII', 'IYIYIIIIIIII', 'IIYYIIIIIIII', 'IIIYYIIIIIII', 'IIIYIYIIIIII', 'IIIIYYIIIIII', 'IIIIIYYIIIII', 'IIIIIYIYIIII', 'IIIIIIYYIIII', 'IIIIIIIYYIII', 'IIIIIIIYIYII', 'IIIIIIIIYYII', 'IIIIIIIIIYYI', 'YIIIIIIIIIIY', 'IYIIIIIIIIIY', 'IIIIIIIIIYIY', 'IIIIIIIIIIYY', 'XXIIIIIIIIII', 'IXXIIIIIIIII', 'IXIXIIIIIIII', 'IIXXIIIIIIII', 'IIIXXIIIIIII', 'IIIXIXIIIIII', 'IIIIXXIIIIII', 'IIIIIXXIIIII', 'IIIIIXIXIIII', 'IIIIIIXXIIII', 'IIIIIIIXXIII', 'IIIIIIIXIXII', 'IIIIIIIIXXII', 'IIIIIIIIIXXI', 'XIIIIIIIIIIX', 'IXIIIIIIIIIX', 'IIIIIIIIIXIX', 'IIIIIIIIIIXX'],\n",
       "              coeffs=[1.+0.j, 1.+0.j, 1.+0.j, 1.+0.j, 1.+0.j, 1.+0.j, 1.+0.j, 1.+0.j, 1.+0.j,\n",
       " 1.+0.j, 1.+0.j, 1.+0.j, 1.+0.j, 1.+0.j, 1.+0.j, 1.+0.j, 1.+0.j, 1.+0.j,\n",
       " 1.+0.j, 1.+0.j, 1.+0.j, 1.+0.j, 1.+0.j, 1.+0.j, 1.+0.j, 1.+0.j, 1.+0.j,\n",
       " 1.+0.j, 1.+0.j, 1.+0.j, 1.+0.j, 1.+0.j, 1.+0.j, 1.+0.j, 1.+0.j, 1.+0.j,\n",
       " 1.+0.j, 1.+0.j, 1.+0.j, 1.+0.j, 1.+0.j, 1.+0.j, 1.+0.j, 1.+0.j, 1.+0.j,\n",
       " 1.+0.j, 1.+0.j, 1.+0.j, 1.+0.j, 1.+0.j, 1.+0.j, 1.+0.j, 1.+0.j, 1.+0.j]), coeff=1)"
      ]
     },
     "execution_count": 93,
     "metadata": {},
     "output_type": "execute_result"
    }
   ],
   "source": [
    "# Build Hamiltonian from graph edges\n",
    "heis = HeisenbergModel.uniform_parameters(\n",
    "    lattice=kagome_unit_cell,\n",
    "    uniform_interaction=1.0,  # same spin-spin interaction weight as used in graph\n",
    "    uniform_onsite_potential=0.0,  # No singe site external field\n",
    ")\n",
    "\n",
    "# The Lattice needs an explicit mapping to the qubit states.\n",
    "# We map 1 qubit for 1 spin-1/2 particle using the LogarithmicMapper\n",
    "log_mapper = LogarithmicMapper()\n",
    "# Multiply by factor of 4 to account for (1/2)^2 terms from spin operators in the HeisenbergModel\n",
    "ham = 4 * log_mapper.map(heis.second_q_ops().simplify())\n",
    "# Print Hamiltonian to check it's what we expect.\n",
    "# There are 18 edges and 3 terms per edge (XX, YY, and ZZ),\n",
    "# so there should be 54 equally weighted terms.\n",
    "ham"
   ]
  },
  {
   "cell_type": "markdown",
   "id": "e7c2fe6a-98c3-413d-8ee5-ab635184da80",
   "metadata": {},
   "source": [
    "### Compute ground state energy\n",
    "With the Hamiltonian in hand, we can now calculate the expected ground state and its energy. Qiskit offers different methods to do this. The method [here](https://qiskit.org/documentation/apidoc/algorithms.html#minimum-eigensolvers) computes the ground state energy. This [method](https://qiskit.org/documentation/apidoc/algorithms.html#eigensolvers) computes the ground state ($k=0$) and potentially higher energy states if the users wishes ($k>0$).\n",
    "\n",
    "Below is an example calculation of finding the lowest 3 energies ($k=3$) of the system using the second method. Remember that for this year's Prize, you will only need to use VQE to find the ground state energy and not any excited state energies."
   ]
  },
  {
   "cell_type": "code",
   "execution_count": 94,
   "id": "f7bf1d65-0883-4180-985c-bfa88b47e334",
   "metadata": {},
   "outputs": [
    {
     "name": "stdout",
     "output_type": "stream",
     "text": [
      "[-18.         -18.         -16.96132284]\n"
     ]
    }
   ],
   "source": [
    "from qiskit.algorithms import NumPyEigensolver\n",
    "\n",
    "# find the first three (k=3) eigenvalues\n",
    "exact_solver = NumPyEigensolver(k=3)\n",
    "exact_result = exact_solver.compute_eigenvalues(ham)\n",
    "print(exact_result.eigenvalues)\n",
    "\n",
    "# Save ground state energy for later\n",
    "gs_energy = np.round(exact_result.eigenvalues[0], 4)"
   ]
  },
  {
   "cell_type": "markdown",
   "id": "5148f389-84b9-4608-bde5-d1151e45fdec",
   "metadata": {},
   "source": [
    "You'll note that -18 is found twice. This means there are actually two ground states for this system. The -16.96 energy is the first excited state, which is not part of this year's challenge. **For this year's Prize, we will only be judging based off the measured ground state energy. This means it does not matter which of the two ground states, or combination of them, your VQE implementation finds.**"
   ]
  },
  {
   "cell_type": "markdown",
   "id": "b7dc18ef-d6b7-4594-b7ea-a93f922f9997",
   "metadata": {},
   "source": [
    "## 2-1 VQE with local runtime primitives\n",
    "\n",
    "To compute the ground state energy using VQE, we first pick an appropriate device. This year's Prize will use ibmq_guadalupe which has 16 qubits. This is 4 extra qubits than the Hamiltonian, so we will need to \"inflate\" the Hamiltonian with identity operators so we can measure 12 qubit Hamiltonian's energy expectation value on a 16 qubit device.\n",
    "After inflating the Hamiltonian, the anstaz and classical optimizer components are built up. Finally, a class is defined to bring everything together for the VQE algorithm, and it's executed on a local simulator.\n",
    "\n",
    "The code below is largely based off of this example [tutorial](https://github.com/mberna/qce22-qiskit-runtime-tutorial/blob/main/docs/tutorials/Building%20algorithms%20with%20Qiskit%20Runtime.ipynb) of using qiskit runtime primitives from IEEE week. Feel free to read through to learn more about qiskit runtime and VQE."
   ]
  },
  {
   "cell_type": "markdown",
   "id": "9d8e4acf-fcf6-490d-bda9-76b663d10d4b",
   "metadata": {},
   "source": [
    "## 2-2 Qiskit runtime\n",
    "\n",
    "[Qiskit runtime](https://github.com/Qiskit/qiskit-ibm-runtime) is a paradigm which brings classical and quantum computing resources closer together--speeding up quantum algorithms especially variational ones. We will be using runtime because of its [speed boost](https://research.ibm.com/blog/120x-quantum-speedup) relative to the traditional way quantum circuits are executed using qiskit. In this notebook, we'll demonstrate an example VQE executed with qiskit runtime, but we encourage you to get a deeper understanding of the tool by checking out an overview of qiskit runtime and some tutorials on the [qiskit docs section on runtime](https://qiskit.org/documentation/partners/qiskit_ibm_runtime/) as well as the IBM [research blog](https://research.ibm.com/blog/qiskit-runtime-capabilities-integration)."
   ]
  },
  {
   "cell_type": "code",
   "execution_count": 95,
   "id": "45fc1701-e9b9-4c83-b326-7d897cfd68d7",
   "metadata": {},
   "outputs": [],
   "source": [
    "from qiskit import QuantumCircuit, transpile\n",
    "from qiskit.circuit import Parameter\n",
    "import pandas as pd\n",
    "from qiskit import IBMQ"
   ]
  },
  {
   "cell_type": "markdown",
   "id": "05e35916",
   "metadata": {},
   "source": [
    "According to [FakeProvider Docs](https://qiskit.org/documentation/apidoc/providers_fake_provider.html), `FakeGuadalupe` is not calibrated with the latest data and the results will not be representative of the latest behaviours of the real quantum system which the fake backend is mimicking. However we can generate a simulator mimics a real quantum system with the latest calibration results.\n",
    "\n",
    "Here we create two noisy simulators: `noisy_sim` (FakeGuadalupe) and `noisy_sim_latest` (FakeGuadalupe with latest calibrated system data).\n",
    "\n",
    "**Note:** We ran the notebook on 15th April 2023 and obtained the results with the `noisy_sim` and `noisy_sim_latest` backend."
   ]
  },
  {
   "cell_type": "code",
   "execution_count": 96,
   "id": "1a7a6967-4aee-4ece-a521-34cab047ca75",
   "metadata": {},
   "outputs": [
    {
     "name": "stderr",
     "output_type": "stream",
     "text": [
      "ibmqfactory.load_account:WARNING:2023-04-15 20:15:40,496: Credentials are already in use. The existing account in the session will be replaced.\n"
     ]
    }
   ],
   "source": [
    "# Doc for loading IBMQ account https://quantum-computing.ibm.com/lab/docs/iql/manage/account/ibmq#the-account\n",
    "# IBMQ.save_account(TOKEN)\n",
    "provider = IBMQ.load_account()\n",
    "provider = IBMQ.get_provider(hub='ibm-q-community', group='ibmquantumawards', project='open-science-22')\n",
    "\n",
    "# Real backend; needed for transpilation later on\n",
    "guadalupe = provider.get_backend(\"ibmq_guadalupe\")\n",
    "\n",
    "from qiskit.providers.aer import AerSimulator\n",
    "\n",
    "# Get fake backend if you like\n",
    "from qiskit.providers.fake_provider import FakeGuadalupe\n",
    "\n",
    "# Noisy simulator backend\n",
    "noisy_sim = FakeGuadalupe()\n",
    "\n",
    "# generate a simulator that mimics the real quantum system with the latest calibration results\n",
    "# Dated: 13th April 2023\n",
    "noisy_sim_latest = AerSimulator.from_backend(guadalupe)\n",
    "\n",
    "coupling_map = noisy_sim.configuration().coupling_map"
   ]
  },
  {
   "cell_type": "code",
   "execution_count": 97,
   "id": "1ebd63b0",
   "metadata": {},
   "outputs": [
    {
     "name": "stdout",
     "output_type": "stream",
     "text": [
      "Average CX gate error: 0.01079\n",
      "Average single qubit SX gate error: 0.00040\n",
      "Average single qubit X gate error: 0.00040\n"
     ]
    }
   ],
   "source": [
    "# Get useful information about backend (used later on)\n",
    "properties = noisy_sim.properties()\n",
    "config = noisy_sim.configuration()\n",
    "defaults = noisy_sim.defaults()\n",
    "\n",
    "# Get native basis gates for backend\n",
    "basis_gates = config.basis_gates\n",
    "\n",
    "# Compute average SX gate error for backend\n",
    "avg_sx_err = np.mean([properties.gate_error(\"sx\", i) for i in range(16)])\n",
    "# Compute average X gate error for backend\n",
    "avg_x_err = np.mean([properties.gate_error(\"x\", i) for i in range(16)])\n",
    "# Compute the average CNOT gate error for backend\n",
    "avg_cx_err = np.mean(\n",
    "    [properties.gate_error(\"cx\", (cm[0], cm[1])) for cm in config.coupling_map]\n",
    ")\n",
    "\n",
    "# Display gate error averages\n",
    "print(f\"Average CX gate error: {avg_cx_err:.5f}\")\n",
    "print(f\"Average single qubit SX gate error: {avg_sx_err:.5f}\")\n",
    "print(f\"Average single qubit X gate error: {avg_x_err:.5f}\")"
   ]
  },
  {
   "cell_type": "code",
   "execution_count": 98,
   "id": "8aa6255d",
   "metadata": {},
   "outputs": [
    {
     "name": "stdout",
     "output_type": "stream",
     "text": [
      "Average CX gate error: 0.01106\n",
      "Average single qubit SX gate error: 0.00265\n",
      "Average single qubit X gate error: 0.00265\n"
     ]
    }
   ],
   "source": [
    "# Get useful information about backend (used later on)\n",
    "properties = noisy_sim_latest.properties()\n",
    "config = noisy_sim_latest.configuration()\n",
    "defaults = noisy_sim_latest.defaults()\n",
    "\n",
    "# Get native basis gates for backend\n",
    "basis_gates = config.basis_gates\n",
    "\n",
    "# Compute average SX gate error for backend\n",
    "avg_sx_err = np.mean([properties.gate_error(\"sx\", i) for i in range(16)])\n",
    "# Compute average X gate error for backend\n",
    "avg_x_err = np.mean([properties.gate_error(\"x\", i) for i in range(16)])\n",
    "# Compute the average CNOT gate error for backend\n",
    "avg_cx_err = np.mean(\n",
    "    [properties.gate_error(\"cx\", (cm[0], cm[1])) for cm in config.coupling_map]\n",
    ")\n",
    "\n",
    "# Display gate error averages\n",
    "print(f\"Average CX gate error: {avg_cx_err:.5f}\")\n",
    "print(f\"Average single qubit SX gate error: {avg_sx_err:.5f}\")\n",
    "print(f\"Average single qubit X gate error: {avg_x_err:.5f}\")"
   ]
  },
  {
   "cell_type": "markdown",
   "id": "5fa27b4c",
   "metadata": {},
   "source": [
    "We can already observe that the system with latest calibrated data i.e. `noisy_sim_latest` has a much higher noise for CNOT, SX and X gates compared to `noisy_sim`."
   ]
  },
  {
   "cell_type": "markdown",
   "id": "1cf78fbd",
   "metadata": {},
   "source": [
    "As mentioned at the beginning of this section, the system Hamiltonian is defined over 12 qubits, but ibmq_guadalupe has 16 qubits. To execute VQE on ibmq_guadalupe, we will \"inflate\" the Hamilontian from 12 qubits to 16 qubits to match ibmq_guadalupe, but those extra 4 qubits will not participate in the energy expectation value. Here, we've chosen the 4 qubits that won't participate to be 0, 6, 9, 15. You may pick different qubits."
   ]
  },
  {
   "cell_type": "code",
   "execution_count": 99,
   "id": "22017474-5890-44cd-821c-22ca1b143d6b",
   "metadata": {},
   "outputs": [
    {
     "data": {
      "image/png": "[encoded data removed]",
      "text/plain": [
       "<Figure size 640x480 with 1 Axes>"
      ]
     },
     "metadata": {},
     "output_type": "display_data"
    }
   ],
   "source": [
    "# Kagome unit cell\n",
    "num_qubits = 16\n",
    "# Edge weight\n",
    "t = 1.0\n",
    "\n",
    "# Generate graph of kagome unit cell\n",
    "# Start by defining all the edges\n",
    "graph_16 = rx.PyGraph(multigraph=False)\n",
    "graph_16.add_nodes_from(range(num_qubits))\n",
    "edge_list = [\n",
    "    (1, 2, t),\n",
    "    (2, 3, t),\n",
    "    (3, 5, t),\n",
    "    (5, 8, t),\n",
    "    (8, 11, t),\n",
    "    (11, 14, t),\n",
    "    (14, 13, t),\n",
    "    (13, 12, t),\n",
    "    (12, 10, t),\n",
    "    (10, 7, t),\n",
    "    (7, 4, t),\n",
    "    (4, 1, t),\n",
    "    (4, 2, t),\n",
    "    (2, 5, t),\n",
    "    (5, 11, t),\n",
    "    (11, 13, t),\n",
    "    (13, 10, t),\n",
    "    (10, 4, t),\n",
    "]\n",
    "# Generate graph from the list of edges\n",
    "graph_16.add_edges_from(edge_list)\n",
    "\n",
    "# Make a Lattice from graph\n",
    "kagome_unit_cell_16 = Lattice(graph_16)\n",
    "\n",
    "# Draw Lattice and include labels to check we exclude the right spins\n",
    "# Specify node locations for better visualizations\n",
    "kagome_pos = {0:[1,-1], 6:[1.5,-1], 9:[2,-1], 15:[2.5,-1], \n",
    "              1:[0,-0.8], 2:[-0.6,1], 4:[0.6,1], 10:[1.2,3], \n",
    "              13:[0.6,5], 11:[-0.6,5], 5:[-1.2,3], 3:[-1.8,0.9], \n",
    "              8:[-1.8,5.1], 14:[0,6.8], 7:[1.8,0.9], 12:[1.8,5.1]}\n",
    "kagome_unit_cell_16.draw(style={'with_labels':True, \n",
    "                                'font_color':'white', \n",
    "                                'node_color':'purple', \n",
    "                                'pos':kagome_pos})\n",
    "plt.show()"
   ]
  },
  {
   "cell_type": "code",
   "execution_count": 100,
   "id": "a44d6279-a630-4e15-859c-a68dfbee6550",
   "metadata": {},
   "outputs": [
    {
     "data": {
      "text/plain": [
       "PauliSumOp(SparsePauliOp(['IZZIIIIIIIIIIIII', 'IIZZIIIIIIIIIIII', 'IZIIZIIIIIIIIIII', 'IIZIZIIIIIIIIIII', 'IIZIIZIIIIIIIIII', 'IIIZIZIIIIIIIIII', 'IIIIZIIZIIIIIIII', 'IIIIIZIIZIIIIIII', 'IIIIZIIIIIZIIIII', 'IIIIIIIZIIZIIIII', 'IIIIIZIIIIIZIIII', 'IIIIIIIIZIIZIIII', 'IIIIIIIIIIZIZIII', 'IIIIIIIIIIZIIZII', 'IIIIIIIIIIIZIZII', 'IIIIIIIIIIIIZZII', 'IIIIIIIIIIIZIIZI', 'IIIIIIIIIIIIIZZI', 'IYYIIIIIIIIIIIII', 'IIYYIIIIIIIIIIII', 'IYIIYIIIIIIIIIII', 'IIYIYIIIIIIIIIII', 'IIYIIYIIIIIIIIII', 'IIIYIYIIIIIIIIII', 'IIIIYIIYIIIIIIII', 'IIIIIYIIYIIIIIII', 'IIIIYIIIIIYIIIII', 'IIIIIIIYIIYIIIII', 'IIIIIYIIIIIYIIII', 'IIIIIIIIYIIYIIII', 'IIIIIIIIIIYIYIII', 'IIIIIIIIIIYIIYII', 'IIIIIIIIIIIYIYII', 'IIIIIIIIIIIIYYII', 'IIIIIIIIIIIYIIYI', 'IIIIIIIIIIIIIYYI', 'IXXIIIIIIIIIIIII', 'IIXXIIIIIIIIIIII', 'IXIIXIIIIIIIIIII', 'IIXIXIIIIIIIIIII', 'IIXIIXIIIIIIIIII', 'IIIXIXIIIIIIIIII', 'IIIIXIIXIIIIIIII', 'IIIIIXIIXIIIIIII', 'IIIIXIIIIIXIIIII', 'IIIIIIIXIIXIIIII', 'IIIIIXIIIIIXIIII', 'IIIIIIIIXIIXIIII', 'IIIIIIIIIIXIXIII', 'IIIIIIIIIIXIIXII', 'IIIIIIIIIIIXIXII', 'IIIIIIIIIIIIXXII', 'IIIIIIIIIIIXIIXI', 'IIIIIIIIIIIIIXXI'],\n",
       "              coeffs=[1.+0.j, 1.+0.j, 1.+0.j, 1.+0.j, 1.+0.j, 1.+0.j, 1.+0.j, 1.+0.j, 1.+0.j,\n",
       " 1.+0.j, 1.+0.j, 1.+0.j, 1.+0.j, 1.+0.j, 1.+0.j, 1.+0.j, 1.+0.j, 1.+0.j,\n",
       " 1.+0.j, 1.+0.j, 1.+0.j, 1.+0.j, 1.+0.j, 1.+0.j, 1.+0.j, 1.+0.j, 1.+0.j,\n",
       " 1.+0.j, 1.+0.j, 1.+0.j, 1.+0.j, 1.+0.j, 1.+0.j, 1.+0.j, 1.+0.j, 1.+0.j,\n",
       " 1.+0.j, 1.+0.j, 1.+0.j, 1.+0.j, 1.+0.j, 1.+0.j, 1.+0.j, 1.+0.j, 1.+0.j,\n",
       " 1.+0.j, 1.+0.j, 1.+0.j, 1.+0.j, 1.+0.j, 1.+0.j, 1.+0.j, 1.+0.j, 1.+0.j]), coeff=1)"
      ]
     },
     "execution_count": 100,
     "metadata": {},
     "output_type": "execute_result"
    }
   ],
   "source": [
    "# Build Hamiltonian from graph edges\n",
    "heis_16 = HeisenbergModel.uniform_parameters(\n",
    "    lattice=kagome_unit_cell_16,\n",
    "    uniform_interaction=t,\n",
    "    uniform_onsite_potential=0.0,  # No singe site external field\n",
    ")\n",
    "\n",
    "# Map from SpinOp to qubits just as before.\n",
    "log_mapper = LogarithmicMapper()\n",
    "ham_16 = 4 * log_mapper.map(heis_16.second_q_ops().simplify())\n",
    "# Print Hamiltonian to check it's what we expect:\n",
    "# 18 ZZ, 18 YY, and 18 XX terms over 16 qubits instead of over 12 qubits\n",
    "ham_16"
   ]
  },
  {
   "cell_type": "markdown",
   "id": "f94f6997-44ab-43c8-ac8f-a2d58c555a22",
   "metadata": {},
   "source": [
    "## 2-3 Define an ansatz\n",
    "Crafting the ansatz is critical to VQE. Here we use a `TwoLocal` Hardware efficient ansatze. The paper [8-9] proposes to use a `Hamiltonian Variational Ansatz (HVA)` which shows promising results. The main problem with HVA is that it uses at least $3|E|$ number of 2 qubit gates where $|E|$ is number of edges in the lattice. It might use more if we repeat the layers to obtain more accurate results.\n",
    "\n",
    "Guadalupe having 16 qubits comes with a lot of noise. We tried HVA and the results are within 1% threshold on ideal simulation but the same does not hold for noisy simulations. In fact, the energy obtained using HVA close to half of the actual energy (nearly `-9 Hartree`) even after applying noise mitigation techniques.\n",
    "\n",
    "With a focus on hardware-efficient ansatzes, we aim to improve the convergence of the VQE algorithm and make it feasible with current NISQ devices. We employ the methods presented in [10] where the authors propose a simple\n",
    "`deparameterisation` procedure that reduces the number of trainable parameters while retaining high accuracy for the global minimum, simplifying the energy landscape, and hence speeding up optimization."
   ]
  },
  {
   "cell_type": "code",
   "execution_count": 101,
   "id": "fe2ce631",
   "metadata": {},
   "outputs": [
    {
     "data": {
      "text/plain": [
       "['id', 'rz', 'sx', 'x', 'cx', 'reset']"
      ]
     },
     "execution_count": 101,
     "metadata": {},
     "output_type": "execute_result"
    }
   ],
   "source": [
    "defaults = noisy_sim.defaults()\n",
    "basis_gates = noisy_sim.configuration().basis_gates\n",
    "basis_gates"
   ]
  },
  {
   "cell_type": "code",
   "execution_count": 102,
   "id": "ad4e1ef0-3880-49f7-88f2-7763dd438068",
   "metadata": {},
   "outputs": [],
   "source": [
    "from qiskit.circuit.library import EfficientSU2, TwoLocal\n",
    "from qiskit.circuit import ParameterVector, Parameter"
   ]
  },
  {
   "cell_type": "code",
   "execution_count": 103,
   "id": "cbc2e2bd",
   "metadata": {},
   "outputs": [
    {
     "data": {
      "text/html": [
       "<pre style=\"word-wrap: normal;white-space: pre;background: #fff0;line-height: 1.1;font-family: &quot;Courier New&quot;,Courier,monospace\">       ┌──────────┐                                                       \n",
       " q_0: ─┤ Ry(θ[0]) ├──■────────────────────────────────────────────────────\n",
       "       ├──────────┤┌─┴─┐                                                  \n",
       " q_1: ─┤ Ry(θ[1]) ├┤ X ├──■───────────────────────────────────────────────\n",
       "       ├──────────┤└───┘┌─┴─┐                                             \n",
       " q_2: ─┤ Ry(θ[2]) ├─────┤ X ├──■──────────────────────────────────────────\n",
       "       ├──────────┤     └───┘┌─┴─┐                                        \n",
       " q_3: ─┤ Ry(θ[3]) ├──────────┤ X ├──■─────────────────────────────────────\n",
       "       ├──────────┤          └───┘┌─┴─┐                                   \n",
       " q_4: ─┤ Ry(θ[4]) ├───────────────┤ X ├──■────────────────────────────────\n",
       "       ├──────────┤               └───┘┌─┴─┐                              \n",
       " q_5: ─┤ Ry(θ[5]) ├────────────────────┤ X ├──■───────────────────────────\n",
       "       ├──────────┤                    └───┘┌─┴─┐                         \n",
       " q_6: ─┤ Ry(θ[6]) ├─────────────────────────┤ X ├──■──────────────────────\n",
       "       ├──────────┤                         └───┘┌─┴─┐                    \n",
       " q_7: ─┤ Ry(θ[7]) ├──────────────────────────────┤ X ├──■─────────────────\n",
       "       ├──────────┤                              └───┘┌─┴─┐               \n",
       " q_8: ─┤ Ry(θ[8]) ├───────────────────────────────────┤ X ├──■────────────\n",
       "       ├──────────┤                                   └───┘┌─┴─┐          \n",
       " q_9: ─┤ Ry(θ[9]) ├────────────────────────────────────────┤ X ├──■───────\n",
       "      ┌┴──────────┤                                        └───┘┌─┴─┐     \n",
       "q_10: ┤ Ry(θ[10]) ├─────────────────────────────────────────────┤ X ├──■──\n",
       "      ├───────────┤                                             └───┘┌─┴─┐\n",
       "q_11: ┤ Ry(θ[11]) ├──────────────────────────────────────────────────┤ X ├\n",
       "      └───────────┘                                                  └───┘</pre>"
      ],
      "text/plain": [
       "       ┌──────────┐                                                       \n",
       " q_0: ─┤ Ry(θ[0]) ├──■────────────────────────────────────────────────────\n",
       "       ├──────────┤┌─┴─┐                                                  \n",
       " q_1: ─┤ Ry(θ[1]) ├┤ X ├──■───────────────────────────────────────────────\n",
       "       ├──────────┤└───┘┌─┴─┐                                             \n",
       " q_2: ─┤ Ry(θ[2]) ├─────┤ X ├──■──────────────────────────────────────────\n",
       "       ├──────────┤     └───┘┌─┴─┐                                        \n",
       " q_3: ─┤ Ry(θ[3]) ├──────────┤ X ├──■─────────────────────────────────────\n",
       "       ├──────────┤          └───┘┌─┴─┐                                   \n",
       " q_4: ─┤ Ry(θ[4]) ├───────────────┤ X ├──■────────────────────────────────\n",
       "       ├──────────┤               └───┘┌─┴─┐                              \n",
       " q_5: ─┤ Ry(θ[5]) ├────────────────────┤ X ├──■───────────────────────────\n",
       "       ├──────────┤                    └───┘┌─┴─┐                         \n",
       " q_6: ─┤ Ry(θ[6]) ├─────────────────────────┤ X ├──■──────────────────────\n",
       "       ├──────────┤                         └───┘┌─┴─┐                    \n",
       " q_7: ─┤ Ry(θ[7]) ├──────────────────────────────┤ X ├──■─────────────────\n",
       "       ├──────────┤                              └───┘┌─┴─┐               \n",
       " q_8: ─┤ Ry(θ[8]) ├───────────────────────────────────┤ X ├──■────────────\n",
       "       ├──────────┤                                   └───┘┌─┴─┐          \n",
       " q_9: ─┤ Ry(θ[9]) ├────────────────────────────────────────┤ X ├──■───────\n",
       "      ┌┴──────────┤                                        └───┘┌─┴─┐     \n",
       "q_10: ┤ Ry(θ[10]) ├─────────────────────────────────────────────┤ X ├──■──\n",
       "      ├───────────┤                                             └───┘┌─┴─┐\n",
       "q_11: ┤ Ry(θ[11]) ├──────────────────────────────────────────────────┤ X ├\n",
       "      └───────────┘                                                  └───┘"
      ]
     },
     "execution_count": 103,
     "metadata": {},
     "output_type": "execute_result"
    }
   ],
   "source": [
    "ansatz = TwoLocal(12,\n",
    "                 rotation_blocks = ['ry'],\n",
    "                 entanglement_blocks=['cx'],\n",
    "                 entanglement='linear',\n",
    "                 reps = 1,\n",
    "                 skip_final_rotation_layer= True).decompose()\n",
    "\n",
    "ansatz.draw(fold=300)"
   ]
  },
  {
   "cell_type": "markdown",
   "id": "bc27992c-3d55-47d1-a767-208bbf0334fe",
   "metadata": {},
   "source": [
    "### Match qubit layout\n",
    "The ansatz is currently defined over 12 qubits, but it will be executed on guadalupe which has 16 qubits. To make the ansatz compatible with guadalupe and the inflated Hamiltonian, we can specify the qubit layout on the real device using the transpiler (shown below). We exclude the four qubits with fewest neighbors."
   ]
  },
  {
   "cell_type": "code",
   "execution_count": 104,
   "id": "66c92338-eaaa-49ca-b369-baa0130583f1",
   "metadata": {
    "scrolled": false
   },
   "outputs": [
    {
     "name": "stdout",
     "output_type": "stream",
     "text": [
      "number and type of gates in the cirucit: OrderedDict([('sx', 24), ('rz', 24), ('cx', 11)])\n",
      "number of parameters in the circuit: 12\n",
      "depth of the circuit: 15\n",
      "total number of gates in the circuit: 59\n"
     ]
    },
    {
     "data": {
      "text/html": [
       "<pre style=\"word-wrap: normal;white-space: pre;background: #fff0;line-height: 1.1;font-family: &quot;Courier New&quot;,Courier,monospace\">                                                                                                              \n",
       " ancilla_0 -> 0 ──────────────────────────────────────────────────────────────────────────────────────────────\n",
       "                ┌────┐ ┌──────────────┐┌────┐┌────────┐                                                       \n",
       "       q_0 -> 1 ┤ √X ├─┤ Rz(θ[0] + π) ├┤ √X ├┤ Rz(3π) ├──■────────────────────────────────────────────────────\n",
       "                ├────┤ ├──────────────┤├────┤├────────┤┌─┴─┐                                                  \n",
       "       q_1 -> 2 ┤ √X ├─┤ Rz(θ[1] + π) ├┤ √X ├┤ Rz(3π) ├┤ X ├──■───────────────────────────────────────────────\n",
       "                ├────┤ ├──────────────┤├────┤├────────┤└───┘┌─┴─┐                                             \n",
       "       q_2 -> 3 ┤ √X ├─┤ Rz(θ[2] + π) ├┤ √X ├┤ Rz(3π) ├─────┤ X ├──■──────────────────────────────────────────\n",
       "                ├────┤┌┴──────────────┤├────┤├────────┤     └───┘  │                                     ┌───┐\n",
       "      q_11 -> 4 ┤ √X ├┤ Rz(θ[11] + π) ├┤ √X ├┤ Rz(3π) ├────────────┼─────────────────────────────────────┤ X ├\n",
       "                ├────┤└┬──────────────┤├────┤├────────┤          ┌─┴─┐                                   └─┬─┘\n",
       "       q_3 -> 5 ┤ √X ├─┤ Rz(θ[3] + π) ├┤ √X ├┤ Rz(3π) ├──────────┤ X ├──■──────────────────────────────────┼──\n",
       "                └────┘ └──────────────┘└────┘└────────┘          └───┘  │                                  │  \n",
       " ancilla_1 -> 6 ────────────────────────────────────────────────────────┼──────────────────────────────────┼──\n",
       "                ┌────┐┌───────────────┐┌────┐┌────────┐                 │                           ┌───┐  │  \n",
       "      q_10 -> 7 ┤ √X ├┤ Rz(θ[10] + π) ├┤ √X ├┤ Rz(3π) ├─────────────────┼───────────────────────────┤ X ├──■──\n",
       "                ├────┤└┬──────────────┤├────┤├────────┤               ┌─┴─┐                         └─┬─┘     \n",
       "       q_4 -> 8 ┤ √X ├─┤ Rz(θ[4] + π) ├┤ √X ├┤ Rz(3π) ├───────────────┤ X ├──■────────────────────────┼───────\n",
       "                └────┘ └──────────────┘└────┘└────────┘               └───┘  │                        │       \n",
       " ancilla_2 -> 9 ─────────────────────────────────────────────────────────────┼────────────────────────┼───────\n",
       "                ┌────┐ ┌──────────────┐┌────┐┌────────┐                      │                 ┌───┐  │       \n",
       "      q_9 -> 10 ┤ √X ├─┤ Rz(θ[9] + π) ├┤ √X ├┤ Rz(3π) ├──────────────────────┼─────────────────┤ X ├──■───────\n",
       "                ├────┤ ├──────────────┤├────┤├────────┤                    ┌─┴─┐               └─┬─┘          \n",
       "      q_5 -> 11 ┤ √X ├─┤ Rz(θ[5] + π) ├┤ √X ├┤ Rz(3π) ├────────────────────┤ X ├──■──────────────┼────────────\n",
       "                ├────┤ ├──────────────┤├────┤├────────┤                    └───┘  │       ┌───┐  │            \n",
       "      q_8 -> 12 ┤ √X ├─┤ Rz(θ[8] + π) ├┤ √X ├┤ Rz(3π) ├───────────────────────────┼───────┤ X ├──■────────────\n",
       "                ├────┤ ├──────────────┤├────┤├────────┤                           │  ┌───┐└─┬─┘               \n",
       "      q_7 -> 13 ┤ √X ├─┤ Rz(θ[7] + π) ├┤ √X ├┤ Rz(3π) ├───────────────────────────┼──┤ X ├──■─────────────────\n",
       "                ├────┤ ├──────────────┤├────┤├────────┤                         ┌─┴─┐└─┬─┘                    \n",
       "      q_6 -> 14 ┤ √X ├─┤ Rz(θ[6] + π) ├┤ √X ├┤ Rz(3π) ├─────────────────────────┤ X ├──■──────────────────────\n",
       "                └────┘ └──────────────┘└────┘└────────┘                         └───┘                         \n",
       "ancilla_3 -> 15 ──────────────────────────────────────────────────────────────────────────────────────────────\n",
       "                                                                                                              </pre>"
      ],
      "text/plain": [
       "                                                                                                              \n",
       " ancilla_0 -> 0 ──────────────────────────────────────────────────────────────────────────────────────────────\n",
       "                ┌────┐ ┌──────────────┐┌────┐┌────────┐                                                       \n",
       "       q_0 -> 1 ┤ √X ├─┤ Rz(θ[0] + π) ├┤ √X ├┤ Rz(3π) ├──■────────────────────────────────────────────────────\n",
       "                ├────┤ ├──────────────┤├────┤├────────┤┌─┴─┐                                                  \n",
       "       q_1 -> 2 ┤ √X ├─┤ Rz(θ[1] + π) ├┤ √X ├┤ Rz(3π) ├┤ X ├──■───────────────────────────────────────────────\n",
       "                ├────┤ ├──────────────┤├────┤├────────┤└───┘┌─┴─┐                                             \n",
       "       q_2 -> 3 ┤ √X ├─┤ Rz(θ[2] + π) ├┤ √X ├┤ Rz(3π) ├─────┤ X ├──■──────────────────────────────────────────\n",
       "                ├────┤┌┴──────────────┤├────┤├────────┤     └───┘  │                                     ┌───┐\n",
       "      q_11 -> 4 ┤ √X ├┤ Rz(θ[11] + π) ├┤ √X ├┤ Rz(3π) ├────────────┼─────────────────────────────────────┤ X ├\n",
       "                ├────┤└┬──────────────┤├────┤├────────┤          ┌─┴─┐                                   └─┬─┘\n",
       "       q_3 -> 5 ┤ √X ├─┤ Rz(θ[3] + π) ├┤ √X ├┤ Rz(3π) ├──────────┤ X ├──■──────────────────────────────────┼──\n",
       "                └────┘ └──────────────┘└────┘└────────┘          └───┘  │                                  │  \n",
       " ancilla_1 -> 6 ────────────────────────────────────────────────────────┼──────────────────────────────────┼──\n",
       "                ┌────┐┌───────────────┐┌────┐┌────────┐                 │                           ┌───┐  │  \n",
       "      q_10 -> 7 ┤ √X ├┤ Rz(θ[10] + π) ├┤ √X ├┤ Rz(3π) ├─────────────────┼───────────────────────────┤ X ├──■──\n",
       "                ├────┤└┬──────────────┤├────┤├────────┤               ┌─┴─┐                         └─┬─┘     \n",
       "       q_4 -> 8 ┤ √X ├─┤ Rz(θ[4] + π) ├┤ √X ├┤ Rz(3π) ├───────────────┤ X ├──■────────────────────────┼───────\n",
       "                └────┘ └──────────────┘└────┘└────────┘               └───┘  │                        │       \n",
       " ancilla_2 -> 9 ─────────────────────────────────────────────────────────────┼────────────────────────┼───────\n",
       "                ┌────┐ ┌──────────────┐┌────┐┌────────┐                      │                 ┌───┐  │       \n",
       "      q_9 -> 10 ┤ √X ├─┤ Rz(θ[9] + π) ├┤ √X ├┤ Rz(3π) ├──────────────────────┼─────────────────┤ X ├──■───────\n",
       "                ├────┤ ├──────────────┤├────┤├────────┤                    ┌─┴─┐               └─┬─┘          \n",
       "      q_5 -> 11 ┤ √X ├─┤ Rz(θ[5] + π) ├┤ √X ├┤ Rz(3π) ├────────────────────┤ X ├──■──────────────┼────────────\n",
       "                ├────┤ ├──────────────┤├────┤├────────┤                    └───┘  │       ┌───┐  │            \n",
       "      q_8 -> 12 ┤ √X ├─┤ Rz(θ[8] + π) ├┤ √X ├┤ Rz(3π) ├───────────────────────────┼───────┤ X ├──■────────────\n",
       "                ├────┤ ├──────────────┤├────┤├────────┤                           │  ┌───┐└─┬─┘               \n",
       "      q_7 -> 13 ┤ √X ├─┤ Rz(θ[7] + π) ├┤ √X ├┤ Rz(3π) ├───────────────────────────┼──┤ X ├──■─────────────────\n",
       "                ├────┤ ├──────────────┤├────┤├────────┤                         ┌─┴─┐└─┬─┘                    \n",
       "      q_6 -> 14 ┤ √X ├─┤ Rz(θ[6] + π) ├┤ √X ├┤ Rz(3π) ├─────────────────────────┤ X ├──■──────────────────────\n",
       "                └────┘ └──────────────┘└────┘└────────┘                         └───┘                         \n",
       "ancilla_3 -> 15 ──────────────────────────────────────────────────────────────────────────────────────────────\n",
       "                                                                                                              "
      ]
     },
     "execution_count": 104,
     "metadata": {},
     "output_type": "execute_result"
    }
   ],
   "source": [
    "# Force anstaz to be applied to qubits in the heavy hex.\n",
    "# Avoid the outer qubits 0, 6, 9, and 15 which we accounted for in the lattice definition.\n",
    "q_layout = [1, 2, 3, 5, 8, 11, 14, 13, 12, 10, 7, 4]\n",
    "\n",
    "# fake backend\n",
    "ansatz_opt = transpile(ansatz, \n",
    "                       backend=noisy_sim, \n",
    "                       initial_layout=q_layout,\n",
    "                       optimization_level= 3, \n",
    "                       seed_transpiler=seed)\n",
    "\n",
    "print('number and type of gates in the cirucit:', ansatz_opt.count_ops())\n",
    "print('number of parameters in the circuit:', ansatz_opt.num_parameters)\n",
    "print('depth of the circuit:', ansatz_opt.depth())\n",
    "print(\"total number of gates in the circuit:\", sum(ansatz_opt.count_ops().values()))\n",
    "ansatz_opt.draw(fold=300)"
   ]
  },
  {
   "cell_type": "markdown",
   "id": "5409199f-031b-4b4d-bba5-ac30b97cae60",
   "metadata": {},
   "source": [
    "## 2-4 Choose a classical optimizer\n",
    "Select a [classical optimizer](https://qiskit.org/documentation/stubs/qiskit.algorithms.optimizers.html#local-optimizers). The classical optimizer will encounter errored and stochastic results from the quantum computer due to gate errors, measurement errors, and other noise sources as well as finite sampling affects [11]. Choose a classical optimizer that pairs well with your approach to VQE. Along with choosing a classical optimizer, picking an initial set of parameters plays a significant role in VQE. \n",
    "\n",
    "Here we choose the L_BFGS_B optimizer which was also used by [8-9]. We take `maxiter=100` but the algorithm terminates if the energy value is stablized for some iterations. The SPSA optimizer is used for finding the initial point."
   ]
  },
  {
   "cell_type": "code",
   "execution_count": 105,
   "id": "5486ed74",
   "metadata": {},
   "outputs": [],
   "source": [
    "from qiskit.algorithms import optimizers\n",
    "from qiskit.primitives import Estimator, BackendEstimator\n",
    "from qiskit.algorithms.minimum_eigensolvers import VQE\n",
    "from qiskit.algorithms.gradients import FiniteDiffEstimatorGradient"
   ]
  },
  {
   "cell_type": "code",
   "execution_count": 106,
   "id": "4dfc540b-1a31-4481-b37c-90e840ca6e19",
   "metadata": {},
   "outputs": [],
   "source": [
    "from qiskit.opflow import PauliExpectation\n",
    "\n",
    "maxiter=100\n",
    "stability_constant = 1\n",
    "c = 0.1\n",
    "alpha = 0.602\n",
    "gamma = 0.101\n",
    "a = 0.2\n",
    "\n",
    "# set up the powerseries\n",
    "def learning_rate():\n",
    "    return powerseries(a, alpha, stability_constant)\n",
    "\n",
    "def perturbation():\n",
    "    return powerseries(c, gamma)\n",
    "\n",
    "optimizer = optimizers.L_BFGS_B(maxiter=maxiter)"
   ]
  },
  {
   "cell_type": "markdown",
   "id": "dbbe9fdd-f6cf-472a-8955-5356919c8c98",
   "metadata": {},
   "source": [
    "## 2-5 Initial Point Finder\n",
    "\n",
    "Picking an initial point is plays a significant role in convergence of the VQE algorithm. For this we created a simple alogrithm to find a multiplier for the initial point. We use this for crafting the initial point for the VQE. We find a initial point multiplier in 1 dimension. We find the constant value array which gives the lowest energy. A single value is obtained which represent the constant value of the array (initial point). For example if the value returned is 2.03 then the initial point \\[2.03, 2.03 ...... 2.03\\]."
   ]
  },
  {
   "cell_type": "code",
   "execution_count": 107,
   "id": "20c732c3",
   "metadata": {},
   "outputs": [
    {
     "data": {
      "image/png": "[encoded data removed]",
      "text/plain": [
       "<Figure size 640x480 with 1 Axes>"
      ]
     },
     "metadata": {},
     "output_type": "display_data"
    }
   ],
   "source": [
    "values = []\n",
    "inits = np.arange(-np.pi, np.pi, 0.4)\n",
    "for i in range(len(inits)):\n",
    "    _initial_point = (inits[i]) * np.ones(shape=ansatz_opt.num_parameters)\n",
    "    \n",
    "    _optimizer = optimizers.SPSA(maxiter=0,\n",
    "                      learning_rate=learning_rate, \n",
    "                       perturbation=perturbation)\n",
    "    _estimator = Estimator()\n",
    "    _gradient = FiniteDiffEstimatorGradient(_estimator, epsilon=0.001)\n",
    "    _vqe = VQE(_estimator, ansatz_opt, _optimizer, gradient=_gradient, initial_point=_initial_point)\n",
    "    result = _vqe.compute_minimum_eigenvalue(operator=ham_16)\n",
    "    \n",
    "    intermediate_info = []\n",
    "    five_percent = []\n",
    "    one_percent = []\n",
    "    ev = result.eigenvalue\n",
    "    values.append(ev)\n",
    "    l = len(values)\n",
    "    clear_output(wait=True)\n",
    "    plt.ylabel('Energy')\n",
    "    plt.xlabel('init_point')\n",
    "    plt.plot(inits[:l], values, color='purple', lw=2, label='Simulated VQE')\n",
    "    plt.legend()\n",
    "    plt.grid()\n",
    "    plt.show()"
   ]
  },
  {
   "cell_type": "code",
   "execution_count": 108,
   "id": "8536bcb8",
   "metadata": {},
   "outputs": [
    {
     "data": {
      "text/plain": [
       "-3.141592653589793"
      ]
     },
     "execution_count": 108,
     "metadata": {},
     "output_type": "execute_result"
    }
   ],
   "source": [
    "idx = np.where(values <= min(values))[0]\n",
    "multiplier = inits[idx][0]\n",
    "multiplier"
   ]
  },
  {
   "cell_type": "markdown",
   "id": "763b523a-94e5-40ae-89c1-caa045ffa563",
   "metadata": {},
   "source": [
    "### Callback\n",
    "It's important to know what's going on between the classical and quantum computer during the optimization. What parameter values is the classical optimizer picking? How does the convergence to the ground state energy behave?\n",
    "\n",
    "Defining a callback function gives us a chance to peek in. A simple callback method is defined below. See [this tutorial](https://qiskit.org/documentation/tutorials/algorithms/02_vqe_convergence.html) for more information and be sure to read the classical [optimizers' docs](https://qiskit.org/documentation/stubs/qiskit.algorithms.optimizers.html) for what specific values can be extracted during optimization. For example [SPSA](https://qiskit.org/documentation/stubs/qiskit.algorithms.optimizers.SPSA.html#qiskit.algorithms.optimizers.SPSA) returns: (nfev, parameters, value, stepsize, accepted)."
   ]
  },
  {
   "cell_type": "code",
   "execution_count": 109,
   "id": "3c9f48d3-186e-419a-8e03-53d3e81d1fca",
   "metadata": {},
   "outputs": [],
   "source": [
    "# Define a simple callback function\n",
    "intermediate_info = []\n",
    "five_percent = []\n",
    "one_percent = []\n",
    "\n",
    "def callback(eval_count, parameters, value, std):\n",
    "    intermediate_info.append(value)\n",
    "    five_percent.append(gs_energy*(1-0.05))\n",
    "    one_percent.append(gs_energy*(1-0.01))\n",
    "    clear_output(wait=True)\n",
    "    plt.plot(intermediate_info, color='purple', lw=2, label=f'Simulated VQE {np.round(value,2)}')\n",
    "    plt.ylabel('Energy')\n",
    "    plt.xlabel('Iterations')\n",
    "    # Exact ground state energy value\n",
    "    plt.axhline(y=gs_energy, color=\"tab:red\", ls=\"--\", lw=2, label=\"Target: \" + str(gs_energy))\n",
    "    plt.plot(five_percent, lw=1, label=f'5% ({np.round(gs_energy*(1-0.05),2)})')\n",
    "    plt.plot(one_percent, lw=1, label=f'1% ({gs_energy*(1-0.01)})')\n",
    "    plt.legend()\n",
    "    plt.grid()\n",
    "    plt.show()"
   ]
  },
  {
   "cell_type": "markdown",
   "id": "03488a94-62da-4f09-9b91-d6857e7dcc91",
   "metadata": {},
   "source": [
    "## 2-6 Execute simulated VQE\n",
    "The VQE is built! Time to test it out on a simulator. This may take a few seconds."
   ]
  },
  {
   "cell_type": "code",
   "execution_count": 110,
   "id": "a29cbb70",
   "metadata": {},
   "outputs": [
    {
     "data": {
      "image/png": "[encoded data removed]",
      "text/plain": [
       "<Figure size 640x480 with 1 Axes>"
      ]
     },
     "metadata": {},
     "output_type": "display_data"
    }
   ],
   "source": [
    "initial_point = multiplier * np.ones(ansatz_opt.num_parameters)\n",
    "\n",
    "estimator = Estimator(\n",
    "    options = {\n",
    "        \"method\": \"density_matrix\",\n",
    "        \"coupling_map\": coupling_map,\n",
    "        \"seed\": seed, \n",
    "        \"seed_transpiler\": seed,\n",
    "    }\n",
    ")\n",
    "\n",
    "gradient = FiniteDiffEstimatorGradient(estimator, epsilon=0.001)\n",
    "vqe = VQE(estimator, ansatz_opt, optimizer, callback=callback, gradient=gradient, initial_point=initial_point)\n",
    "result = vqe.compute_minimum_eigenvalue(operator=ham_16)"
   ]
  },
  {
   "cell_type": "code",
   "execution_count": 111,
   "id": "2a4a8f68",
   "metadata": {},
   "outputs": [
    {
     "name": "stdout",
     "output_type": "stream",
     "text": [
      "[-3.14159265 -3.14159265 -3.14159265 -3.14159265 -3.14159265 -3.14159265\n",
      " -3.14159265 -3.14159265 -3.14159265 -3.14159265 -3.14159265 -3.14159265]\n",
      "{   'aux_operators_evaluated': None,\n",
      "    'cost_function_evals': 19,\n",
      "    'eigenvalue': -17.999999999996053,\n",
      "    'optimal_circuit': <qiskit.circuit.quantumcircuit.QuantumCircuit object at 0x7f1d1c1fcfd0>,\n",
      "    'optimal_parameters': {   ParameterVectorElement(θ[3]): -3.141592653589793,\n",
      "                              ParameterVectorElement(θ[1]): -3.141592653589793,\n",
      "                              ParameterVectorElement(θ[2]): -1.5707952446314672,\n",
      "                              ParameterVectorElement(θ[0]): -4.712388345353529,\n",
      "                              ParameterVectorElement(θ[10]): -1.5707963428708884,\n",
      "                              ParameterVectorElement(θ[7]): -3.141592653589793,\n",
      "                              ParameterVectorElement(θ[5]): -3.141592653589793,\n",
      "                              ParameterVectorElement(θ[6]): -1.570796826061148,\n",
      "                              ParameterVectorElement(θ[4]): -4.712389570556981,\n",
      "                              ParameterVectorElement(θ[8]): -4.712389027197463,\n",
      "                              ParameterVectorElement(θ[11]): -3.141592653589793,\n",
      "                              ParameterVectorElement(θ[9]): -3.141592653589793},\n",
      "    'optimal_point': array([-4.71238835, -3.14159265, -1.57079524, -3.14159265, -4.71238957,\n",
      "       -3.14159265, -1.57079683, -3.14159265, -4.71238903, -3.14159265,\n",
      "       -1.57079634, -3.14159265]),\n",
      "    'optimal_value': -17.999999999996053,\n",
      "    'optimizer_evals': None,\n",
      "    'optimizer_result': <qiskit.algorithms.optimizers.optimizer.OptimizerResult object at 0x7f1c76e7a8b0>,\n",
      "    'optimizer_time': 22.615983963012695}\n"
     ]
    }
   ],
   "source": [
    "print(initial_point)\n",
    "print(result)"
   ]
  },
  {
   "cell_type": "markdown",
   "id": "2ecb5cbf",
   "metadata": {},
   "source": [
    "In the print out above, the ground state energy is under `eigenvalue`, and the optimal choice of parameters that goes with that energy is under `optimal_parameters`. "
   ]
  },
  {
   "cell_type": "markdown",
   "id": "3a83f634",
   "metadata": {},
   "source": [
    "## 2-7 Deparameterisation\n",
    "\n",
    "[10] suggests that in some situations, when Hamiltonian is sufficiently sparse, producing a global minimum with an exact energy does not need full parametrisation of all $R_y$ gates in a ansatz with depth $L_min$ (or greater). Thus, a heuristic deparameterisation approach can be used to further minimise the number of parameter. The easiest implementation is the one described below.\n",
    "\n",
    "A parametrised $R_y$ gate is initially chosen and frozen by giving it a set rotation value. The preferred rotation amplitude is zero, however other standardised values, such as $\\pm \\pi/2$ or $\\pm \\pi$, can also be utilised. The former option is preferred for a number of reasons, including\n",
    "- The ability to transform the Ry gate into a virtual identity gate that does not require actual implementation, which eliminates any related quantum gate noise.\n",
    "- The computational cost of improving the parameter linked to that gate is likewise reduced in terms of software.\n",
    "- Last but not least, we can build quantum circuits with more degrees of freedom for circuit translation by searching for as many virtual identity gates as possible. This may enable more effective mapping of the quantum circuit onto real quantum hardware and hence reduce its effective depth."
   ]
  },
  {
   "cell_type": "markdown",
   "id": "293c5141",
   "metadata": {},
   "source": [
    "A helper function to deparameterise the given circuit. It accepts the following arguments\n",
    "\n",
    "- `circuit` is the parameterised quantum circuit\n",
    "- `optimial_parameters` is a dict with parameter as keys with their values\n",
    "- `freeze_indices` is the indices of the parameter which the user wants to freeze\n",
    "- `freeze_value` is the value which we want to put for the freezed parameters.\n",
    "\n",
    "The function returns a circuit with the frozen parameters."
   ]
  },
  {
   "cell_type": "code",
   "execution_count": 112,
   "id": "410fc46a",
   "metadata": {},
   "outputs": [],
   "source": [
    "def deparameterise(circuit, optimal_parameters, freeze_indices, freeze_value):\n",
    "    partial_params = {}\n",
    "    for (i, j) in optimal_parameters.items():\n",
    "        if i.index in freeze_indices:\n",
    "            partial_params[i] = freeze_value\n",
    "\n",
    "    return circuit.assign_parameters(partial_params)"
   ]
  },
  {
   "cell_type": "markdown",
   "id": "7c8d85ec",
   "metadata": {},
   "source": [
    "We perform deparameterisation of the ansatz. From the `result` of the VQE algorithm, we observe that all the parameters are in the vicinity of $\\pm pi, \\pm pi/2$ or their multiples. We freeze these parameters and now we are left with a fixed parameter quantum circuit."
   ]
  },
  {
   "cell_type": "code",
   "execution_count": 113,
   "id": "62888acb",
   "metadata": {},
   "outputs": [],
   "source": [
    "tqc = result.optimal_circuit\n",
    "optimal_point = result.optimal_parameters\n",
    "\n",
    "tqc = deparameterise(tqc,\n",
    "                     optimal_point,\n",
    "                     [0,4,8], -3*np.pi/2)\n",
    "\n",
    "tqc = deparameterise(tqc,\n",
    "                     optimal_point,\n",
    "                     [2,6,10], -np.pi/2)\n",
    "\n",
    "tqc = deparameterise(tqc,\n",
    "                     optimal_point,\n",
    "                     [1,3,5,7,9,11], -np.pi)"
   ]
  },
  {
   "cell_type": "code",
   "execution_count": 114,
   "id": "8ff28a9b",
   "metadata": {},
   "outputs": [
    {
     "data": {
      "text/html": [
       "<pre style=\"word-wrap: normal;white-space: pre;background: #fff0;line-height: 1.1;font-family: &quot;Courier New&quot;,Courier,monospace\">                                                                                                         \n",
       " ancilla_0 -> 0 ─────────────────────────────────────────────────────────────────────────────────────────\n",
       "                ┌────┐┌──────────┐┌────┐┌────────┐                                                       \n",
       "       q_0 -> 1 ┤ √X ├┤ Rz(-π/2) ├┤ √X ├┤ Rz(3π) ├──■────────────────────────────────────────────────────\n",
       "                ├────┤├─────────┬┘├────┤├────────┤┌─┴─┐                                                  \n",
       "       q_1 -> 2 ┤ √X ├┤ Rz(0.0) ├─┤ √X ├┤ Rz(3π) ├┤ X ├──■───────────────────────────────────────────────\n",
       "                ├────┤├─────────┤ ├────┤├────────┤└───┘┌─┴─┐                                             \n",
       "       q_2 -> 3 ┤ √X ├┤ Rz(π/2) ├─┤ √X ├┤ Rz(3π) ├─────┤ X ├──■──────────────────────────────────────────\n",
       "                ├────┤├─────────┤ ├────┤├────────┤     └───┘  │                                     ┌───┐\n",
       "      q_11 -> 4 ┤ √X ├┤ Rz(0.0) ├─┤ √X ├┤ Rz(3π) ├────────────┼─────────────────────────────────────┤ X ├\n",
       "                ├────┤├─────────┤ ├────┤├────────┤          ┌─┴─┐                                   └─┬─┘\n",
       "       q_3 -> 5 ┤ √X ├┤ Rz(0.0) ├─┤ √X ├┤ Rz(3π) ├──────────┤ X ├──■──────────────────────────────────┼──\n",
       "                └────┘└─────────┘ └────┘└────────┘          └───┘  │                                  │  \n",
       " ancilla_1 -> 6 ───────────────────────────────────────────────────┼──────────────────────────────────┼──\n",
       "                ┌────┐┌─────────┐ ┌────┐┌────────┐                 │                           ┌───┐  │  \n",
       "      q_10 -> 7 ┤ √X ├┤ Rz(π/2) ├─┤ √X ├┤ Rz(3π) ├─────────────────┼───────────────────────────┤ X ├──■──\n",
       "                ├────┤├─────────┴┐├────┤├────────┤               ┌─┴─┐                         └─┬─┘     \n",
       "       q_4 -> 8 ┤ √X ├┤ Rz(-π/2) ├┤ √X ├┤ Rz(3π) ├───────────────┤ X ├──■────────────────────────┼───────\n",
       "                └────┘└──────────┘└────┘└────────┘               └───┘  │                        │       \n",
       " ancilla_2 -> 9 ────────────────────────────────────────────────────────┼────────────────────────┼───────\n",
       "                ┌────┐┌─────────┐ ┌────┐┌────────┐                      │                 ┌───┐  │       \n",
       "      q_9 -> 10 ┤ √X ├┤ Rz(0.0) ├─┤ √X ├┤ Rz(3π) ├──────────────────────┼─────────────────┤ X ├──■───────\n",
       "                ├────┤├─────────┤ ├────┤├────────┤                    ┌─┴─┐               └─┬─┘          \n",
       "      q_5 -> 11 ┤ √X ├┤ Rz(0.0) ├─┤ √X ├┤ Rz(3π) ├────────────────────┤ X ├──■──────────────┼────────────\n",
       "                ├────┤├─────────┴┐├────┤├────────┤                    └───┘  │       ┌───┐  │            \n",
       "      q_8 -> 12 ┤ √X ├┤ Rz(-π/2) ├┤ √X ├┤ Rz(3π) ├───────────────────────────┼───────┤ X ├──■────────────\n",
       "                ├────┤├─────────┬┘├────┤├────────┤                           │  ┌───┐└─┬─┘               \n",
       "      q_7 -> 13 ┤ √X ├┤ Rz(0.0) ├─┤ √X ├┤ Rz(3π) ├───────────────────────────┼──┤ X ├──■─────────────────\n",
       "                ├────┤├─────────┤ ├────┤├────────┤                         ┌─┴─┐└─┬─┘                    \n",
       "      q_6 -> 14 ┤ √X ├┤ Rz(π/2) ├─┤ √X ├┤ Rz(3π) ├─────────────────────────┤ X ├──■──────────────────────\n",
       "                └────┘└─────────┘ └────┘└────────┘                         └───┘                         \n",
       "ancilla_3 -> 15 ─────────────────────────────────────────────────────────────────────────────────────────\n",
       "                                                                                                         </pre>"
      ],
      "text/plain": [
       "                                                                                                         \n",
       " ancilla_0 -> 0 ─────────────────────────────────────────────────────────────────────────────────────────\n",
       "                ┌────┐┌──────────┐┌────┐┌────────┐                                                       \n",
       "       q_0 -> 1 ┤ √X ├┤ Rz(-π/2) ├┤ √X ├┤ Rz(3π) ├──■────────────────────────────────────────────────────\n",
       "                ├────┤├─────────┬┘├────┤├────────┤┌─┴─┐                                                  \n",
       "       q_1 -> 2 ┤ √X ├┤ Rz(0.0) ├─┤ √X ├┤ Rz(3π) ├┤ X ├──■───────────────────────────────────────────────\n",
       "                ├────┤├─────────┤ ├────┤├────────┤└───┘┌─┴─┐                                             \n",
       "       q_2 -> 3 ┤ √X ├┤ Rz(π/2) ├─┤ √X ├┤ Rz(3π) ├─────┤ X ├──■──────────────────────────────────────────\n",
       "                ├────┤├─────────┤ ├────┤├────────┤     └───┘  │                                     ┌───┐\n",
       "      q_11 -> 4 ┤ √X ├┤ Rz(0.0) ├─┤ √X ├┤ Rz(3π) ├────────────┼─────────────────────────────────────┤ X ├\n",
       "                ├────┤├─────────┤ ├────┤├────────┤          ┌─┴─┐                                   └─┬─┘\n",
       "       q_3 -> 5 ┤ √X ├┤ Rz(0.0) ├─┤ √X ├┤ Rz(3π) ├──────────┤ X ├──■──────────────────────────────────┼──\n",
       "                └────┘└─────────┘ └────┘└────────┘          └───┘  │                                  │  \n",
       " ancilla_1 -> 6 ───────────────────────────────────────────────────┼──────────────────────────────────┼──\n",
       "                ┌────┐┌─────────┐ ┌────┐┌────────┐                 │                           ┌───┐  │  \n",
       "      q_10 -> 7 ┤ √X ├┤ Rz(π/2) ├─┤ √X ├┤ Rz(3π) ├─────────────────┼───────────────────────────┤ X ├──■──\n",
       "                ├────┤├─────────┴┐├────┤├────────┤               ┌─┴─┐                         └─┬─┘     \n",
       "       q_4 -> 8 ┤ √X ├┤ Rz(-π/2) ├┤ √X ├┤ Rz(3π) ├───────────────┤ X ├──■────────────────────────┼───────\n",
       "                └────┘└──────────┘└────┘└────────┘               └───┘  │                        │       \n",
       " ancilla_2 -> 9 ────────────────────────────────────────────────────────┼────────────────────────┼───────\n",
       "                ┌────┐┌─────────┐ ┌────┐┌────────┐                      │                 ┌───┐  │       \n",
       "      q_9 -> 10 ┤ √X ├┤ Rz(0.0) ├─┤ √X ├┤ Rz(3π) ├──────────────────────┼─────────────────┤ X ├──■───────\n",
       "                ├────┤├─────────┤ ├────┤├────────┤                    ┌─┴─┐               └─┬─┘          \n",
       "      q_5 -> 11 ┤ √X ├┤ Rz(0.0) ├─┤ √X ├┤ Rz(3π) ├────────────────────┤ X ├──■──────────────┼────────────\n",
       "                ├────┤├─────────┴┐├────┤├────────┤                    └───┘  │       ┌───┐  │            \n",
       "      q_8 -> 12 ┤ √X ├┤ Rz(-π/2) ├┤ √X ├┤ Rz(3π) ├───────────────────────────┼───────┤ X ├──■────────────\n",
       "                ├────┤├─────────┬┘├────┤├────────┤                           │  ┌───┐└─┬─┘               \n",
       "      q_7 -> 13 ┤ √X ├┤ Rz(0.0) ├─┤ √X ├┤ Rz(3π) ├───────────────────────────┼──┤ X ├──■─────────────────\n",
       "                ├────┤├─────────┤ ├────┤├────────┤                         ┌─┴─┐└─┬─┘                    \n",
       "      q_6 -> 14 ┤ √X ├┤ Rz(π/2) ├─┤ √X ├┤ Rz(3π) ├─────────────────────────┤ X ├──■──────────────────────\n",
       "                └────┘└─────────┘ └────┘└────────┘                         └───┘                         \n",
       "ancilla_3 -> 15 ─────────────────────────────────────────────────────────────────────────────────────────\n",
       "                                                                                                         "
      ]
     },
     "execution_count": 114,
     "metadata": {},
     "output_type": "execute_result"
    }
   ],
   "source": [
    "tqc.draw(fold=300)"
   ]
  },
  {
   "cell_type": "code",
   "execution_count": 115,
   "id": "d7ebb53a",
   "metadata": {},
   "outputs": [
    {
     "name": "stdout",
     "output_type": "stream",
     "text": [
      "-17.999999999999996\n"
     ]
    }
   ],
   "source": [
    "job = estimator.run([tqc], [ham_16], [])\n",
    "est_result = job.result()\n",
    "value = est_result.values[0]\n",
    "print(value)"
   ]
  },
  {
   "cell_type": "markdown",
   "id": "dd6dfe7e",
   "metadata": {},
   "source": [
    "The true ground state energy is -18.0. As a metric for how well the VQE found the ground state energy, we will compute the relative difference between -18.0 and what we just achieved with VQE. This will be the metric of performance in the judging criteria, though it's important to note that it's not the only useful metric when working with VQE. Remember that the lower the relative error the higher you will score."
   ]
  },
  {
   "cell_type": "code",
   "execution_count": 116,
   "id": "17fa9823-dd6f-40a5-938a-744662133b00",
   "metadata": {},
   "outputs": [
    {
     "name": "stdout",
     "output_type": "stream",
     "text": [
      "Expected ground state energy: -18.0000000000\n",
      "Computed ground state energy: -18.0000000000\n",
      "Relative error: 0.00000000\n"
     ]
    }
   ],
   "source": [
    "def rel_err(target, measured):\n",
    "    return abs((target - measured) / target)\n",
    "\n",
    "# Compute the relative error between the expected ground state energy and the VQE's output\n",
    "rel_error = rel_err(gs_energy, value)\n",
    "\n",
    "print(f'Expected ground state energy: {gs_energy:.10f}')\n",
    "print(f'Computed ground state energy: {value:.10f}')\n",
    "print(f'Relative error: {rel_error:.8f}')"
   ]
  },
  {
   "cell_type": "markdown",
   "id": "cdc76731",
   "metadata": {},
   "source": [
    "## 2-8 Noisy Simulations\n",
    "\n",
    "We now perform noisy simulations with the ansatz fixed parameter ansatz. Specifically we simulate with `FakeGuadalupe` with its old and latest calibrated data.\n",
    "\n",
    "Since there are only 12 qubits that we are interested in, instead of measuring all the qubits we only measure the 12 qubits and then transpile the circuit for the backend."
   ]
  },
  {
   "cell_type": "code",
   "execution_count": 117,
   "id": "0d53fdc9",
   "metadata": {},
   "outputs": [],
   "source": [
    "temp_qc = transpile(ansatz.measure_all(inplace=False), \n",
    "                    backend=noisy_sim, \n",
    "                    initial_layout=q_layout,\n",
    "                    optimization_level= 3, \n",
    "                    approximation_degree = 0.0,\n",
    "                    seed_transpiler=seed)"
   ]
  },
  {
   "cell_type": "code",
   "execution_count": 118,
   "id": "0c8d67d1",
   "metadata": {},
   "outputs": [],
   "source": [
    "optimal_point = result.optimal_parameters\n",
    "\n",
    "temp_qc = deparameterise(temp_qc,\n",
    "                     optimal_point,\n",
    "                     [0,4,8], -3*np.pi/2)\n",
    "\n",
    "temp_qc = deparameterise(temp_qc,\n",
    "                     optimal_point,\n",
    "                     [2,6,10], -np.pi/2)\n",
    "\n",
    "temp_qc = deparameterise(temp_qc,\n",
    "                     optimal_point,\n",
    "                     [1,3,5,7,9,11], -np.pi)"
   ]
  },
  {
   "cell_type": "code",
   "execution_count": 119,
   "id": "71c836ee",
   "metadata": {},
   "outputs": [],
   "source": [
    "from qiskit.transpiler.passes import RemoveBarriers"
   ]
  },
  {
   "cell_type": "code",
   "execution_count": 120,
   "id": "433d3dfc",
   "metadata": {},
   "outputs": [
    {
     "data": {
      "text/html": [
       "<pre style=\"word-wrap: normal;white-space: pre;background: #fff0;line-height: 1.1;font-family: &quot;Courier New&quot;,Courier,monospace\">                                                                                                                          \n",
       "    q_0: ─────────────────────────────────────────────────────────────────────────────────────────────────────────────────\n",
       "         ┌────┐┌──────────┐┌────┐┌────────┐          ┌─┐                                                                  \n",
       "    q_1: ┤ √X ├┤ Rz(-π/2) ├┤ √X ├┤ Rz(3π) ├──■───────┤M├──────────────────────────────────────────────────────────────────\n",
       "         ├────┤├─────────┬┘├────┤├────────┤┌─┴─┐     └╥┘     ┌─┐                                                          \n",
       "    q_2: ┤ √X ├┤ Rz(0.0) ├─┤ √X ├┤ Rz(3π) ├┤ X ├──■───╫──────┤M├──────────────────────────────────────────────────────────\n",
       "         ├────┤├─────────┤ ├────┤├────────┤└───┘┌─┴─┐ ║      └╥┘     ┌─┐                                                  \n",
       "    q_3: ┤ √X ├┤ Rz(π/2) ├─┤ √X ├┤ Rz(3π) ├─────┤ X ├─╫───■───╫──────┤M├──────────────────────────────────────────────────\n",
       "         ├────┤├─────────┤ ├────┤├────────┤     └───┘ ║   │   ║      └╥┘                                       ┌───┐   ┌─┐\n",
       "    q_4: ┤ √X ├┤ Rz(0.0) ├─┤ √X ├┤ Rz(3π) ├───────────╫───┼───╫───────╫────────────────────────────────────────┤ X ├───┤M├\n",
       "         ├────┤├─────────┤ ├────┤├────────┤           ║ ┌─┴─┐ ║       ║      ┌─┐                               └─┬─┘   └╥┘\n",
       "    q_5: ┤ √X ├┤ Rz(0.0) ├─┤ √X ├┤ Rz(3π) ├───────────╫─┤ X ├─╫───■───╫──────┤M├─────────────────────────────────┼──────╫─\n",
       "         └────┘└─────────┘ └────┘└────────┘           ║ └───┘ ║   │   ║      └╥┘                                 │      ║ \n",
       "    q_6: ─────────────────────────────────────────────╫───────╫───┼───╫───────╫──────────────────────────────────┼──────╫─\n",
       "         ┌────┐┌─────────┐ ┌────┐┌────────┐           ║       ║   │   ║       ║                           ┌───┐  │  ┌─┐ ║ \n",
       "    q_7: ┤ √X ├┤ Rz(π/2) ├─┤ √X ├┤ Rz(3π) ├───────────╫───────╫───┼───╫───────╫───────────────────────────┤ X ├──■──┤M├─╫─\n",
       "         ├────┤├─────────┴┐├────┤├────────┤           ║       ║ ┌─┴─┐ ║       ║      ┌─┐                  └─┬─┘     └╥┘ ║ \n",
       "    q_8: ┤ √X ├┤ Rz(-π/2) ├┤ √X ├┤ Rz(3π) ├───────────╫───────╫─┤ X ├─╫───■───╫──────┤M├────────────────────┼────────╫──╫─\n",
       "         └────┘└──────────┘└────┘└────────┘           ║       ║ └───┘ ║   │   ║      └╥┘                    │        ║  ║ \n",
       "    q_9: ─────────────────────────────────────────────╫───────╫───────╫───┼───╫───────╫─────────────────────┼────────╫──╫─\n",
       "         ┌────┐┌─────────┐ ┌────┐┌────────┐           ║       ║       ║   │   ║       ║              ┌───┐  │   ┌─┐  ║  ║ \n",
       "   q_10: ┤ √X ├┤ Rz(0.0) ├─┤ √X ├┤ Rz(3π) ├───────────╫───────╫───────╫───┼───╫───────╫──────────────┤ X ├──■───┤M├──╫──╫─\n",
       "         ├────┤├─────────┤ ├────┤├────────┤           ║       ║       ║ ┌─┴─┐ ║       ║      ┌─┐     └─┬─┘      └╥┘  ║  ║ \n",
       "   q_11: ┤ √X ├┤ Rz(0.0) ├─┤ √X ├┤ Rz(3π) ├───────────╫───────╫───────╫─┤ X ├─╫───■───╫──────┤M├───────┼─────────╫───╫──╫─\n",
       "         ├────┤├─────────┴┐├────┤├────────┤           ║       ║       ║ └───┘ ║   │   ║      └╥┘┌───┐  │   ┌─┐   ║   ║  ║ \n",
       "   q_12: ┤ √X ├┤ Rz(-π/2) ├┤ √X ├┤ Rz(3π) ├───────────╫───────╫───────╫───────╫───┼───╫───────╫─┤ X ├──■───┤M├───╫───╫──╫─\n",
       "         ├────┤├─────────┬┘├────┤├────────┤           ║       ║       ║       ║   │   ║ ┌───┐ ║ └─┬─┘ ┌─┐  └╥┘   ║   ║  ║ \n",
       "   q_13: ┤ √X ├┤ Rz(0.0) ├─┤ √X ├┤ Rz(3π) ├───────────╫───────╫───────╫───────╫───┼───╫─┤ X ├─╫───■───┤M├───╫────╫───╫──╫─\n",
       "         ├────┤├─────────┤ ├────┤├────────┤           ║       ║       ║       ║ ┌─┴─┐ ║ └─┬─┘ ║  ┌─┐  └╥┘   ║    ║   ║  ║ \n",
       "   q_14: ┤ √X ├┤ Rz(π/2) ├─┤ √X ├┤ Rz(3π) ├───────────╫───────╫───────╫───────╫─┤ X ├─╫───■───╫──┤M├───╫────╫────╫───╫──╫─\n",
       "         └────┘└─────────┘ └────┘└────────┘           ║       ║       ║       ║ └───┘ ║       ║  └╥┘   ║    ║    ║   ║  ║ \n",
       "   q_15: ─────────────────────────────────────────────╫───────╫───────╫───────╫───────╫───────╫───╫────╫────╫────╫───╫──╫─\n",
       "                                                      ║       ║       ║       ║       ║       ║   ║    ║    ║    ║   ║  ║ \n",
       "meas: 12/═════════════════════════════════════════════╩═══════╩═══════╩═══════╩═══════╩═══════╩═══╩════╩════╩════╩═══╩══╩═\n",
       "                                                      0       1       2       3       4       5   6    7    8    9   10 11</pre>"
      ],
      "text/plain": [
       "                                                                                                                          \n",
       "    q_0: ─────────────────────────────────────────────────────────────────────────────────────────────────────────────────\n",
       "         ┌────┐┌──────────┐┌────┐┌────────┐          ┌─┐                                                                  \n",
       "    q_1: ┤ √X ├┤ Rz(-π/2) ├┤ √X ├┤ Rz(3π) ├──■───────┤M├──────────────────────────────────────────────────────────────────\n",
       "         ├────┤├─────────┬┘├────┤├────────┤┌─┴─┐     └╥┘     ┌─┐                                                          \n",
       "    q_2: ┤ √X ├┤ Rz(0.0) ├─┤ √X ├┤ Rz(3π) ├┤ X ├──■───╫──────┤M├──────────────────────────────────────────────────────────\n",
       "         ├────┤├─────────┤ ├────┤├────────┤└───┘┌─┴─┐ ║      └╥┘     ┌─┐                                                  \n",
       "    q_3: ┤ √X ├┤ Rz(π/2) ├─┤ √X ├┤ Rz(3π) ├─────┤ X ├─╫───■───╫──────┤M├──────────────────────────────────────────────────\n",
       "         ├────┤├─────────┤ ├────┤├────────┤     └───┘ ║   │   ║      └╥┘                                       ┌───┐   ┌─┐\n",
       "    q_4: ┤ √X ├┤ Rz(0.0) ├─┤ √X ├┤ Rz(3π) ├───────────╫───┼───╫───────╫────────────────────────────────────────┤ X ├───┤M├\n",
       "         ├────┤├─────────┤ ├────┤├────────┤           ║ ┌─┴─┐ ║       ║      ┌─┐                               └─┬─┘   └╥┘\n",
       "    q_5: ┤ √X ├┤ Rz(0.0) ├─┤ √X ├┤ Rz(3π) ├───────────╫─┤ X ├─╫───■───╫──────┤M├─────────────────────────────────┼──────╫─\n",
       "         └────┘└─────────┘ └────┘└────────┘           ║ └───┘ ║   │   ║      └╥┘                                 │      ║ \n",
       "    q_6: ─────────────────────────────────────────────╫───────╫───┼───╫───────╫──────────────────────────────────┼──────╫─\n",
       "         ┌────┐┌─────────┐ ┌────┐┌────────┐           ║       ║   │   ║       ║                           ┌───┐  │  ┌─┐ ║ \n",
       "    q_7: ┤ √X ├┤ Rz(π/2) ├─┤ √X ├┤ Rz(3π) ├───────────╫───────╫───┼───╫───────╫───────────────────────────┤ X ├──■──┤M├─╫─\n",
       "         ├────┤├─────────┴┐├────┤├────────┤           ║       ║ ┌─┴─┐ ║       ║      ┌─┐                  └─┬─┘     └╥┘ ║ \n",
       "    q_8: ┤ √X ├┤ Rz(-π/2) ├┤ √X ├┤ Rz(3π) ├───────────╫───────╫─┤ X ├─╫───■───╫──────┤M├────────────────────┼────────╫──╫─\n",
       "         └────┘└──────────┘└────┘└────────┘           ║       ║ └───┘ ║   │   ║      └╥┘                    │        ║  ║ \n",
       "    q_9: ─────────────────────────────────────────────╫───────╫───────╫───┼───╫───────╫─────────────────────┼────────╫──╫─\n",
       "         ┌────┐┌─────────┐ ┌────┐┌────────┐           ║       ║       ║   │   ║       ║              ┌───┐  │   ┌─┐  ║  ║ \n",
       "   q_10: ┤ √X ├┤ Rz(0.0) ├─┤ √X ├┤ Rz(3π) ├───────────╫───────╫───────╫───┼───╫───────╫──────────────┤ X ├──■───┤M├──╫──╫─\n",
       "         ├────┤├─────────┤ ├────┤├────────┤           ║       ║       ║ ┌─┴─┐ ║       ║      ┌─┐     └─┬─┘      └╥┘  ║  ║ \n",
       "   q_11: ┤ √X ├┤ Rz(0.0) ├─┤ √X ├┤ Rz(3π) ├───────────╫───────╫───────╫─┤ X ├─╫───■───╫──────┤M├───────┼─────────╫───╫──╫─\n",
       "         ├────┤├─────────┴┐├────┤├────────┤           ║       ║       ║ └───┘ ║   │   ║      └╥┘┌───┐  │   ┌─┐   ║   ║  ║ \n",
       "   q_12: ┤ √X ├┤ Rz(-π/2) ├┤ √X ├┤ Rz(3π) ├───────────╫───────╫───────╫───────╫───┼───╫───────╫─┤ X ├──■───┤M├───╫───╫──╫─\n",
       "         ├────┤├─────────┬┘├────┤├────────┤           ║       ║       ║       ║   │   ║ ┌───┐ ║ └─┬─┘ ┌─┐  └╥┘   ║   ║  ║ \n",
       "   q_13: ┤ √X ├┤ Rz(0.0) ├─┤ √X ├┤ Rz(3π) ├───────────╫───────╫───────╫───────╫───┼───╫─┤ X ├─╫───■───┤M├───╫────╫───╫──╫─\n",
       "         ├────┤├─────────┤ ├────┤├────────┤           ║       ║       ║       ║ ┌─┴─┐ ║ └─┬─┘ ║  ┌─┐  └╥┘   ║    ║   ║  ║ \n",
       "   q_14: ┤ √X ├┤ Rz(π/2) ├─┤ √X ├┤ Rz(3π) ├───────────╫───────╫───────╫───────╫─┤ X ├─╫───■───╫──┤M├───╫────╫────╫───╫──╫─\n",
       "         └────┘└─────────┘ └────┘└────────┘           ║       ║       ║       ║ └───┘ ║       ║  └╥┘   ║    ║    ║   ║  ║ \n",
       "   q_15: ─────────────────────────────────────────────╫───────╫───────╫───────╫───────╫───────╫───╫────╫────╫────╫───╫──╫─\n",
       "                                                      ║       ║       ║       ║       ║       ║   ║    ║    ║    ║   ║  ║ \n",
       "meas: 12/═════════════════════════════════════════════╩═══════╩═══════╩═══════╩═══════╩═══════╩═══╩════╩════╩════╩═══╩══╩═\n",
       "                                                      0       1       2       3       4       5   6    7    8    9   10 11"
      ]
     },
     "execution_count": 120,
     "metadata": {},
     "output_type": "execute_result"
    }
   ],
   "source": [
    "temp_qc = RemoveBarriers()(temp_qc)\n",
    "temp_qc.draw(fold=300)"
   ]
  },
  {
   "cell_type": "code",
   "execution_count": 121,
   "id": "2aa94b71",
   "metadata": {},
   "outputs": [],
   "source": [
    "import mthree\n",
    "from tqdm import tqdm\n",
    "import seaborn as sns"
   ]
  },
  {
   "cell_type": "markdown",
   "id": "9e9f3cf9",
   "metadata": {},
   "source": [
    "### Measurement Optimization\n",
    "\n",
    "In case of ideal simulation, we were able to obtain the precise expectation values of our Hamiltonians with just one evaluation per Hamiltonian. This is based on the simulator having access to the precise state and is not feasible if the device, like in the case of a QPU, estimates the expectation with shots. Here we are trying to mimic the QPU with noisy simulation.\n",
    "\n",
    "Let's say we wish to use a limited number of shots to estimate the anticipated value of the Hamiltonian `H`. For the current `HeisenbergModel`, there are 54 distinct observables that make up this Hamiltonian that are all tensor products of Pauli operators.\n",
    "\n",
    "Running the circuit 54 times while measuring one of the Pauli terms that make up the Hamiltonian `H` is an easy way to calculate the expectation value. We can, however, improve our efficiency. The Pauli terms can be divided into groups that share a basis (PennyLane's [12] grouping module) so they can be measured simultaneously on a single circuit. Qubit-wise commuting observables are the names for the components of each group. One can divide the Hamiltonian `H` into 3 groups."
   ]
  },
  {
   "cell_type": "code",
   "execution_count": 122,
   "id": "1e11181c",
   "metadata": {},
   "outputs": [
    {
     "name": "stdout",
     "output_type": "stream",
     "text": [
      "Number of Pauli terms in h: 54\n",
      "Number of qubit-wise commuting groups: 3\n",
      "18\n",
      "18\n",
      "18\n"
     ]
    }
   ],
   "source": [
    "import pennylane as qml\n",
    "\n",
    "ops = []\n",
    "coeffs = []\n",
    "\n",
    "for op in ham:\n",
    "    pauli_string = op.primitive.paulis[0].__str__()\n",
    "    coeff = op.primitive.coeffs[0].real\n",
    "    ops.append(qml.pauli.string_to_pauli_word(pauli_string))\n",
    "    coeffs.append(coeff)\n",
    "\n",
    "H = qml.Hamiltonian(coeffs, ops)\n",
    "print(\"Number of Pauli terms in h:\", len(H.ops))\n",
    "\n",
    "groups, temp_coeffs = qml.pauli.group_observables(H.ops, H.coeffs)\n",
    "print(\"Number of qubit-wise commuting groups:\", len(groups))\n",
    "\n",
    "wire_map = {i:i for i in range(12)}\n",
    "\n",
    "grouped_ops = []\n",
    "for group in groups:\n",
    "    temp_ops = []\n",
    "    for op in group:\n",
    "        temp_ops.append(qml.pauli.pauli_word_to_string(op, wire_map))\n",
    "    grouped_ops.append(temp_ops)\n",
    "\n",
    "for grouped_op in grouped_ops:\n",
    "    print(len(grouped_op))"
   ]
  },
  {
   "cell_type": "markdown",
   "id": "c418afcf",
   "metadata": {},
   "source": [
    "In practise, this means that we only need to conduct 3 circuits as opposed to 54 individual circuits. As the Hamiltonian's Pauli terms grow in number, this savings may become even more noticeable."
   ]
  },
  {
   "cell_type": "markdown",
   "id": "7014514c",
   "metadata": {},
   "source": [
    "Below we create some helper functions which takes advantage of Qiskit's Sampler Primitive and Mthree [13] for measurement error mitigation and calculation of expectation values. We now describe them one-by-one.\n",
    "\n",
    "1. **run_sampler** builds a sampler and executes the circuits provided to it. It takes the following arguments\n",
    "\n",
    " - `circs` is a list of circuits to be executed\n",
    " - `sim` is the simulator eg. noisy simulators, QasmSimulator etc.\n",
    " - `shots`is the number of time a single circuit is executed. Default is 1024. \n",
    " - `rl` specifies how much resilience to build against errors. Possible values are 0,1,2 and 3. Default is 0. You can read more about them [here](https://qiskit.org/documentation/partners/qiskit_ibm_runtime/how_to/error-mitigation.html).\n",
    " \n",
    "The method returns the result obtained (`res`) and the execution time.\n",
    "\n",
    "2. **get_mapping** returns the final measurement mapping of the given circuit\n",
    "\n",
    "    - `circuit` of which we want the mapping\n",
    "\n",
    "3. **get_counts** returns the list of binary probabilities from the list of quasi distributions.\n",
    "    \n",
    "    - `res` is the result obtained from `run_sampler` function.\n",
    "    \n",
    "4. **get_exp_value** perform noise mitigation and returns the expected value from the binary probablities \n",
    "\n",
    "    - `counts` is the list of binary probabilities.\n",
    "    - `mapping` is the final measurement mapping which can be obtained from the transpiled circuit.\n",
    "    - `sim` is the simulator eg. noisy simulators, QasmSimulator etc.\n",
    "    - `mit` is a Mthree object calibrated with `sim`. If not specified, will be created using `sim`."
   ]
  },
  {
   "cell_type": "code",
   "execution_count": 123,
   "id": "d95e7ec3",
   "metadata": {
    "code_folding": []
   },
   "outputs": [],
   "source": [
    "from qiskit.primitives import BackendSampler\n",
    "\n",
    "def get_mapping(circuit):\n",
    "    return mthree.utils.final_measurement_mapping(circuit)\n",
    "\n",
    "def run_sampler(circs, sim, shots = 1024, rl = 0):\n",
    "    sampler = BackendSampler(backend=sim, options={'shots':shots, \n",
    "                                                   'resilience_level':rl})\n",
    "\n",
    "    s = time()\n",
    "\n",
    "    job = sampler.run(circs)\n",
    "    res = job.result()\n",
    "\n",
    "    e = time()\n",
    "    \n",
    "    return res, e-s\n",
    "\n",
    "def get_counts(res):\n",
    "    quasi_dists = res.quasi_dists\n",
    "    return [dist.binary_probabilities() for dist in quasi_dists]\n",
    "\n",
    "def get_exp_value(counts, mapping, sim, mit=None):\n",
    "    marginal_counts = []\n",
    "    reduced_map = []\n",
    "\n",
    "    for i, count in enumerate(counts):\n",
    "        for grouped_op in grouped_ops[i]:  \n",
    "            mc, rm = mthree.utils.marginal_distribution(count, grouped_op, mapping=mapping)\n",
    "            marginal_counts.append(mc)\n",
    "            reduced_map.append(rm)\n",
    "            \n",
    "    if mit is None:\n",
    "        mit = mthree.M3Mitigation(sim)\n",
    "        mit.cals_from_system(mapping)\n",
    "\n",
    "    quasis = mit.apply_correction(marginal_counts, reduced_map)\n",
    "    value = np.sum(np.array(quasis.expval())*coeffs)\n",
    "    return value"
   ]
  },
  {
   "cell_type": "markdown",
   "id": "d49390bc",
   "metadata": {},
   "source": [
    "### Simulation on FakeGuadalupe\n",
    "\n",
    "We run the circuits for 100 times are report the mean and standard deviation value. Instead of running 3 circuits as mentioned before, we run a single circuit and copy its result. The results are also saved in file."
   ]
  },
  {
   "cell_type": "code",
   "execution_count": 68,
   "id": "2d39cf80",
   "metadata": {},
   "outputs": [
    {
     "name": "stderr",
     "output_type": "stream",
     "text": [
      "100%|█████████████████████████████████████████| 100/100 [01:16<00:00,  1.30it/s]\n"
     ]
    }
   ],
   "source": [
    "full_circs = [temp_qc]\n",
    "mapping = get_mapping(temp_qc)\n",
    "\n",
    "exp_vals = []\n",
    "times = []\n",
    "\n",
    "mit = mthree.M3Mitigation(noisy_sim)\n",
    "mit.cals_from_system(mapping)\n",
    "\n",
    "\n",
    "for _ in tqdm(range(100)):\n",
    "    res, t = run_sampler(full_circs, noisy_sim)\n",
    "    counts = get_counts(res)\n",
    "    counts = [counts[0]]*3\n",
    "    exp_val = get_exp_value(counts, mapping, noisy_sim, mit)\n",
    "    exp_vals.append(exp_val)\n",
    "    times.append(t)\n",
    "    \n",
    "    with open('Two-Local-fake-guadalupe.npy', 'wb') as f:\n",
    "        np.save(f, np.array([times]))\n",
    "        np.save(f, np.array([exp_vals]))"
   ]
  },
  {
   "cell_type": "code",
   "execution_count": 69,
   "id": "7dbfa824",
   "metadata": {},
   "outputs": [
    {
     "name": "stdout",
     "output_type": "stream",
     "text": [
      "Avg run time: 0.732971522808075\n",
      "Avg exp val: -17.484376681891913\n",
      "Std exp val: 0.1601132741350496\n"
     ]
    }
   ],
   "source": [
    "print(\"Avg run time:\", np.mean(times))\n",
    "print(\"Avg exp val:\", np.mean(exp_vals))\n",
    "print(\"Std exp val:\", np.std(exp_vals))"
   ]
  },
  {
   "cell_type": "code",
   "execution_count": 70,
   "id": "235b5983",
   "metadata": {},
   "outputs": [
    {
     "data": {
      "image/png": "[encoded data removed]",
      "text/plain": [
       "<Figure size 500x500 with 1 Axes>"
      ]
     },
     "metadata": {},
     "output_type": "display_data"
    }
   ],
   "source": [
    "sns.displot(exp_vals, kde=True);"
   ]
  },
  {
   "cell_type": "code",
   "execution_count": 71,
   "id": "6c4b374d",
   "metadata": {},
   "outputs": [
    {
     "name": "stdout",
     "output_type": "stream",
     "text": [
      "Expected ground state energy: -18.0000000000\n",
      "Min computed ground state energy: -17.8743532280\n",
      "Relative error: 0.00698038\n",
      "Max computed ground state energy: -16.9790998267\n",
      "Relative error: 0.05671668\n",
      "Avg computed ground state energy: -17.4843766819\n",
      "Relative error: 0.02864574\n"
     ]
    }
   ],
   "source": [
    "# Compute the relative error between the expected ground state energy and the VQE's output\n",
    "rel_error_max = rel_err(gs_energy, np.max(exp_vals))\n",
    "rel_error_min = rel_err(gs_energy, np.min(exp_vals))\n",
    "rel_error_avg = rel_err(gs_energy, np.mean(exp_vals))\n",
    "\n",
    "print(f'Expected ground state energy: {gs_energy:.10f}')\n",
    "print(f'Min computed ground state energy: {np.min(exp_vals):.10f}')\n",
    "print(f'Relative error: {rel_error_min:.8f}')\n",
    "\n",
    "print(f'Max computed ground state energy: {np.max(exp_vals):.10f}')\n",
    "print(f'Relative error: {rel_error_max:.8f}')\n",
    "\n",
    "print(f'Avg computed ground state energy: {np.mean(exp_vals):.10f}')\n",
    "print(f'Relative error: {rel_error_avg:.8f}')"
   ]
  },
  {
   "cell_type": "markdown",
   "id": "f1f54c33",
   "metadata": {},
   "source": [
    "### Results\n",
    "\n",
    "From the result we can see that the mean value of the relative error is still not within the 1% threshold but we definitely get some values which are within the 1% threshold. Therefore we were able to achieve a energy value within the required limit.                                                "
   ]
  },
  {
   "cell_type": "markdown",
   "id": "2d4f886f",
   "metadata": {},
   "source": [
    "### Simulation on Latest FakeGuadalupe"
   ]
  },
  {
   "cell_type": "code",
   "execution_count": 88,
   "id": "26ef6bd7",
   "metadata": {},
   "outputs": [
    {
     "name": "stderr",
     "output_type": "stream",
     "text": [
      "100%|█████████████████████████████████████████| 100/100 [01:21<00:00,  1.22it/s]\n"
     ]
    }
   ],
   "source": [
    "full_circs = [temp_qc]\n",
    "mapping = get_mapping(temp_qc)\n",
    "\n",
    "exp_vals = []\n",
    "times = []\n",
    "\n",
    "mit = mthree.M3Mitigation(noisy_sim_latest)\n",
    "mit.cals_from_system(mapping)\n",
    "\n",
    "for _ in tqdm(range(100)):\n",
    "    res, t = run_sampler(full_circs, noisy_sim_latest, shots=1024, rl=1)\n",
    "    counts = get_counts(res)\n",
    "    counts = [counts[0]]*3\n",
    "    exp_val = get_exp_value(counts, mapping, noisy_sim_latest, mit)\n",
    "    exp_vals.append(exp_val)\n",
    "    times.append(t)\n",
    "    \n",
    "    with open('Two-Local-fake-guadalupe-latest.npy', 'wb') as f:\n",
    "        np.save(f, np.array([times]))\n",
    "        np.save(f, np.array([exp_vals]))"
   ]
  },
  {
   "cell_type": "code",
   "execution_count": 89,
   "id": "f4d410ce",
   "metadata": {},
   "outputs": [
    {
     "name": "stdout",
     "output_type": "stream",
     "text": [
      "Avg run time: 0.7804282569885254\n",
      "Avg exp val: -17.461388548961768\n",
      "Std exp val: 0.1774404656622671\n"
     ]
    }
   ],
   "source": [
    "print(\"Avg run time:\", np.mean(times))\n",
    "print(\"Avg exp val:\", np.mean(exp_vals))\n",
    "print(\"Std exp val:\", np.std(exp_vals))"
   ]
  },
  {
   "cell_type": "code",
   "execution_count": 90,
   "id": "9d242637",
   "metadata": {},
   "outputs": [
    {
     "data": {
      "image/png": "[encoded data removed]",
      "text/plain": [
       "<Figure size 500x500 with 1 Axes>"
      ]
     },
     "metadata": {},
     "output_type": "display_data"
    }
   ],
   "source": [
    "sns.displot(exp_vals, kde=True);"
   ]
  },
  {
   "cell_type": "code",
   "execution_count": 91,
   "id": "e657bed6",
   "metadata": {},
   "outputs": [
    {
     "name": "stdout",
     "output_type": "stream",
     "text": [
      "Expected ground state energy: -18.0000000000\n",
      "Min computed ground state energy: -17.9980340118\n",
      "Relative error: 0.00010922\n",
      "Max computed ground state energy: -16.8467242279\n",
      "Relative error: 0.06407088\n",
      "Avg computed ground state energy: -17.4613885490\n",
      "Relative error: 0.02992286\n"
     ]
    }
   ],
   "source": [
    "# Compute the relative error between the expected ground state energy and the VQE's output\n",
    "rel_error_max = rel_err(gs_energy, np.max(exp_vals))\n",
    "rel_error_min = rel_err(gs_energy, np.min(exp_vals))\n",
    "rel_error_avg = rel_err(gs_energy, np.mean(exp_vals))\n",
    "\n",
    "print(f'Expected ground state energy: {gs_energy:.10f}')\n",
    "print(f'Min computed ground state energy: {np.min(exp_vals):.10f}')\n",
    "print(f'Relative error: {rel_error_min:.8f}')\n",
    "\n",
    "print(f'Max computed ground state energy: {np.max(exp_vals):.10f}')\n",
    "print(f'Relative error: {rel_error_max:.8f}')\n",
    "\n",
    "print(f'Avg computed ground state energy: {np.mean(exp_vals):.10f}')\n",
    "print(f'Relative error: {rel_error_avg:.8f}')"
   ]
  },
  {
   "cell_type": "markdown",
   "id": "f2bb2a68",
   "metadata": {},
   "source": [
    "### Results\n",
    "\n",
    "From the result we can see that the mean value of the relative error is still not within the 1% threshold but the miniumum energy we obtained is within the 1% threshold. Therefore we were able to achieve a energy value within the required limit.                                                "
   ]
  },
  {
   "cell_type": "markdown",
   "id": "9d794964",
   "metadata": {},
   "source": [
    "## $R_{ZX}$ Gate Optimization\n",
    "\n",
    "Two-qubit gate errors are the main source of error for current (NISQ era) quantum computers. One way to get a significant reduction in two-qubit errors is to dive closer to the physics of the underlying qubits and use the native two-qubit gates instead of CNOT gates [14]."
   ]
  },
  {
   "cell_type": "code",
   "execution_count": 124,
   "id": "7fd88a7a",
   "metadata": {},
   "outputs": [],
   "source": [
    "# Transpiler passes needed to efficiently convert circuit to RZX gates\n",
    "from qiskit.transpiler import PassManager\n",
    "from qiskit.transpiler.passes import (\n",
    "    TemplateOptimization,\n",
    "    Collect2qBlocks,\n",
    "    ConsolidateBlocks,\n",
    "    EchoRZXWeylDecomposition,\n",
    "    Optimize1qGatesDecomposition,\n",
    "    RZXCalibrationBuilderNoEcho,\n",
    ")"
   ]
  },
  {
   "cell_type": "code",
   "execution_count": 125,
   "id": "3a2cba9c",
   "metadata": {},
   "outputs": [],
   "source": [
    "inst_sched_map = noisy_sim.defaults().instruction_schedule_map\n",
    "channel_map = noisy_sim.configuration().qubit_channel_mapping\n",
    "\n",
    "# PassManager used on circuit with Parameterized time values\n",
    "# It combines gates into blocks that act of 2 qubits then decomposes those 2-qubit blocks\n",
    "# in terms of Rzx gates using the KAK decomposition\n",
    "# Also optimizes single qubit gates.\n",
    "pm_rzx_param = PassManager(\n",
    "    [\n",
    "        Collect2qBlocks(),\n",
    "        ConsolidateBlocks(basis_gates=basis_gates + [\"rzx\"]),\n",
    "        # Rewrite circuit in terms of Weyl-decomposed echoed RZX gates.\n",
    "        EchoRZXWeylDecomposition(defaults.instruction_schedule_map),\n",
    "        # Scale Rzx gates to the desired angle\n",
    "        RZXCalibrationBuilderNoEcho(inst_sched_map, channel_map),\n",
    "        # Reduce the number of single qubit gates\n",
    "        Optimize1qGatesDecomposition(basis_gates + [\"rzx\"]),\n",
    "    ]\n",
    ")"
   ]
  },
  {
   "cell_type": "code",
   "execution_count": 128,
   "id": "19944c63",
   "metadata": {},
   "outputs": [
    {
     "name": "stdout",
     "output_type": "stream",
     "text": [
      "number and type of gates in the cirucit: OrderedDict([('rz', 63), ('sx', 30), ('rzx', 22), ('x', 12), ('measure', 12)])\n",
      "number of parameters in the circuit: 0\n",
      "depth of the circuit: 74\n",
      "total number of gates in the circuit: 139\n"
     ]
    }
   ],
   "source": [
    "ansatz_opt_rzx = pm_rzx_param.run(temp_qc)\n",
    "\n",
    "print('number and type of gates in the cirucit:', ansatz_opt_rzx.count_ops())\n",
    "print('number of parameters in the circuit:', ansatz_opt_rzx.num_parameters)\n",
    "print('depth of the circuit:', ansatz_opt_rzx.depth())\n",
    "print(\"total number of gates in the circuit:\", sum(ansatz_opt_rzx.count_ops().values()))"
   ]
  },
  {
   "cell_type": "code",
   "execution_count": 127,
   "id": "8bf681e5",
   "metadata": {},
   "outputs": [
    {
     "data": {
      "text/html": [
       "<pre style=\"word-wrap: normal;white-space: pre;background: #fff0;line-height: 1.1;font-family: &quot;Courier New&quot;,Courier,monospace\">global phase: π/4\n",
       "                                                                                                                                                                                                                                                                                                    »\n",
       "    q_0: ───────────────────────────────────────────────────────────────────────────────────────────────────────────────────────────────────────────────────────────────────────────────────────────────────────────────────────────────────────────────────────────────────────────────────────────»\n",
       "                                                      ┌────────────┐            ┌───────────┐ ┌──────────┐ ┌────┐ ┌────────┐              ┌─┐                                                                                                                                                       »\n",
       "    q_1: ─────────────────────────────────────────────┤1           ├────────────┤1          ├─┤ Rz(-π/2) ├─┤ √X ├─┤ Rz(-π) ├──────────────┤M├───────────────────────────────────────────────────────────────────────────────────────────────────────────────────────────────────────────────────────»\n",
       "           ┌─────────┐       ┌────┐    ┌─────────────┐│  Rzx(-π/4) │   ┌───┐    │  Rzx(π/4) │┌┴──────────┴┐├────┤┌┴────────┤┌────────────┐└╥┘┌───┐┌───────────┐┌─────────┐       ┌─┐                                                                                                                »\n",
       "    q_2: ──┤ Rz(π/2) ├───────┤ √X ├────┤ Rz(0.24498) ├┤0           ├───┤ X ├────┤0          ├┤ Rz(1.8158) ├┤ √X ├┤ Rz(π/2) ├┤0           ├─╫─┤ X ├┤0          ├┤ Rz(π/2) ├───────┤M├────────────────────────────────────────────────────────────────────────────────────────────────────────────────»\n",
       "         ┌─┴─────────┴─┐     ├────┤    └─┬─────────┬─┘└────────────┘   └───┘    └───────────┘└────────────┘└────┘└─────────┘│  Rzx(-π/4) │ ║ └───┘│  Rzx(π/4) │├─────────┴┐┌────┐└╥┘┌────────────┐┌────────────┐     ┌───────────┐ ┌──────────┐ ┌────┐ ┌────────┐              ┌─┐                  »\n",
       "    q_3: ┤ Rz(-2.8966) ├─────┤ √X ├──────┤ Rz(π/2) ├────────────────────────────────────────────────────────────────────────┤1           ├─╫──────┤1          ├┤ Rz(-π/2) ├┤ √X ├─╫─┤ Rz(1.8158) ├┤1           ├─────┤1          ├─┤ Rz(-π/2) ├─┤ √X ├─┤ Rz(-π) ├──────────────┤M├──────────────────»\n",
       "         └─┬──────────┬┘     ├────┤    ┌─┴─────────┴─┐    ┌────┐    ┌──────────┐                                            └────────────┘ ║      └───────────┘└──────────┘└────┘ ║ └────────────┘│            │     │           │ └──────────┘ └────┘ └────────┘              └╥┘                  »\n",
       "    q_4: ──┤ Rz(-π/2) ├──────┤ √X ├────┤ Rz(-1.8158) ├────┤ √X ├────┤ Rz(-π/2) ├───────────────────────────────────────────────────────────╫──────────────────────────────────────╫───────────────┤  Rzx(-π/4) ├─────┤  Rzx(π/4) ├──────────────────────────────────────────────╫───────────────────»\n",
       "           ├─────────┬┘      ├────┤    ├─────────────┤    └────┘    └──────────┘                                                           ║                                      ║               │            │┌───┐│           │┌────────────┐┌────┐┌─────────┐┌────────────┐ ║ ┌───┐┌───────────┐»\n",
       "    q_5: ──┤ Rz(π/2) ├───────┤ √X ├────┤ Rz(0.24498) ├─────────────────────────────────────────────────────────────────────────────────────╫──────────────────────────────────────╫───────────────┤0           ├┤ X ├┤0          ├┤ Rz(1.8158) ├┤ √X ├┤ Rz(π/2) ├┤0           ├─╫─┤ X ├┤0          ├»\n",
       "           └─────────┘       └────┘    └─────────────┘                                                                                     ║                                      ║               └────────────┘└───┘└───────────┘└────────────┘└────┘└─────────┘│            │ ║ └───┘│           │»\n",
       "    q_6: ──────────────────────────────────────────────────────────────────────────────────────────────────────────────────────────────────╫──────────────────────────────────────╫──────────────────────────────────────────────────────────────────────────────┤            ├─╫──────┤           ├»\n",
       "         ┌─────────────┐     ┌────┐      ┌─────────┐                                                                                       ║                                      ║                                                                              │  Rzx(-π/4) │ ║      │  Rzx(π/4) │»\n",
       "    q_7: ┤ Rz(-2.8966) ├─────┤ √X ├──────┤ Rz(π/2) ├───────────────────────────────────────────────────────────────────────────────────────╫──────────────────────────────────────╫──────────────────────────────────────────────────────────────────────────────┤            ├─╫──────┤           ├»\n",
       "         └┬────────────┤     ├────┤      ├─────────┴┐                                                                                      ║                                      ║                                                                              │            │ ║      │           │»\n",
       "    q_8: ─┤ Rz(2.8966) ├─────┤ √X ├──────┤ Rz(-π/2) ├──────────────────────────────────────────────────────────────────────────────────────╫──────────────────────────────────────╫──────────────────────────────────────────────────────────────────────────────┤1           ├─╫──────┤1          ├»\n",
       "          └────────────┘     └────┘      └──────────┘                                                                                      ║                                      ║                                                                              └────────────┘ ║      └───────────┘»\n",
       "    q_9: ──────────────────────────────────────────────────────────────────────────────────────────────────────────────────────────────────╫──────────────────────────────────────╫─────────────────────────────────────────────────────────────────────────────────────────────╫───────────────────»\n",
       "           ┌──────────┐      ┌────┐    ┌─────────────┐    ┌────┐    ┌──────────┐                                                           ║                                      ║                                                                                             ║                   »\n",
       "   q_10: ──┤ Rz(-π/2) ├──────┤ √X ├────┤ Rz(-1.8158) ├────┤ √X ├────┤ Rz(-π/2) ├───────────────────────────────────────────────────────────╫──────────────────────────────────────╫─────────────────────────────────────────────────────────────────────────────────────────────╫───────────────────»\n",
       "           ├─────────┬┘      ├────┤    ├─────────────┤    └────┘    └──────────┘                                                           ║                                      ║                                                                                             ║                   »\n",
       "   q_11: ──┤ Rz(π/2) ├───────┤ √X ├────┤ Rz(0.24498) ├─────────────────────────────────────────────────────────────────────────────────────╫──────────────────────────────────────╫─────────────────────────────────────────────────────────────────────────────────────────────╫───────────────────»\n",
       "           └──┬───┬──┘  ┌────┴────┴───┐└─────────────┘                                                                                     ║                                      ║                                                                                             ║                   »\n",
       "   q_12: ─────┤ X ├─────┤ Rz(-1.3258) ├────────────────────────────────────────────────────────────────────────────────────────────────────╫──────────────────────────────────────╫─────────────────────────────────────────────────────────────────────────────────────────────╫───────────────────»\n",
       "           ┌──┴───┴──┐  └────┬────┬───┘┌─────────────┐                                                                                     ║                                      ║                                                                                             ║                   »\n",
       "   q_13: ──┤ Rz(π/2) ├───────┤ √X ├────┤ Rz(0.24498) ├─────────────────────────────────────────────────────────────────────────────────────╫──────────────────────────────────────╫─────────────────────────────────────────────────────────────────────────────────────────────╫───────────────────»\n",
       "         ┌─┴─────────┴─┐     ├────┤    └─┬─────────┬─┘                                                                                     ║                                      ║                                                                                             ║                   »\n",
       "   q_14: ┤ Rz(-2.8966) ├─────┤ √X ├──────┤ Rz(π/2) ├───────────────────────────────────────────────────────────────────────────────────────╫──────────────────────────────────────╫─────────────────────────────────────────────────────────────────────────────────────────────╫───────────────────»\n",
       "         └─────────────┘     └────┘      └─────────┘                                                                                       ║                                      ║                                                                                             ║                   »\n",
       "   q_15: ──────────────────────────────────────────────────────────────────────────────────────────────────────────────────────────────────╫──────────────────────────────────────╫─────────────────────────────────────────────────────────────────────────────────────────────╫───────────────────»\n",
       "                                                                                                                                           ║                                      ║                                                                                             ║                   »\n",
       "meas: 12/══════════════════════════════════════════════════════════════════════════════════════════════════════════════════════════════════╩══════════════════════════════════════╩═════════════════════════════════════════════════════════════════════════════════════════════╩═══════════════════»\n",
       "                                                                                                                                           0                                      1                                                                                             2                   »\n",
       "«                                                                                                                                                                                                                                                                                                    »\n",
       "«    q_0: ───────────────────────────────────────────────────────────────────────────────────────────────────────────────────────────────────────────────────────────────────────────────────────────────────────────────────────────────────────────────────────────────────────────────────────────»\n",
       "«                                                                                                                                                                                                                                                                                                    »\n",
       "«    q_1: ───────────────────────────────────────────────────────────────────────────────────────────────────────────────────────────────────────────────────────────────────────────────────────────────────────────────────────────────────────────────────────────────────────────────────────────»\n",
       "«                                                                                                                                                                                                                                                                                                    »\n",
       "«    q_2: ───────────────────────────────────────────────────────────────────────────────────────────────────────────────────────────────────────────────────────────────────────────────────────────────────────────────────────────────────────────────────────────────────────────────────────────»\n",
       "«                                                                                                                                                                                                                                                                                                    »\n",
       "«    q_3: ───────────────────────────────────────────────────────────────────────────────────────────────────────────────────────────────────────────────────────────────────────────────────────────────────────────────────────────────────────────────────────────────────────────────────────────»\n",
       "«                                                                                                                                                                                                                                                                                                    »\n",
       "«    q_4: ───────────────────────────────────────────────────────────────────────────────────────────────────────────────────────────────────────────────────────────────────────────────────────────────────────────────────────────────────────────────────────────────────────────────────────────»\n",
       "«         ┌─────────┐       ┌─┐                                                                                                                                                                                                                                                                      »\n",
       "«    q_5: ┤ Rz(π/2) ├───────┤M├──────────────────────────────────────────────────────────────────────────────────────────────────────────────────────────────────────────────────────────────────────────────────────────────────────────────────────────────────────────────────────────────────────»\n",
       "«         └─────────┘       └╥┘                                                                                                                                                                                                                                                                      »\n",
       "«    q_6: ───────────────────╫───────────────────────────────────────────────────────────────────────────────────────────────────────────────────────────────────────────────────────────────────────────────────────────────────────────────────────────────────────────────────────────────────────»\n",
       "«                            ║                                                                                                                                                                                                                                                                       »\n",
       "«    q_7: ───────────────────╫───────────────────────────────────────────────────────────────────────────────────────────────────────────────────────────────────────────────────────────────────────────────────────────────────────────────────────────────────────────────────────────────────────»\n",
       "«         ┌──────────┐┌────┐ ║ ┌────────────┐┌────────────┐     ┌───────────┐ ┌──────────┐ ┌────┐ ┌────────┐              ┌─┐                                                                                                                                                                        »\n",
       "«    q_8: ┤ Rz(-π/2) ├┤ √X ├─╫─┤ Rz(1.8158) ├┤1           ├─────┤1          ├─┤ Rz(-π/2) ├─┤ √X ├─┤ Rz(-π) ├──────────────┤M├────────────────────────────────────────────────────────────────────────────────────────────────────────────────────────────────────────────────────────────────────────»\n",
       "«         └──────────┘└────┘ ║ └────────────┘│            │     │           │ └──────────┘ └────┘ └────────┘              └╥┘                                                                                                                                                                        »\n",
       "«    q_9: ───────────────────╫───────────────┤            ├─────┤           ├──────────────────────────────────────────────╫─────────────────────────────────────────────────────────────────────────────────────────────────────────────────────────────────────────────────────────────────────────»\n",
       "«                            ║               │  Rzx(-π/4) │     │  Rzx(π/4) │                                              ║                                                                                                                                                                         »\n",
       "«   q_10: ───────────────────╫───────────────┤            ├─────┤           ├──────────────────────────────────────────────╫─────────────────────────────────────────────────────────────────────────────────────────────────────────────────────────────────────────────────────────────────────────»\n",
       "«                            ║               │            │┌───┐│           │┌────────────┐┌────┐┌─────────┐┌────────────┐ ║ ┌───┐┌───────────┐┌─────────┐       ┌─┐                                                                                                                                 »\n",
       "«   q_11: ───────────────────╫───────────────┤0           ├┤ X ├┤0          ├┤ Rz(1.8158) ├┤ √X ├┤ Rz(π/2) ├┤0           ├─╫─┤ X ├┤0          ├┤ Rz(π/2) ├───────┤M├─────────────────────────────────────────────────────────────────────────────────────────────────────────────────────────────────»\n",
       "«                            ║               └────────────┘└───┘└───────────┘└────────────┘└────┘└─────────┘│            │ ║ └───┘│           │└─────────┘       └╥┘                                                             ┌────────────┐  ┌───┐   ┌───────────┐┌────────────┐┌────┐┌─────────┐»\n",
       "«   q_12: ───────────────────╫──────────────────────────────────────────────────────────────────────────────┤            ├─╫──────┤           ├───────────────────╫──────────────────────────────────────────────────────────────┤0           ├──┤ X ├───┤0          ├┤ Rz(1.8158) ├┤ √X ├┤ Rz(π/2) ├»\n",
       "«                            ║                                                                              │  Rzx(-π/4) │ ║      │  Rzx(π/4) │                   ║               ┌────────────┐┌───┐┌───────────┐┌─────────────┐│  Rzx(-π/4) │  └───┘   │  Rzx(π/4) │└┬──────────┬┘├────┤└┬────────┤»\n",
       "«   q_13: ───────────────────╫──────────────────────────────────────────────────────────────────────────────┤            ├─╫──────┤           ├───────────────────╫───────────────┤0           ├┤ X ├┤0          ├┤ Rz(0.24498) ├┤1           ├──────────┤1          ├─┤ Rz(-π/2) ├─┤ √X ├─┤ Rz(-π) ├»\n",
       "«                            ║                                                                              │            │ ║      │           │┌──────────┐┌────┐ ║ ┌────────────┐│  Rzx(-π/4) │└───┘│  Rzx(π/4) │└─┬──────────┬┘└───┬────┬───┘┌────────┐└────┬─┬────┘ └──────────┘ └────┘ └────────┘»\n",
       "«   q_14: ───────────────────╫──────────────────────────────────────────────────────────────────────────────┤1           ├─╫──────┤1          ├┤ Rz(-π/2) ├┤ √X ├─╫─┤ Rz(1.8158) ├┤1           ├─────┤1          ├──┤ Rz(-π/2) ├─────┤ √X ├────┤ Rz(-π) ├─────┤M├────────────────────────────────────»\n",
       "«                            ║                                                                              └────────────┘ ║      └───────────┘└──────────┘└────┘ ║ └────────────┘└────────────┘     └───────────┘  └──────────┘     └────┘    └────────┘     └╥┘                                    »\n",
       "«   q_15: ───────────────────╫─────────────────────────────────────────────────────────────────────────────────────────────╫──────────────────────────────────────╫────────────────────────────────────────────────────────────────────────────────────────────╫─────────────────────────────────────»\n",
       "«                            ║                                                                                             ║                                      ║                                                                                            ║                                     »\n",
       "«meas: 12/═══════════════════╩═════════════════════════════════════════════════════════════════════════════════════════════╩══════════════════════════════════════╩════════════════════════════════════════════════════════════════════════════════════════════╩═════════════════════════════════════»\n",
       "«                            3                                                                                             4                                      5                                                                                            6                                     »\n",
       "«                                                                                                                                                                                                                                                                   \n",
       "«    q_0: ──────────────────────────────────────────────────────────────────────────────────────────────────────────────────────────────────────────────────────────────────────────────────────────────────────────────────────────────────────────────────────────\n",
       "«                                                                                                                                                                                                                                                                   \n",
       "«    q_1: ──────────────────────────────────────────────────────────────────────────────────────────────────────────────────────────────────────────────────────────────────────────────────────────────────────────────────────────────────────────────────────────\n",
       "«                                                                                                                                                                                                                                                                   \n",
       "«    q_2: ──────────────────────────────────────────────────────────────────────────────────────────────────────────────────────────────────────────────────────────────────────────────────────────────────────────────────────────────────────────────────────────\n",
       "«                                                                                                                                                                                                                                                                   \n",
       "«    q_3: ──────────────────────────────────────────────────────────────────────────────────────────────────────────────────────────────────────────────────────────────────────────────────────────────────────────────────────────────────────────────────────────\n",
       "«                                                                                                                                                                             ┌────────────┐     ┌───────────┐┌─────────┐┌────┐┌──────────────┐┌────┐┌──────────┐┌─┐\n",
       "«    q_4: ────────────────────────────────────────────────────────────────────────────────────────────────────────────────────────────────────────────────────────────────────┤1           ├─────┤1          ├┤ Rz(π/2) ├┤ √X ├┤ Rz(-0.24498) ├┤ √X ├┤ Rz(-π/2) ├┤M├\n",
       "«                                                                                                                                                                             │            │     │           │└─────────┘└────┘└──────────────┘└────┘└──────────┘└╥┘\n",
       "«    q_5: ────────────────────────────────────────────────────────────────────────────────────────────────────────────────────────────────────────────────────────────────────┤            ├─────┤           ├────────────────────────────────────────────────────╫─\n",
       "«                                                                                                                                                                             │  Rzx(-π/4) │     │  Rzx(π/4) │                                                    ║ \n",
       "«    q_6: ────────────────────────────────────────────────────────────────────────────────────────────────────────────────────────────────────────────────────────────────────┤            ├─────┤           ├────────────────────────────────────────────────────╫─\n",
       "«                                                                                           ┌────────────┐     ┌───────────┐┌──────────┐┌────┐┌─────────────┐┌────┐┌─────────┐│            │┌───┐│           │┌─────────┐ ┌─┐                                     ║ \n",
       "«    q_7: ──────────────────────────────────────────────────────────────────────────────────┤1           ├─────┤1          ├┤ Rz(-π/2) ├┤ √X ├┤ Rz(-2.8966) ├┤ √X ├┤ Rz(π/2) ├┤0           ├┤ X ├┤0          ├┤ Rz(π/2) ├─┤M├─────────────────────────────────────╫─\n",
       "«                                                                                           │            │     │           │└──────────┘└────┘└─────────────┘└────┘└─────────┘└────────────┘└───┘└───────────┘└─────────┘ └╥┘                                     ║ \n",
       "«    q_8: ──────────────────────────────────────────────────────────────────────────────────┤            ├─────┤           ├───────────────────────────────────────────────────────────────────────────────────────────────╫──────────────────────────────────────╫─\n",
       "«                                                                                           │  Rzx(-π/4) │     │  Rzx(π/4) │                                                                                               ║                                      ║ \n",
       "«    q_9: ──────────────────────────────────────────────────────────────────────────────────┤            ├─────┤           ├───────────────────────────────────────────────────────────────────────────────────────────────╫──────────────────────────────────────╫─\n",
       "«         ┌────────────┐     ┌───────────┐┌──────────┐┌────┐┌─────────────┐┌────┐┌─────────┐│            │┌───┐│           │┌─────────┐  ┌─┐                                                                               ║                                      ║ \n",
       "«   q_10: ┤1           ├─────┤1          ├┤ Rz(-π/2) ├┤ √X ├┤ Rz(-2.8966) ├┤ √X ├┤ Rz(π/2) ├┤0           ├┤ X ├┤0          ├┤ Rz(π/2) ├──┤M├───────────────────────────────────────────────────────────────────────────────╫──────────────────────────────────────╫─\n",
       "«         │            │     │           │└──────────┘└────┘└─────────────┘└────┘└─────────┘└────────────┘└───┘└───────────┘└─────────┘  └╥┘                                                                               ║                                      ║ \n",
       "«   q_11: ┤  Rzx(-π/4) ├─────┤  Rzx(π/4) ├────────────────────────────────────────────────────────────────────────────────────────────────╫────────────────────────────────────────────────────────────────────────────────╫──────────────────────────────────────╫─\n",
       "«         │            │┌───┐│           │┌─────────┐  ┌─┐                                                                                ║                                                                                ║                                      ║ \n",
       "«   q_12: ┤0           ├┤ X ├┤0          ├┤ Rz(π/2) ├──┤M├────────────────────────────────────────────────────────────────────────────────╫────────────────────────────────────────────────────────────────────────────────╫──────────────────────────────────────╫─\n",
       "«         └────┬─┬─────┘└───┘└───────────┘└─────────┘  └╥┘                                                                                ║                                                                                ║                                      ║ \n",
       "«   q_13: ─────┤M├──────────────────────────────────────╫─────────────────────────────────────────────────────────────────────────────────╫────────────────────────────────────────────────────────────────────────────────╫──────────────────────────────────────╫─\n",
       "«              └╥┘                                      ║                                                                                 ║                                                                                ║                                      ║ \n",
       "«   q_14: ──────╫───────────────────────────────────────╫─────────────────────────────────────────────────────────────────────────────────╫────────────────────────────────────────────────────────────────────────────────╫──────────────────────────────────────╫─\n",
       "«               ║                                       ║                                                                                 ║                                                                                ║                                      ║ \n",
       "«   q_15: ──────╫───────────────────────────────────────╫─────────────────────────────────────────────────────────────────────────────────╫────────────────────────────────────────────────────────────────────────────────╫──────────────────────────────────────╫─\n",
       "«               ║                                       ║                                                                                 ║                                                                                ║                                      ║ \n",
       "«meas: 12/══════╩═══════════════════════════════════════╩═════════════════════════════════════════════════════════════════════════════════╩════════════════════════════════════════════════════════════════════════════════╩══════════════════════════════════════╩═\n",
       "«               7                                       8                                                                                 9                                                                                10                                     11</pre>"
      ],
      "text/plain": [
       "global phase: π/4\n",
       "                                                                                                                                                                                                                                                                                                    »\n",
       "    q_0: ───────────────────────────────────────────────────────────────────────────────────────────────────────────────────────────────────────────────────────────────────────────────────────────────────────────────────────────────────────────────────────────────────────────────────────────»\n",
       "                                                      ┌────────────┐            ┌───────────┐ ┌──────────┐ ┌────┐ ┌────────┐              ┌─┐                                                                                                                                                       »\n",
       "    q_1: ─────────────────────────────────────────────┤1           ├────────────┤1          ├─┤ Rz(-π/2) ├─┤ √X ├─┤ Rz(-π) ├──────────────┤M├───────────────────────────────────────────────────────────────────────────────────────────────────────────────────────────────────────────────────────»\n",
       "           ┌─────────┐       ┌────┐    ┌─────────────┐│  Rzx(-π/4) │   ┌───┐    │  Rzx(π/4) │┌┴──────────┴┐├────┤┌┴────────┤┌────────────┐└╥┘┌───┐┌───────────┐┌─────────┐       ┌─┐                                                                                                                »\n",
       "    q_2: ──┤ Rz(π/2) ├───────┤ √X ├────┤ Rz(0.24498) ├┤0           ├───┤ X ├────┤0          ├┤ Rz(1.8158) ├┤ √X ├┤ Rz(π/2) ├┤0           ├─╫─┤ X ├┤0          ├┤ Rz(π/2) ├───────┤M├────────────────────────────────────────────────────────────────────────────────────────────────────────────────»\n",
       "         ┌─┴─────────┴─┐     ├────┤    └─┬─────────┬─┘└────────────┘   └───┘    └───────────┘└────────────┘└────┘└─────────┘│  Rzx(-π/4) │ ║ └───┘│  Rzx(π/4) │├─────────┴┐┌────┐└╥┘┌────────────┐┌────────────┐     ┌───────────┐ ┌──────────┐ ┌────┐ ┌────────┐              ┌─┐                  »\n",
       "    q_3: ┤ Rz(-2.8966) ├─────┤ √X ├──────┤ Rz(π/2) ├────────────────────────────────────────────────────────────────────────┤1           ├─╫──────┤1          ├┤ Rz(-π/2) ├┤ √X ├─╫─┤ Rz(1.8158) ├┤1           ├─────┤1          ├─┤ Rz(-π/2) ├─┤ √X ├─┤ Rz(-π) ├──────────────┤M├──────────────────»\n",
       "         └─┬──────────┬┘     ├────┤    ┌─┴─────────┴─┐    ┌────┐    ┌──────────┐                                            └────────────┘ ║      └───────────┘└──────────┘└────┘ ║ └────────────┘│            │     │           │ └──────────┘ └────┘ └────────┘              └╥┘                  »\n",
       "    q_4: ──┤ Rz(-π/2) ├──────┤ √X ├────┤ Rz(-1.8158) ├────┤ √X ├────┤ Rz(-π/2) ├───────────────────────────────────────────────────────────╫──────────────────────────────────────╫───────────────┤  Rzx(-π/4) ├─────┤  Rzx(π/4) ├──────────────────────────────────────────────╫───────────────────»\n",
       "           ├─────────┬┘      ├────┤    ├─────────────┤    └────┘    └──────────┘                                                           ║                                      ║               │            │┌───┐│           │┌────────────┐┌────┐┌─────────┐┌────────────┐ ║ ┌───┐┌───────────┐»\n",
       "    q_5: ──┤ Rz(π/2) ├───────┤ √X ├────┤ Rz(0.24498) ├─────────────────────────────────────────────────────────────────────────────────────╫──────────────────────────────────────╫───────────────┤0           ├┤ X ├┤0          ├┤ Rz(1.8158) ├┤ √X ├┤ Rz(π/2) ├┤0           ├─╫─┤ X ├┤0          ├»\n",
       "           └─────────┘       └────┘    └─────────────┘                                                                                     ║                                      ║               └────────────┘└───┘└───────────┘└────────────┘└────┘└─────────┘│            │ ║ └───┘│           │»\n",
       "    q_6: ──────────────────────────────────────────────────────────────────────────────────────────────────────────────────────────────────╫──────────────────────────────────────╫──────────────────────────────────────────────────────────────────────────────┤            ├─╫──────┤           ├»\n",
       "         ┌─────────────┐     ┌────┐      ┌─────────┐                                                                                       ║                                      ║                                                                              │  Rzx(-π/4) │ ║      │  Rzx(π/4) │»\n",
       "    q_7: ┤ Rz(-2.8966) ├─────┤ √X ├──────┤ Rz(π/2) ├───────────────────────────────────────────────────────────────────────────────────────╫──────────────────────────────────────╫──────────────────────────────────────────────────────────────────────────────┤            ├─╫──────┤           ├»\n",
       "         └┬────────────┤     ├────┤      ├─────────┴┐                                                                                      ║                                      ║                                                                              │            │ ║      │           │»\n",
       "    q_8: ─┤ Rz(2.8966) ├─────┤ √X ├──────┤ Rz(-π/2) ├──────────────────────────────────────────────────────────────────────────────────────╫──────────────────────────────────────╫──────────────────────────────────────────────────────────────────────────────┤1           ├─╫──────┤1          ├»\n",
       "          └────────────┘     └────┘      └──────────┘                                                                                      ║                                      ║                                                                              └────────────┘ ║      └───────────┘»\n",
       "    q_9: ──────────────────────────────────────────────────────────────────────────────────────────────────────────────────────────────────╫──────────────────────────────────────╫─────────────────────────────────────────────────────────────────────────────────────────────╫───────────────────»\n",
       "           ┌──────────┐      ┌────┐    ┌─────────────┐    ┌────┐    ┌──────────┐                                                           ║                                      ║                                                                                             ║                   »\n",
       "   q_10: ──┤ Rz(-π/2) ├──────┤ √X ├────┤ Rz(-1.8158) ├────┤ √X ├────┤ Rz(-π/2) ├───────────────────────────────────────────────────────────╫──────────────────────────────────────╫─────────────────────────────────────────────────────────────────────────────────────────────╫───────────────────»\n",
       "           ├─────────┬┘      ├────┤    ├─────────────┤    └────┘    └──────────┘                                                           ║                                      ║                                                                                             ║                   »\n",
       "   q_11: ──┤ Rz(π/2) ├───────┤ √X ├────┤ Rz(0.24498) ├─────────────────────────────────────────────────────────────────────────────────────╫──────────────────────────────────────╫─────────────────────────────────────────────────────────────────────────────────────────────╫───────────────────»\n",
       "           └──┬───┬──┘  ┌────┴────┴───┐└─────────────┘                                                                                     ║                                      ║                                                                                             ║                   »\n",
       "   q_12: ─────┤ X ├─────┤ Rz(-1.3258) ├────────────────────────────────────────────────────────────────────────────────────────────────────╫──────────────────────────────────────╫─────────────────────────────────────────────────────────────────────────────────────────────╫───────────────────»\n",
       "           ┌──┴───┴──┐  └────┬────┬───┘┌─────────────┐                                                                                     ║                                      ║                                                                                             ║                   »\n",
       "   q_13: ──┤ Rz(π/2) ├───────┤ √X ├────┤ Rz(0.24498) ├─────────────────────────────────────────────────────────────────────────────────────╫──────────────────────────────────────╫─────────────────────────────────────────────────────────────────────────────────────────────╫───────────────────»\n",
       "         ┌─┴─────────┴─┐     ├────┤    └─┬─────────┬─┘                                                                                     ║                                      ║                                                                                             ║                   »\n",
       "   q_14: ┤ Rz(-2.8966) ├─────┤ √X ├──────┤ Rz(π/2) ├───────────────────────────────────────────────────────────────────────────────────────╫──────────────────────────────────────╫─────────────────────────────────────────────────────────────────────────────────────────────╫───────────────────»\n",
       "         └─────────────┘     └────┘      └─────────┘                                                                                       ║                                      ║                                                                                             ║                   »\n",
       "   q_15: ──────────────────────────────────────────────────────────────────────────────────────────────────────────────────────────────────╫──────────────────────────────────────╫─────────────────────────────────────────────────────────────────────────────────────────────╫───────────────────»\n",
       "                                                                                                                                           ║                                      ║                                                                                             ║                   »\n",
       "meas: 12/══════════════════════════════════════════════════════════════════════════════════════════════════════════════════════════════════╩══════════════════════════════════════╩═════════════════════════════════════════════════════════════════════════════════════════════╩═══════════════════»\n",
       "                                                                                                                                           0                                      1                                                                                             2                   »\n",
       "«                                                                                                                                                                                                                                                                                                    »\n",
       "«    q_0: ───────────────────────────────────────────────────────────────────────────────────────────────────────────────────────────────────────────────────────────────────────────────────────────────────────────────────────────────────────────────────────────────────────────────────────────»\n",
       "«                                                                                                                                                                                                                                                                                                    »\n",
       "«    q_1: ───────────────────────────────────────────────────────────────────────────────────────────────────────────────────────────────────────────────────────────────────────────────────────────────────────────────────────────────────────────────────────────────────────────────────────────»\n",
       "«                                                                                                                                                                                                                                                                                                    »\n",
       "«    q_2: ───────────────────────────────────────────────────────────────────────────────────────────────────────────────────────────────────────────────────────────────────────────────────────────────────────────────────────────────────────────────────────────────────────────────────────────»\n",
       "«                                                                                                                                                                                                                                                                                                    »\n",
       "«    q_3: ───────────────────────────────────────────────────────────────────────────────────────────────────────────────────────────────────────────────────────────────────────────────────────────────────────────────────────────────────────────────────────────────────────────────────────────»\n",
       "«                                                                                                                                                                                                                                                                                                    »\n",
       "«    q_4: ───────────────────────────────────────────────────────────────────────────────────────────────────────────────────────────────────────────────────────────────────────────────────────────────────────────────────────────────────────────────────────────────────────────────────────────»\n",
       "«         ┌─────────┐       ┌─┐                                                                                                                                                                                                                                                                      »\n",
       "«    q_5: ┤ Rz(π/2) ├───────┤M├──────────────────────────────────────────────────────────────────────────────────────────────────────────────────────────────────────────────────────────────────────────────────────────────────────────────────────────────────────────────────────────────────────»\n",
       "«         └─────────┘       └╥┘                                                                                                                                                                                                                                                                      »\n",
       "«    q_6: ───────────────────╫───────────────────────────────────────────────────────────────────────────────────────────────────────────────────────────────────────────────────────────────────────────────────────────────────────────────────────────────────────────────────────────────────────»\n",
       "«                            ║                                                                                                                                                                                                                                                                       »\n",
       "«    q_7: ───────────────────╫───────────────────────────────────────────────────────────────────────────────────────────────────────────────────────────────────────────────────────────────────────────────────────────────────────────────────────────────────────────────────────────────────────»\n",
       "«         ┌──────────┐┌────┐ ║ ┌────────────┐┌────────────┐     ┌───────────┐ ┌──────────┐ ┌────┐ ┌────────┐              ┌─┐                                                                                                                                                                        »\n",
       "«    q_8: ┤ Rz(-π/2) ├┤ √X ├─╫─┤ Rz(1.8158) ├┤1           ├─────┤1          ├─┤ Rz(-π/2) ├─┤ √X ├─┤ Rz(-π) ├──────────────┤M├────────────────────────────────────────────────────────────────────────────────────────────────────────────────────────────────────────────────────────────────────────»\n",
       "«         └──────────┘└────┘ ║ └────────────┘│            │     │           │ └──────────┘ └────┘ └────────┘              └╥┘                                                                                                                                                                        »\n",
       "«    q_9: ───────────────────╫───────────────┤            ├─────┤           ├──────────────────────────────────────────────╫─────────────────────────────────────────────────────────────────────────────────────────────────────────────────────────────────────────────────────────────────────────»\n",
       "«                            ║               │  Rzx(-π/4) │     │  Rzx(π/4) │                                              ║                                                                                                                                                                         »\n",
       "«   q_10: ───────────────────╫───────────────┤            ├─────┤           ├──────────────────────────────────────────────╫─────────────────────────────────────────────────────────────────────────────────────────────────────────────────────────────────────────────────────────────────────────»\n",
       "«                            ║               │            │┌───┐│           │┌────────────┐┌────┐┌─────────┐┌────────────┐ ║ ┌───┐┌───────────┐┌─────────┐       ┌─┐                                                                                                                                 »\n",
       "«   q_11: ───────────────────╫───────────────┤0           ├┤ X ├┤0          ├┤ Rz(1.8158) ├┤ √X ├┤ Rz(π/2) ├┤0           ├─╫─┤ X ├┤0          ├┤ Rz(π/2) ├───────┤M├─────────────────────────────────────────────────────────────────────────────────────────────────────────────────────────────────»\n",
       "«                            ║               └────────────┘└───┘└───────────┘└────────────┘└────┘└─────────┘│            │ ║ └───┘│           │└─────────┘       └╥┘                                                             ┌────────────┐  ┌───┐   ┌───────────┐┌────────────┐┌────┐┌─────────┐»\n",
       "«   q_12: ───────────────────╫──────────────────────────────────────────────────────────────────────────────┤            ├─╫──────┤           ├───────────────────╫──────────────────────────────────────────────────────────────┤0           ├──┤ X ├───┤0          ├┤ Rz(1.8158) ├┤ √X ├┤ Rz(π/2) ├»\n",
       "«                            ║                                                                              │  Rzx(-π/4) │ ║      │  Rzx(π/4) │                   ║               ┌────────────┐┌───┐┌───────────┐┌─────────────┐│  Rzx(-π/4) │  └───┘   │  Rzx(π/4) │└┬──────────┬┘├────┤└┬────────┤»\n",
       "«   q_13: ───────────────────╫──────────────────────────────────────────────────────────────────────────────┤            ├─╫──────┤           ├───────────────────╫───────────────┤0           ├┤ X ├┤0          ├┤ Rz(0.24498) ├┤1           ├──────────┤1          ├─┤ Rz(-π/2) ├─┤ √X ├─┤ Rz(-π) ├»\n",
       "«                            ║                                                                              │            │ ║      │           │┌──────────┐┌────┐ ║ ┌────────────┐│  Rzx(-π/4) │└───┘│  Rzx(π/4) │└─┬──────────┬┘└───┬────┬───┘┌────────┐└────┬─┬────┘ └──────────┘ └────┘ └────────┘»\n",
       "«   q_14: ───────────────────╫──────────────────────────────────────────────────────────────────────────────┤1           ├─╫──────┤1          ├┤ Rz(-π/2) ├┤ √X ├─╫─┤ Rz(1.8158) ├┤1           ├─────┤1          ├──┤ Rz(-π/2) ├─────┤ √X ├────┤ Rz(-π) ├─────┤M├────────────────────────────────────»\n",
       "«                            ║                                                                              └────────────┘ ║      └───────────┘└──────────┘└────┘ ║ └────────────┘└────────────┘     └───────────┘  └──────────┘     └────┘    └────────┘     └╥┘                                    »\n",
       "«   q_15: ───────────────────╫─────────────────────────────────────────────────────────────────────────────────────────────╫──────────────────────────────────────╫────────────────────────────────────────────────────────────────────────────────────────────╫─────────────────────────────────────»\n",
       "«                            ║                                                                                             ║                                      ║                                                                                            ║                                     »\n",
       "«meas: 12/═══════════════════╩═════════════════════════════════════════════════════════════════════════════════════════════╩══════════════════════════════════════╩════════════════════════════════════════════════════════════════════════════════════════════╩═════════════════════════════════════»\n",
       "«                            3                                                                                             4                                      5                                                                                            6                                     »\n",
       "«                                                                                                                                                                                                                                                                   \n",
       "«    q_0: ──────────────────────────────────────────────────────────────────────────────────────────────────────────────────────────────────────────────────────────────────────────────────────────────────────────────────────────────────────────────────────────\n",
       "«                                                                                                                                                                                                                                                                   \n",
       "«    q_1: ──────────────────────────────────────────────────────────────────────────────────────────────────────────────────────────────────────────────────────────────────────────────────────────────────────────────────────────────────────────────────────────\n",
       "«                                                                                                                                                                                                                                                                   \n",
       "«    q_2: ──────────────────────────────────────────────────────────────────────────────────────────────────────────────────────────────────────────────────────────────────────────────────────────────────────────────────────────────────────────────────────────\n",
       "«                                                                                                                                                                                                                                                                   \n",
       "«    q_3: ──────────────────────────────────────────────────────────────────────────────────────────────────────────────────────────────────────────────────────────────────────────────────────────────────────────────────────────────────────────────────────────\n",
       "«                                                                                                                                                                             ┌────────────┐     ┌───────────┐┌─────────┐┌────┐┌──────────────┐┌────┐┌──────────┐┌─┐\n",
       "«    q_4: ────────────────────────────────────────────────────────────────────────────────────────────────────────────────────────────────────────────────────────────────────┤1           ├─────┤1          ├┤ Rz(π/2) ├┤ √X ├┤ Rz(-0.24498) ├┤ √X ├┤ Rz(-π/2) ├┤M├\n",
       "«                                                                                                                                                                             │            │     │           │└─────────┘└────┘└──────────────┘└────┘└──────────┘└╥┘\n",
       "«    q_5: ────────────────────────────────────────────────────────────────────────────────────────────────────────────────────────────────────────────────────────────────────┤            ├─────┤           ├────────────────────────────────────────────────────╫─\n",
       "«                                                                                                                                                                             │  Rzx(-π/4) │     │  Rzx(π/4) │                                                    ║ \n",
       "«    q_6: ────────────────────────────────────────────────────────────────────────────────────────────────────────────────────────────────────────────────────────────────────┤            ├─────┤           ├────────────────────────────────────────────────────╫─\n",
       "«                                                                                           ┌────────────┐     ┌───────────┐┌──────────┐┌────┐┌─────────────┐┌────┐┌─────────┐│            │┌───┐│           │┌─────────┐ ┌─┐                                     ║ \n",
       "«    q_7: ──────────────────────────────────────────────────────────────────────────────────┤1           ├─────┤1          ├┤ Rz(-π/2) ├┤ √X ├┤ Rz(-2.8966) ├┤ √X ├┤ Rz(π/2) ├┤0           ├┤ X ├┤0          ├┤ Rz(π/2) ├─┤M├─────────────────────────────────────╫─\n",
       "«                                                                                           │            │     │           │└──────────┘└────┘└─────────────┘└────┘└─────────┘└────────────┘└───┘└───────────┘└─────────┘ └╥┘                                     ║ \n",
       "«    q_8: ──────────────────────────────────────────────────────────────────────────────────┤            ├─────┤           ├───────────────────────────────────────────────────────────────────────────────────────────────╫──────────────────────────────────────╫─\n",
       "«                                                                                           │  Rzx(-π/4) │     │  Rzx(π/4) │                                                                                               ║                                      ║ \n",
       "«    q_9: ──────────────────────────────────────────────────────────────────────────────────┤            ├─────┤           ├───────────────────────────────────────────────────────────────────────────────────────────────╫──────────────────────────────────────╫─\n",
       "«         ┌────────────┐     ┌───────────┐┌──────────┐┌────┐┌─────────────┐┌────┐┌─────────┐│            │┌───┐│           │┌─────────┐  ┌─┐                                                                               ║                                      ║ \n",
       "«   q_10: ┤1           ├─────┤1          ├┤ Rz(-π/2) ├┤ √X ├┤ Rz(-2.8966) ├┤ √X ├┤ Rz(π/2) ├┤0           ├┤ X ├┤0          ├┤ Rz(π/2) ├──┤M├───────────────────────────────────────────────────────────────────────────────╫──────────────────────────────────────╫─\n",
       "«         │            │     │           │└──────────┘└────┘└─────────────┘└────┘└─────────┘└────────────┘└───┘└───────────┘└─────────┘  └╥┘                                                                               ║                                      ║ \n",
       "«   q_11: ┤  Rzx(-π/4) ├─────┤  Rzx(π/4) ├────────────────────────────────────────────────────────────────────────────────────────────────╫────────────────────────────────────────────────────────────────────────────────╫──────────────────────────────────────╫─\n",
       "«         │            │┌───┐│           │┌─────────┐  ┌─┐                                                                                ║                                                                                ║                                      ║ \n",
       "«   q_12: ┤0           ├┤ X ├┤0          ├┤ Rz(π/2) ├──┤M├────────────────────────────────────────────────────────────────────────────────╫────────────────────────────────────────────────────────────────────────────────╫──────────────────────────────────────╫─\n",
       "«         └────┬─┬─────┘└───┘└───────────┘└─────────┘  └╥┘                                                                                ║                                                                                ║                                      ║ \n",
       "«   q_13: ─────┤M├──────────────────────────────────────╫─────────────────────────────────────────────────────────────────────────────────╫────────────────────────────────────────────────────────────────────────────────╫──────────────────────────────────────╫─\n",
       "«              └╥┘                                      ║                                                                                 ║                                                                                ║                                      ║ \n",
       "«   q_14: ──────╫───────────────────────────────────────╫─────────────────────────────────────────────────────────────────────────────────╫────────────────────────────────────────────────────────────────────────────────╫──────────────────────────────────────╫─\n",
       "«               ║                                       ║                                                                                 ║                                                                                ║                                      ║ \n",
       "«   q_15: ──────╫───────────────────────────────────────╫─────────────────────────────────────────────────────────────────────────────────╫────────────────────────────────────────────────────────────────────────────────╫──────────────────────────────────────╫─\n",
       "«               ║                                       ║                                                                                 ║                                                                                ║                                      ║ \n",
       "«meas: 12/══════╩═══════════════════════════════════════╩═════════════════════════════════════════════════════════════════════════════════╩════════════════════════════════════════════════════════════════════════════════╩══════════════════════════════════════╩═\n",
       "«               7                                       8                                                                                 9                                                                                10                                     11"
      ]
     },
     "execution_count": 127,
     "metadata": {},
     "output_type": "execute_result"
    }
   ],
   "source": [
    "ansatz_opt_rzx.draw(fold=300)"
   ]
  },
  {
   "cell_type": "markdown",
   "id": "cf35e68d",
   "metadata": {},
   "source": [
    "### Simulation on FakeGuadalupe"
   ]
  },
  {
   "cell_type": "code",
   "execution_count": 80,
   "id": "f3ffecb2",
   "metadata": {},
   "outputs": [
    {
     "name": "stderr",
     "output_type": "stream",
     "text": [
      "100%|█████████████████████████████████████████| 100/100 [08:43<00:00,  5.24s/it]\n"
     ]
    }
   ],
   "source": [
    "full_circs = [ansatz_opt_rzx]\n",
    "mapping = get_mapping(ansatz_opt_rzx)\n",
    "\n",
    "exp_vals = []\n",
    "times = []\n",
    "for _ in tqdm(range(100)):\n",
    "    res, t = run_sampler(full_circs, noisy_sim)\n",
    "    counts = get_counts(res)\n",
    "    counts = [counts[0]]*3\n",
    "    exp_val = get_exp_value(counts, mapping, noisy_sim)\n",
    "    exp_vals.append(exp_val)\n",
    "    times.append(t)\n",
    "    \n",
    "    with open('Two-Local-fake-guadalupe-rzx.npy', 'wb') as f:\n",
    "        np.save(f, np.array([times]))\n",
    "        np.save(f, np.array([exp_vals]))"
   ]
  },
  {
   "cell_type": "code",
   "execution_count": 81,
   "id": "ebd3707f",
   "metadata": {},
   "outputs": [
    {
     "name": "stdout",
     "output_type": "stream",
     "text": [
      "Avg run time: 1.8706071066856385\n",
      "Avg exp val: -18.049132908132908\n",
      "Std exp val: 0.15378916517693517\n"
     ]
    }
   ],
   "source": [
    "print(\"Avg run time:\", np.mean(times))\n",
    "print(\"Avg exp val:\", np.mean(exp_vals))\n",
    "print(\"Std exp val:\", np.std(exp_vals))"
   ]
  },
  {
   "cell_type": "code",
   "execution_count": 82,
   "id": "66040934",
   "metadata": {},
   "outputs": [
    {
     "data": {
      "image/png": "[encoded data removed]",
      "text/plain": [
       "<Figure size 500x500 with 1 Axes>"
      ]
     },
     "metadata": {},
     "output_type": "display_data"
    }
   ],
   "source": [
    "sns.displot(exp_vals, kde=True);"
   ]
  },
  {
   "cell_type": "code",
   "execution_count": 83,
   "id": "9a0cf7eb",
   "metadata": {},
   "outputs": [
    {
     "name": "stdout",
     "output_type": "stream",
     "text": [
      "Expected ground state energy: -18.0000000000\n",
      "Min computed ground state energy: -18.4947071527\n",
      "Relative error: 0.02748373\n",
      "Max computed ground state energy: -17.7005464189\n",
      "Relative error: 0.01663631\n",
      "Avg computed ground state energy: -18.0491329081\n",
      "Relative error: 0.00272961\n"
     ]
    }
   ],
   "source": [
    "# Compute the relative error between the expected ground state energy and the VQE's output\n",
    "rel_error_max = rel_err(gs_energy, np.max(exp_vals))\n",
    "rel_error_min = rel_err(gs_energy, np.min(exp_vals))\n",
    "rel_error_avg = rel_err(gs_energy, np.mean(exp_vals))\n",
    "\n",
    "print(f'Expected ground state energy: {gs_energy:.10f}')\n",
    "print(f'Min computed ground state energy: {np.min(exp_vals):.10f}')\n",
    "print(f'Relative error: {rel_error_min:.8f}')\n",
    "\n",
    "print(f'Max computed ground state energy: {np.max(exp_vals):.10f}')\n",
    "print(f'Relative error: {rel_error_max:.8f}')\n",
    "\n",
    "print(f'Avg computed ground state energy: {np.mean(exp_vals):.10f}')\n",
    "print(f'Relative error: {rel_error_avg:.8f}')"
   ]
  },
  {
   "cell_type": "markdown",
   "id": "a597ca06",
   "metadata": {},
   "source": [
    "### Results\n",
    "\n",
    "From the result we can see that the mean value of the relative error is now within the 1% threshold. Therefore we were able to achieve a energy value within the required limit.   "
   ]
  },
  {
   "cell_type": "markdown",
   "id": "8db94dd5",
   "metadata": {},
   "source": [
    "### Simulation on Latest FakeGuadalupe"
   ]
  },
  {
   "cell_type": "code",
   "execution_count": 108,
   "id": "17960cc5",
   "metadata": {},
   "outputs": [
    {
     "name": "stderr",
     "output_type": "stream",
     "text": [
      "100%|█████████████████████████████████████████| 100/100 [02:51<00:00,  1.72s/it]\n"
     ]
    }
   ],
   "source": [
    "full_circs = [ansatz_opt_rzx]\n",
    "mapping = get_mapping(ansatz_opt_rzx)\n",
    "\n",
    "exp_vals = []\n",
    "times = []\n",
    "\n",
    "mit = mthree.M3Mitigation(noisy_sim_latest)\n",
    "mit.cals_from_system(mapping)\n",
    "\n",
    "for _ in tqdm(range(100)):\n",
    "    res, t = run_sampler(full_circs, noisy_sim_latest, 1024, rl = 1)\n",
    "    counts = get_counts(res)\n",
    "    counts = [counts[0]]*3\n",
    "    exp_val = get_exp_value(counts, mapping, noisy_sim_latest, mit)\n",
    "    exp_vals.append(exp_val)\n",
    "    times.append(t)\n",
    "    \n",
    "    with open('Two-Local-fake-guadalupe-rzx-latest.npy', 'wb') as f:\n",
    "        np.save(f, np.array([times]))\n",
    "        np.save(f, np.array([exp_vals]))"
   ]
  },
  {
   "cell_type": "code",
   "execution_count": 109,
   "id": "0c458a84",
   "metadata": {},
   "outputs": [
    {
     "name": "stdout",
     "output_type": "stream",
     "text": [
      "Avg run time: 1.6877168035507202\n",
      "Avg exp val: -17.335649308419733\n",
      "Std exp val: 0.19532285515797362\n"
     ]
    }
   ],
   "source": [
    "print(\"Avg run time:\", np.mean(times))\n",
    "print(\"Avg exp val:\", np.mean(exp_vals))\n",
    "print(\"Std exp val:\", np.std(exp_vals))"
   ]
  },
  {
   "cell_type": "code",
   "execution_count": 110,
   "id": "35ff9e5c",
   "metadata": {},
   "outputs": [
    {
     "data": {
      "image/png": "[encoded data removed]",
      "text/plain": [
       "<Figure size 500x500 with 1 Axes>"
      ]
     },
     "metadata": {},
     "output_type": "display_data"
    }
   ],
   "source": [
    "sns.displot(exp_vals, kde=True);"
   ]
  },
  {
   "cell_type": "code",
   "execution_count": 111,
   "id": "5cbca983",
   "metadata": {},
   "outputs": [
    {
     "name": "stdout",
     "output_type": "stream",
     "text": [
      "Expected ground state energy: -18.0000000000\n",
      "Min computed ground state energy: -17.9154291822\n",
      "Relative error: 0.00469838\n",
      "Max computed ground state energy: -16.7304590224\n",
      "Relative error: 0.07053005\n",
      "Avg computed ground state energy: -17.3356493084\n",
      "Relative error: 0.03690837\n"
     ]
    }
   ],
   "source": [
    "# Compute the relative error between the expected ground state energy and the VQE's output\n",
    "rel_error_max = rel_err(gs_energy, np.max(exp_vals))\n",
    "rel_error_min = rel_err(gs_energy, np.min(exp_vals))\n",
    "rel_error_avg = rel_err(gs_energy, np.mean(exp_vals))\n",
    "\n",
    "print(f'Expected ground state energy: {gs_energy:.10f}')\n",
    "print(f'Min computed ground state energy: {np.min(exp_vals):.10f}')\n",
    "print(f'Relative error: {rel_error_min:.8f}')\n",
    "\n",
    "print(f'Max computed ground state energy: {np.max(exp_vals):.10f}')\n",
    "print(f'Relative error: {rel_error_max:.8f}')\n",
    "\n",
    "print(f'Avg computed ground state energy: {np.mean(exp_vals):.10f}')\n",
    "print(f'Relative error: {rel_error_avg:.8f}')"
   ]
  },
  {
   "cell_type": "markdown",
   "id": "6836594a",
   "metadata": {},
   "source": [
    "### Results\n",
    "\n",
    "From the result we can see that the mean value of the relative error is still not within the 1% threshold but we definitely get some values which are within the 1% threshold. We are not sure whether the `AerSimulator` which we used for creating noisy simulator takes into account the $R_{zx}$ optimization. If not, then the results will not be consistent with the `FakeGuadalupe` as the rzx circuit has high depth and gate count. In essence, we still were able to achieve a energy value for some trials within the required limit.   "
   ]
  },
  {
   "cell_type": "markdown",
   "id": "7099c4cf",
   "metadata": {},
   "source": [
    "## 3-1 Qiskit runtime (cloud noisy simulator)\n",
    "\n",
    "Next we demonstrate how to run VQE using [qiskit_ibm_runtime](https://github.com/Qiskit/qiskit-ibm-runtime) **which has different syntax from qiskit terra's runtime**. The qiskit_ibm_runtime module includes the same programming model as qiskit terra, but qiskit_ibm_runtime has access to a cloud simulator and more importantly the ibmq_guadalupe device. To learn more about qiskit_ibm_runtime check out these tutorials from the docs: [a tutorial on the estimator](https://github.com/Qiskit/qiskit-ibm-runtime/blob/main/docs/tutorials/how-to-getting-started-with-estimator.ipynb) and [a tutorial on the sampler](https://github.com/Qiskit/qiskit-ibm-runtime/blob/main/docs/tutorials/how-to-getting-started-with-sampler.ipynb).\n",
    "\n",
    "We will use all the same VQE components we've built up so far, but the syntax for executing on the hardware is wrapped in [a session](https://quantum-computing.ibm.com/lab/docs/iql/manage/systems/sessions/) as shown in the following cells.\n",
    "\n",
    "We first demonstrate running VQE with the cloud simulator backend to check everything is working correctly. This may take a few minutes. After running on the cloud simulator, we make a simple switch of backends to the real ibmq_guadalupe device to get the final result. Depending on how your VQE is setup, this may take a couple hours."
   ]
  },
  {
   "cell_type": "code",
   "execution_count": 42,
   "id": "f2dd69a6",
   "metadata": {},
   "outputs": [],
   "source": [
    "from qiskit_ibm_runtime import (QiskitRuntimeService, Session,\n",
    "                                Sampler as RuntimeSampler)\n",
    "from qiskit import Aer\n",
    "from qiskit_aer.noise import NoiseModel\n",
    "from qiskit_ibm_runtime import Options\n",
    "\n",
    "# Save an IBM Quantum account. See docs for credential security warning\n",
    "# https://github.com/Qiskit/qiskit-ibm-runtime/tree/stable/0.7#saving-account-on-disk\n",
    "# QiskitRuntimeService.save_account(channel=\"ibm_quantum\", token=\"MY_IBM_QUANTUM_TOKEN\")\n",
    "service = QiskitRuntimeService(channel='ibm_quantum')"
   ]
  },
  {
   "cell_type": "code",
   "execution_count": 43,
   "id": "aefc0b9b",
   "metadata": {},
   "outputs": [
    {
     "name": "stdout",
     "output_type": "stream",
     "text": [
      "Simulators: [<IBMBackend('ibmq_qasm_simulator')>, <IBMBackend('simulator_statevector')>, <IBMBackend('simulator_mps')>, <IBMBackend('simulator_extended_stabilizer')>, <IBMBackend('simulator_stabilizer')>]\n"
     ]
    }
   ],
   "source": [
    "# print available backend and select one\n",
    "print('Simulators:', service.backends(simulator=True))\n",
    "\n",
    "# Select a simulator backend\n",
    "backend = 'simulator_statevector'"
   ]
  },
  {
   "cell_type": "markdown",
   "id": "20470efb",
   "metadata": {},
   "source": [
    "**get_options** is a simple function which when provided with the simulator (`sim`) and noise model (`model`) returns the `options` for Sampler. One can also provide it with `shots` and `rl` (resilience level)"
   ]
  },
  {
   "cell_type": "code",
   "execution_count": 44,
   "id": "a29590a0",
   "metadata": {},
   "outputs": [],
   "source": [
    "def get_options(sim, model, shots = 1024, rl = 0):\n",
    "    # Set options to include the noise model\n",
    "    options = Options()\n",
    "    options.simulator = {\n",
    "        \"noise_model\": model,\n",
    "        \"basis_gates\": sim.configuration().basis_gates,\n",
    "        \"coupling_map\": sim.configuration().coupling_map,\n",
    "        \"seed_simulator\": seed\n",
    "    }\n",
    "\n",
    "    # Set number of shots, optimization_level and resilience_level\n",
    "    options.execution.shots = shots\n",
    "    options.resilience_level = rl\n",
    "    \n",
    "    return options"
   ]
  },
  {
   "cell_type": "markdown",
   "id": "ea511b47",
   "metadata": {},
   "source": [
    "### Simulation on FakeGuadalupe"
   ]
  },
  {
   "cell_type": "code",
   "execution_count": 45,
   "id": "d74cf6c7",
   "metadata": {},
   "outputs": [],
   "source": [
    "noise_model = NoiseModel.from_backend(noisy_sim)\n",
    "options = get_options(noisy_sim, noise_model)\n",
    "backend_names = [\"ibmq_qasm_simulator\"]"
   ]
  },
  {
   "cell_type": "code",
   "execution_count": 47,
   "id": "078f196e",
   "metadata": {},
   "outputs": [],
   "source": [
    "mapping = get_mapping(temp_qc)\n",
    "\n",
    "exp_vals = []\n",
    "\n",
    "mit = mthree.M3Mitigation(noisy_sim)\n",
    "mit.cals_from_system(mapping)\n",
    "\n",
    "num_trials = 100\n",
    "full_circs = [temp_qc]*num_trials\n",
    "    \n",
    "with Session(service=service, backend=backend) as session:\n",
    "    rt_sampler = RuntimeSampler(session=session, options=options)\n",
    "    \n",
    "    s = time()\n",
    "    \n",
    "    job = rt_sampler.run(full_circs)\n",
    "    res = job.result()\n",
    "\n",
    "    e = time()\n",
    "    avg_time = (e-s)/num_trials\n",
    "\n",
    "    counts = get_counts(res)\n",
    "    \n",
    "    \n",
    "    for count in counts:\n",
    "        probs = [count]*3\n",
    "        exp_val = get_exp_value(probs, mapping, noisy_sim, mit)\n",
    "        exp_vals.append(exp_val)\n",
    "        \n",
    "        with open('Two-Local-cloud-fake-guadalupe.npy', 'wb') as f:\n",
    "            np.save(f, np.array([avg_time]))\n",
    "            np.save(f, np.array([exp_vals]))"
   ]
  },
  {
   "cell_type": "code",
   "execution_count": 48,
   "id": "48af3978",
   "metadata": {},
   "outputs": [
    {
     "name": "stdout",
     "output_type": "stream",
     "text": [
      "Avg run time: 1.4144881820678712\n",
      "Avg exp val: -17.503602364184154\n",
      "Std exp val: 0.19045946681221082\n"
     ]
    }
   ],
   "source": [
    "print(\"Avg run time:\", avg_time)\n",
    "print(\"Avg exp val:\", np.mean(exp_vals))\n",
    "print(\"Std exp val:\", np.std(exp_vals))"
   ]
  },
  {
   "cell_type": "code",
   "execution_count": 49,
   "id": "b00e83ee",
   "metadata": {},
   "outputs": [
    {
     "data": {
      "image/png": "[encoded data removed]",
      "text/plain": [
       "<Figure size 500x500 with 1 Axes>"
      ]
     },
     "metadata": {},
     "output_type": "display_data"
    }
   ],
   "source": [
    "sns.displot(exp_vals, kde=True);"
   ]
  },
  {
   "cell_type": "code",
   "execution_count": 50,
   "id": "b0437dd7",
   "metadata": {},
   "outputs": [
    {
     "name": "stdout",
     "output_type": "stream",
     "text": [
      "Expected ground state energy: -18.0000000000\n",
      "Min computed ground state energy: -18.0072519932\n",
      "Relative error: 0.00040289\n",
      "Max computed ground state energy: -16.9905493674\n",
      "Relative error: 0.05608059\n",
      "Avg computed ground state energy: -17.5036023642\n",
      "Relative error: 0.02757765\n"
     ]
    }
   ],
   "source": [
    "# Compute the relative error between the expected ground state energy and the VQE's output\n",
    "rel_error_max = rel_err(gs_energy, np.max(exp_vals))\n",
    "rel_error_min = rel_err(gs_energy, np.min(exp_vals))\n",
    "rel_error_avg = rel_err(gs_energy, np.mean(exp_vals))\n",
    "\n",
    "print(f'Expected ground state energy: {gs_energy:.10f}')\n",
    "print(f'Min computed ground state energy: {np.min(exp_vals):.10f}')\n",
    "print(f'Relative error: {rel_error_min:.8f}')\n",
    "\n",
    "print(f'Max computed ground state energy: {np.max(exp_vals):.10f}')\n",
    "print(f'Relative error: {rel_error_max:.8f}')\n",
    "\n",
    "print(f'Avg computed ground state energy: {np.mean(exp_vals):.10f}')\n",
    "print(f'Relative error: {rel_error_avg:.8f}')"
   ]
  },
  {
   "cell_type": "markdown",
   "id": "90414d6c",
   "metadata": {},
   "source": [
    "### Simulation on Latest FakeGuadalupe"
   ]
  },
  {
   "cell_type": "code",
   "execution_count": 66,
   "id": "07553bd7",
   "metadata": {},
   "outputs": [],
   "source": [
    "noise_model_latest = NoiseModel.from_backend(noisy_sim_latest)\n",
    "options = get_options(noisy_sim_latest, noise_model_latest)\n",
    "backend_names = [\"ibmq_qasm_simulator\"]"
   ]
  },
  {
   "cell_type": "code",
   "execution_count": 67,
   "id": "ee695d41",
   "metadata": {},
   "outputs": [],
   "source": [
    "mapping = get_mapping(temp_qc)\n",
    "\n",
    "exp_vals = []\n",
    "\n",
    "mit = mthree.M3Mitigation(noisy_sim_latest)\n",
    "mit.cals_from_system(mapping)\n",
    "\n",
    "num_trials = 100\n",
    "full_circs = [temp_qc]*num_trials\n",
    "    \n",
    "with Session(service=service, backend=backend) as session:\n",
    "    rt_sampler = RuntimeSampler(session=session, options=options)\n",
    "    \n",
    "    s = time()\n",
    "    \n",
    "    job = rt_sampler.run(full_circs)\n",
    "    res = job.result()\n",
    "\n",
    "    e = time()\n",
    "    avg_time = (e-s)/num_trials\n",
    "\n",
    "    counts = get_counts(res)\n",
    "    \n",
    "    \n",
    "    for count in counts:\n",
    "        probs = [count]*3\n",
    "        exp_val = get_exp_value(probs, mapping, noisy_sim_latest, mit)\n",
    "        exp_vals.append(exp_val)\n",
    "        \n",
    "        with open('Two-Local-cloud-fake-guadalupe-latest.npy', 'wb') as f:\n",
    "            np.save(f, np.array([avg_time]))\n",
    "            np.save(f, np.array([exp_vals]))"
   ]
  },
  {
   "cell_type": "code",
   "execution_count": 68,
   "id": "f4b44831",
   "metadata": {},
   "outputs": [
    {
     "name": "stdout",
     "output_type": "stream",
     "text": [
      "Avg run time: 1.9998020696640015\n",
      "Avg exp val: -17.50334142962035\n",
      "Std exp val: 0.14440636451820332\n"
     ]
    }
   ],
   "source": [
    "print(\"Avg run time:\", avg_time)\n",
    "print(\"Avg exp val:\", np.mean(exp_vals))\n",
    "print(\"Std exp val:\", np.std(exp_vals))"
   ]
  },
  {
   "cell_type": "code",
   "execution_count": 69,
   "id": "455c73f0",
   "metadata": {},
   "outputs": [
    {
     "data": {
      "image/png": "[encoded data removed]",
      "text/plain": [
       "<Figure size 500x500 with 1 Axes>"
      ]
     },
     "metadata": {},
     "output_type": "display_data"
    }
   ],
   "source": [
    "sns.displot(exp_vals, kde=True);"
   ]
  },
  {
   "cell_type": "code",
   "execution_count": 70,
   "id": "6baa21be",
   "metadata": {},
   "outputs": [
    {
     "name": "stdout",
     "output_type": "stream",
     "text": [
      "Expected ground state energy: -18.0000000000\n",
      "Min computed ground state energy: -17.8443815470\n",
      "Relative error: 0.00864547\n",
      "Max computed ground state energy: -17.1374859568\n",
      "Relative error: 0.04791745\n",
      "Avg computed ground state energy: -17.5033414296\n",
      "Relative error: 0.02759214\n"
     ]
    }
   ],
   "source": [
    "# Compute the relative error between the expected ground state energy and the VQE's output\n",
    "rel_error_max = rel_err(gs_energy, np.max(exp_vals))\n",
    "rel_error_min = rel_err(gs_energy, np.min(exp_vals))\n",
    "rel_error_avg = rel_err(gs_energy, np.mean(exp_vals))\n",
    "\n",
    "print(f'Expected ground state energy: {gs_energy:.10f}')\n",
    "print(f'Min computed ground state energy: {np.min(exp_vals):.10f}')\n",
    "print(f'Relative error: {rel_error_min:.8f}')\n",
    "\n",
    "print(f'Max computed ground state energy: {np.max(exp_vals):.10f}')\n",
    "print(f'Relative error: {rel_error_max:.8f}')\n",
    "\n",
    "print(f'Avg computed ground state energy: {np.mean(exp_vals):.10f}')\n",
    "print(f'Relative error: {rel_error_avg:.8f}')"
   ]
  },
  {
   "cell_type": "markdown",
   "id": "e3828558",
   "metadata": {},
   "source": [
    "### Simulation on FakeGuadalupe with $R_{ZX}$ Gate Optimization"
   ]
  },
  {
   "cell_type": "code",
   "execution_count": 56,
   "id": "ce514d14",
   "metadata": {},
   "outputs": [],
   "source": [
    "noise_model = NoiseModel.from_backend(noisy_sim)\n",
    "options = get_options(noisy_sim, noise_model)\n",
    "backend_names = [\"ibmq_qasm_simulator\"]"
   ]
  },
  {
   "cell_type": "code",
   "execution_count": 57,
   "id": "2d10b3fd",
   "metadata": {},
   "outputs": [],
   "source": [
    "mapping = get_mapping(ansatz_opt_rzx)\n",
    "\n",
    "exp_vals = []\n",
    "\n",
    "mit = mthree.M3Mitigation(noisy_sim)\n",
    "mit.cals_from_system(mapping)\n",
    "\n",
    "num_trials = 100\n",
    "full_circs = [ansatz_opt_rzx]*num_trials\n",
    "    \n",
    "with Session(service=service, backend=backend) as session:\n",
    "    rt_sampler = RuntimeSampler(session=session, options=options)\n",
    "    \n",
    "    s = time()\n",
    "    \n",
    "    job = rt_sampler.run(full_circs)\n",
    "    res = job.result()\n",
    "\n",
    "    e = time()\n",
    "    avg_time = (e-s)/num_trials\n",
    "\n",
    "    counts = get_counts(res)\n",
    "    \n",
    "    \n",
    "    for count in counts:\n",
    "        probs = [count]*3\n",
    "        exp_val = get_exp_value(probs, mapping, noisy_sim, mit)\n",
    "        exp_vals.append(exp_val)\n",
    "        \n",
    "        with open('Two-Local-cloud-fake-guadalupe-rzx.npy', 'wb') as f:\n",
    "            np.save(f, np.array([avg_time]))\n",
    "            np.save(f, np.array([exp_vals]))"
   ]
  },
  {
   "cell_type": "code",
   "execution_count": 58,
   "id": "fd8ee3b1",
   "metadata": {},
   "outputs": [
    {
     "name": "stdout",
     "output_type": "stream",
     "text": [
      "Avg run time: 2.1490678906440737\n",
      "Avg exp val: -18.0894884422378\n",
      "Std exp val: 0.1554949480080604\n"
     ]
    }
   ],
   "source": [
    "print(\"Avg run time:\", avg_time)\n",
    "print(\"Avg exp val:\", np.mean(exp_vals))\n",
    "print(\"Std exp val:\", np.std(exp_vals))"
   ]
  },
  {
   "cell_type": "code",
   "execution_count": 59,
   "id": "83350469",
   "metadata": {},
   "outputs": [
    {
     "data": {
      "image/png": "[encoded data removed]",
      "text/plain": [
       "<Figure size 500x500 with 1 Axes>"
      ]
     },
     "metadata": {},
     "output_type": "display_data"
    }
   ],
   "source": [
    "sns.displot(exp_vals, kde=True);"
   ]
  },
  {
   "cell_type": "code",
   "execution_count": 60,
   "id": "98b661a3",
   "metadata": {},
   "outputs": [
    {
     "name": "stdout",
     "output_type": "stream",
     "text": [
      "Expected ground state energy: -18.0000000000\n",
      "Min computed ground state energy: -18.5310556460\n",
      "Relative error: 0.02950309\n",
      "Max computed ground state energy: -17.7279175787\n",
      "Relative error: 0.01511569\n",
      "Avg computed ground state energy: -18.0894884422\n",
      "Relative error: 0.00497158\n"
     ]
    }
   ],
   "source": [
    "# Compute the relative error between the expected ground state energy and the VQE's output\n",
    "rel_error_max = rel_err(gs_energy, np.max(exp_vals))\n",
    "rel_error_min = rel_err(gs_energy, np.min(exp_vals))\n",
    "rel_error_avg = rel_err(gs_energy, np.mean(exp_vals))\n",
    "\n",
    "print(f'Expected ground state energy: {gs_energy:.10f}')\n",
    "print(f'Min computed ground state energy: {np.min(exp_vals):.10f}')\n",
    "print(f'Relative error: {rel_error_min:.8f}')\n",
    "\n",
    "print(f'Max computed ground state energy: {np.max(exp_vals):.10f}')\n",
    "print(f'Relative error: {rel_error_max:.8f}')\n",
    "\n",
    "print(f'Avg computed ground state energy: {np.mean(exp_vals):.10f}')\n",
    "print(f'Relative error: {rel_error_avg:.8f}')"
   ]
  },
  {
   "cell_type": "markdown",
   "id": "e6b2162d",
   "metadata": {},
   "source": [
    "### Simulation on Latest FakeGuadalupe with $R_{ZX}$ Gate Optimization"
   ]
  },
  {
   "cell_type": "code",
   "execution_count": 81,
   "id": "8fa70ee1",
   "metadata": {},
   "outputs": [],
   "source": [
    "noise_model_latest = NoiseModel.from_backend(noisy_sim_latest)\n",
    "options = get_options(noisy_sim_latest, noise_model_latest)\n",
    "backend_names = [\"ibmq_qasm_simulator\"]"
   ]
  },
  {
   "cell_type": "code",
   "execution_count": 82,
   "id": "6034011e",
   "metadata": {},
   "outputs": [],
   "source": [
    "mapping = get_mapping(ansatz_opt_rzx)\n",
    "\n",
    "exp_vals = []\n",
    "\n",
    "mit = mthree.M3Mitigation(noisy_sim_latest)\n",
    "mit.cals_from_system(mapping)\n",
    "\n",
    "num_trials = 100\n",
    "full_circs = [ansatz_opt_rzx]*num_trials\n",
    "    \n",
    "with Session(service=service, backend=backend) as session:\n",
    "    rt_sampler = RuntimeSampler(session=session, options=options)\n",
    "    \n",
    "    s = time()\n",
    "    \n",
    "    job = rt_sampler.run(full_circs)\n",
    "    res = job.result()\n",
    "\n",
    "    e = time()\n",
    "    avg_time = (e-s)/num_trials\n",
    "\n",
    "    counts = get_counts(res)\n",
    "    \n",
    "    \n",
    "    for count in counts:\n",
    "        probs = [count]*3\n",
    "        exp_val = get_exp_value(probs, mapping, noisy_sim_latest, mit)\n",
    "        exp_vals.append(exp_val)\n",
    "        \n",
    "        with open('Two-Local-cloud-fake-guadalupe-rzx-latest.npy', 'wb') as f:\n",
    "            np.save(f, np.array([avg_time]))\n",
    "            np.save(f, np.array([exp_vals]))"
   ]
  },
  {
   "cell_type": "code",
   "execution_count": 83,
   "id": "6a0e0d4f",
   "metadata": {},
   "outputs": [
    {
     "name": "stdout",
     "output_type": "stream",
     "text": [
      "Avg run time: 5.943863773345948\n",
      "Avg exp val: -17.33955274262737\n",
      "Std exp val: 0.14656630814983385\n"
     ]
    }
   ],
   "source": [
    "print(\"Avg run time:\", avg_time)\n",
    "print(\"Avg exp val:\", np.mean(exp_vals))\n",
    "print(\"Std exp val:\", np.std(exp_vals))"
   ]
  },
  {
   "cell_type": "code",
   "execution_count": 84,
   "id": "47886571",
   "metadata": {},
   "outputs": [
    {
     "data": {
      "image/png": "[encoded data removed]",
      "text/plain": [
       "<Figure size 500x500 with 1 Axes>"
      ]
     },
     "metadata": {},
     "output_type": "display_data"
    }
   ],
   "source": [
    "sns.displot(exp_vals, kde=True);"
   ]
  },
  {
   "cell_type": "code",
   "execution_count": 85,
   "id": "66db4096",
   "metadata": {},
   "outputs": [
    {
     "name": "stdout",
     "output_type": "stream",
     "text": [
      "Expected ground state energy: -18.0000000000\n",
      "Min computed ground state energy: -17.6591546261\n",
      "Relative error: 0.01893585\n",
      "Max computed ground state energy: -17.0244746224\n",
      "Relative error: 0.05419585\n",
      "Avg computed ground state energy: -17.3395527426\n",
      "Relative error: 0.03669151\n"
     ]
    }
   ],
   "source": [
    "# Compute the relative error between the expected ground state energy and the VQE's output\n",
    "rel_error_max = rel_err(gs_energy, np.max(exp_vals))\n",
    "rel_error_min = rel_err(gs_energy, np.min(exp_vals))\n",
    "rel_error_avg = rel_err(gs_energy, np.mean(exp_vals))\n",
    "\n",
    "print(f'Expected ground state energy: {gs_energy:.10f}')\n",
    "print(f'Min computed ground state energy: {np.min(exp_vals):.10f}')\n",
    "print(f'Relative error: {rel_error_min:.8f}')\n",
    "\n",
    "print(f'Max computed ground state energy: {np.max(exp_vals):.10f}')\n",
    "print(f'Relative error: {rel_error_max:.8f}')\n",
    "\n",
    "print(f'Avg computed ground state energy: {np.mean(exp_vals):.10f}')\n",
    "print(f'Relative error: {rel_error_avg:.8f}')"
   ]
  },
  {
   "cell_type": "markdown",
   "id": "cf559041",
   "metadata": {},
   "source": [
    "### Results\n",
    "\n",
    "With all the different settings were able to reach the 1% threshold execpt for the last one. As stated earlier, this seems to be an issue with `AerSimulator` which we are not sure of. To conclude, we obtained the eenrgy value within 1% threshold on the noisy simulator with latest calibrated data."
   ]
  },
  {
   "cell_type": "markdown",
   "id": "0da9d88a",
   "metadata": {},
   "source": [
    "## 3-2 Qiskit runtime Real backend (ibmq_guadalupe)\n",
    "\n",
    "If our `qiskit_ibm_runtime` code is working on the cloud simulator backend, we can simply change the backend to the ibmq_guadalupe to run on the real backend. This may take a couple hours. Your performance score will be determined by the calculated relative error between the true ground state energy of -18.0 and the measured energy from the real ibmq_guadalupe backend.\n",
    "\n",
    "We were not able to run on IBM's Guadalupe due to high queue count but can be executed from the cells below. For much accurate results increase the `num_trials` and tune the `rl` (resilience level) and `shots`.\n",
    "\n",
    "![queue](images/queue.png)"
   ]
  },
  {
   "cell_type": "code",
   "execution_count": 86,
   "id": "1fff7854",
   "metadata": {},
   "outputs": [],
   "source": [
    "service = QiskitRuntimeService(channel='ibm_quantum')\n",
    "\n",
    "backend = 'ibmq_guadalupe'"
   ]
  },
  {
   "cell_type": "code",
   "execution_count": 87,
   "id": "9e966c46",
   "metadata": {},
   "outputs": [],
   "source": [
    "def get_real_backend_options(shots=1024, rl =0):\n",
    "    options = Options()\n",
    "\n",
    "    # Set number of shots, optimization_level and resilience_level\n",
    "    options.execution.shots = shots\n",
    "    options.resilience_level = rl\n",
    "    return options"
   ]
  },
  {
   "cell_type": "code",
   "execution_count": 88,
   "id": "5296fe72",
   "metadata": {},
   "outputs": [],
   "source": [
    "options = get_real_backend_options(shots=1024, rl=1)"
   ]
  },
  {
   "cell_type": "markdown",
   "id": "2fdc49d2",
   "metadata": {},
   "source": [
    "### Execution on Guadalupe"
   ]
  },
  {
   "cell_type": "code",
   "execution_count": null,
   "id": "18375c3e",
   "metadata": {},
   "outputs": [],
   "source": [
    "mapping = get_mapping(temp_qc)\n",
    "\n",
    "exp_vals = []\n",
    "\n",
    "mit = mthree.M3Mitigation(noisy_sim_latest)\n",
    "mit.cals_from_system(mapping)\n",
    "\n",
    "num_trials = 1000\n",
    "full_circs = [temp_qc]*num_trials\n",
    "    \n",
    "with Session(service=service, backend=backend) as session:\n",
    "    rt_sampler = RuntimeSampler(session=session, options=options)\n",
    "    \n",
    "    s = time()\n",
    "    \n",
    "    job = rt_sampler.run(full_circs)\n",
    "    res = job.result()\n",
    "\n",
    "    e = time()\n",
    "    avg_time = (e-s)/num_trials\n",
    "\n",
    "    counts = get_counts(res)\n",
    "    \n",
    "    for count in counts:\n",
    "        probs = [count]*3\n",
    "        exp_val = get_exp_value(probs, mapping, noisy_sim_latest, mit)\n",
    "        exp_vals.append(exp_val)\n",
    "        \n",
    "        with open('Two-Local-cloud-real-guadalupe.npy', 'wb') as f:\n",
    "            np.save(f, np.array([avg_time]))\n",
    "            np.save(f, np.array([exp_vals]))"
   ]
  },
  {
   "cell_type": "code",
   "execution_count": null,
   "id": "651fda2e",
   "metadata": {},
   "outputs": [],
   "source": [
    "print(\"Avg run time:\", avg_time)\n",
    "print(\"Avg exp val:\", np.mean(exp_vals))\n",
    "print(\"Std exp val:\", np.std(exp_vals))"
   ]
  },
  {
   "cell_type": "code",
   "execution_count": null,
   "id": "e105b21a",
   "metadata": {},
   "outputs": [],
   "source": [
    "sns.displot(exp_vals, kde=True);"
   ]
  },
  {
   "cell_type": "code",
   "execution_count": null,
   "id": "af542d57",
   "metadata": {},
   "outputs": [],
   "source": [
    "# Compute the relative error between the expected ground state energy and the VQE's output\n",
    "rel_error_max = rel_err(gs_energy, np.max(exp_vals))\n",
    "rel_error_min = rel_err(gs_energy, np.min(exp_vals))\n",
    "rel_error_avg = rel_err(gs_energy, np.mean(exp_vals))\n",
    "\n",
    "print(f'Expected ground state energy: {gs_energy:.10f}')\n",
    "print(f'Min computed ground state energy: {np.min(exp_vals):.10f}')\n",
    "print(f'Relative error: {rel_error_min:.8f}')\n",
    "\n",
    "print(f'Max computed ground state energy: {np.max(exp_vals):.10f}')\n",
    "print(f'Relative error: {rel_error_max:.8f}')\n",
    "\n",
    "print(f'Avg computed ground state energy: {np.mean(exp_vals):.10f}')\n",
    "print(f'Relative error: {rel_error_avg:.8f}')"
   ]
  },
  {
   "cell_type": "markdown",
   "id": "27a1bafa",
   "metadata": {},
   "source": [
    "### Execution on Guadalupe with $R_{ZX}$ Gate Optimization"
   ]
  },
  {
   "cell_type": "code",
   "execution_count": null,
   "id": "a0d157f4",
   "metadata": {},
   "outputs": [],
   "source": [
    "mapping = get_mapping(ansatz_opt_rzx)\n",
    "\n",
    "exp_vals = []\n",
    "\n",
    "mit = mthree.M3Mitigation(noisy_sim_latest)\n",
    "mit.cals_from_system(mapping)\n",
    "\n",
    "num_trials = 1000\n",
    "full_circs = [ansatz_opt_rzx]*num_trials\n",
    "    \n",
    "with Session(service=service, backend=backend) as session:\n",
    "    rt_sampler = RuntimeSampler(session=session, options=options)\n",
    "    \n",
    "    s = time()\n",
    "    \n",
    "    job = rt_sampler.run(full_circs)\n",
    "    res = job.result()\n",
    "\n",
    "    e = time()\n",
    "    avg_time = (e-s)/num_trials\n",
    "\n",
    "    counts = get_counts(res)\n",
    "    \n",
    "    \n",
    "    for count in counts:\n",
    "        probs = [count]*3\n",
    "        exp_val = get_exp_value(probs, mapping, noisy_sim_latest, mit)\n",
    "        exp_vals.append(exp_val)\n",
    "        \n",
    "        with open('Two-Local-cloud-real-guadalupe-rzx-latest.npy', 'wb') as f:\n",
    "            np.save(f, np.array([avg_time]))\n",
    "            np.save(f, np.array([exp_vals]))"
   ]
  },
  {
   "cell_type": "code",
   "execution_count": null,
   "id": "035f3a28",
   "metadata": {},
   "outputs": [],
   "source": [
    "print(\"Avg run time:\", avg_time)\n",
    "print(\"Avg exp val:\", np.mean(exp_vals))\n",
    "print(\"Std exp val:\", np.std(exp_vals))"
   ]
  },
  {
   "cell_type": "code",
   "execution_count": null,
   "id": "4bd8ec37",
   "metadata": {},
   "outputs": [],
   "source": [
    "sns.displot(exp_vals, kde=True);"
   ]
  },
  {
   "cell_type": "code",
   "execution_count": null,
   "id": "42e7eb9b",
   "metadata": {},
   "outputs": [],
   "source": [
    "# Compute the relative error between the expected ground state energy and the VQE's output\n",
    "rel_error_max = rel_err(gs_energy, np.max(exp_vals))\n",
    "rel_error_min = rel_err(gs_energy, np.min(exp_vals))\n",
    "rel_error_avg = rel_err(gs_energy, np.mean(exp_vals))\n",
    "\n",
    "print(f'Expected ground state energy: {gs_energy:.10f}')\n",
    "print(f'Min computed ground state energy: {np.min(exp_vals):.10f}')\n",
    "print(f'Relative error: {rel_error_min:.8f}')\n",
    "\n",
    "print(f'Max computed ground state energy: {np.max(exp_vals):.10f}')\n",
    "print(f'Relative error: {rel_error_max:.8f}')\n",
    "\n",
    "print(f'Avg computed ground state energy: {np.mean(exp_vals):.10f}')\n",
    "print(f'Relative error: {rel_error_avg:.8f}')"
   ]
  },
  {
   "cell_type": "markdown",
   "id": "d15b7a99",
   "metadata": {},
   "source": [
    "## 4-1 What's next?\n",
    "\n",
    "In the next notebook, we use a similar hardware-efficient ansatz but with a lesser depth. The procedure remains the same."
   ]
  },
  {
   "cell_type": "markdown",
   "id": "6216e76d",
   "metadata": {},
   "source": [
    "## 5-1 References\n",
    "\n",
    "\\[1\\] \"Modern condensed matter physics.\" Girvin, Steven M., and Kun Yang. Cambridge University Press, (2019).\n",
    "\n",
    "\\[2\\] \"Spin liquids in frustrated magnets.\" Balents, Leon. [Nature 464, 199–208](https://doi.org/10.1038/nature08917) (2010). \n",
    "\n",
    "\\[3\\] \"Probing topological spin liquids on a programmable quantum simulator.\" Semeghini, Giulia, et al. [Science 374.6572: 1242-1247.](https://www.science.org/doi/10.1126/science.abi8794) (2021). [arXiv link](https://arxiv.org/abs/2104.04119)\n",
    "\n",
    "\\[4\\] \"Kagome: The Story of the Basketweave Lattice.\" Mekata, Mamoru. [Physics Today 56, 2, 12](https://physicstoday.scitation.org/doi/10.1063/1.1564329) (2003).\n",
    "\n",
    "\\[5\\] \"A variational eigenvalue solver on a quantum processor.\" A. Peruzzo, et al. [arXiv:1304.3061](https://arxiv.org/abs/1304.3061) [quant-ph] (2013).\n",
    "\n",
    "\\[6\\] \"Variational quantum algorithms.\" M. Cerezo, et al. [arXiv:2012.09265v2](https://arxiv.org/abs/2012.09265v2) [quant-ph] (2021).\n",
    "\n",
    "\\[7\\] \"The Variational Quantum Eigensolver: a review of methods and best practices.\" J. Tilly, et al. [arXiv:2111.05176v3](https://arxiv.org/abs/2111.05176v3) [quant-ph] (2022).\n",
    "\n",
    "\\[8\\] Bosse, Jan & Montanaro, Ashley. (2021). [Probing ground state properties of the kagome antiferromagnetic Heisenberg model using the Variational Quantum Eigensolver](https://arxiv.org/pdf/2108.08086.pdf). \n",
    "\n",
    "\\[9\\] Kattemölle, J. and van Wezel, J., [Variational quantum eigensolver for the Heisenberg antiferromagnet on the kagome lattice](https://arxiv.org/pdf/2108.02175.pdf), <i>Physical Review B</i>, vol. 106, no. 21, 2022. doi:10.1103/PhysRevB.106.214429.\n",
    "\n",
    "\\[10\\] [Molecular Energy Landscapes of Hardware-Efficient Ansätze in Quantum Computing Boy Choy and David J. Wales](https://pubs.acs.org/doi/10.1021/acs.jctc.2c01057) Journal of Chemical Theory and Computation 2023 19 (4), 1197-1206 DOI: 10.1021/acs.jctc.2c01057\n",
    "\n",
    "\\[11\\] \"Using models to improve optimizers for variational quantum algorithms\" K. Sung, et al. [arXiv:2005.11011v2](https://arxiv.org/abs/2005.11011v2) [quant-ph] (2020)\n",
    "\n",
    "\\[12\\] Ville Bergholm et al. PennyLane: Automatic differentiation of hybrid quantum-classical computations. 2018. [arXiv:1811.04968](https://arxiv.org/abs/1811.04968)\n",
    "\n",
    "\\[13\\] “Scalable Mitigation of Measurement Errors on Quantum Computers”, Paul D. Nation, Hwajung Kang, Neereja Sundaresan, and Jay M. Gambetta, PRX Quantum 2, 040326 (2021).\n",
    "\n",
    "\\[14\\] Ferris, Kaelyn & Rasmusson, A. & Bronn, Nick & Lanes, Olivia. (2022). Quantum Simulation on Noisy Superconducting Quantum Computers. 10.48550/arXiv.2209.02795. "
   ]
  }
 ],
 "metadata": {
  "kernelspec": {
   "display_name": "Python (osp)",
   "language": "python",
   "name": "osp"
  },
  "language_info": {
   "codemirror_mode": {
    "name": "ipython",
    "version": 3
   },
   "file_extension": ".py",
   "mimetype": "text/x-python",
   "name": "python",
   "nbconvert_exporter": "python",
   "pygments_lexer": "ipython3",
   "version": "3.8.1"
  }
 },
 "nbformat": 4,
 "nbformat_minor": 5
}
